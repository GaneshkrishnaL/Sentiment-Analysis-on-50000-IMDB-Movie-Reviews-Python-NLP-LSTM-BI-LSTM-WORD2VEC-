{
 "cells": [
  {
   "cell_type": "markdown",
   "id": "9016af83",
   "metadata": {
    "id": "RNSu4BVLfTgE",
    "papermill": {
     "duration": 0.009979,
     "end_time": "2023-11-18T09:34:09.413810",
     "exception": false,
     "start_time": "2023-11-18T09:34:09.403831",
     "status": "completed"
    },
    "tags": []
   },
   "source": [
    "## Importing the Libraries"
   ]
  },
  {
   "cell_type": "code",
   "execution_count": 1,
   "id": "fa0c012e",
   "metadata": {
    "_cell_guid": "b1076dfc-b9ad-4769-8c92-a6c4dae69d19",
    "_uuid": "8f2839f25d086af736a60e9eeb907d3b93b6e0e5",
    "execution": {
     "iopub.execute_input": "2023-11-18T09:34:09.434307Z",
     "iopub.status.busy": "2023-11-18T09:34:09.433961Z",
     "iopub.status.idle": "2023-11-18T09:34:40.162326Z",
     "shell.execute_reply": "2023-11-18T09:34:40.161254Z"
    },
    "id": "KGJe1qUmfTgI",
    "papermill": {
     "duration": 30.750839,
     "end_time": "2023-11-18T09:34:40.174207",
     "exception": false,
     "start_time": "2023-11-18T09:34:09.423368",
     "status": "completed"
    },
    "tags": []
   },
   "outputs": [
    {
     "name": "stdout",
     "output_type": "stream",
     "text": [
      "[nltk_data] Error loading stopwords: <urlopen error [Errno -3]\n",
      "[nltk_data]     Temporary failure in name resolution>\n"
     ]
    }
   ],
   "source": [
    "import numpy as np\n",
    "import pandas as pd\n",
    "import warnings\n",
    "import random\n",
    "warnings.filterwarnings(\"ignore\")\n",
    "import matplotlib.pyplot as plt\n",
    "import seaborn as sns\n",
    "import re\n",
    "from tqdm import tqdm # for progress bars.\n",
    "import tensorflow as tf\n",
    "from tensorflow.keras.preprocessing.text import Tokenizer\n",
    "from tensorflow.keras.preprocessing.sequence import pad_sequences\n",
    "from tensorflow.keras.callbacks import EarlyStopping\n",
    "from tensorflow.keras.models import Sequential\n",
    "from tensorflow.keras.layers import Embedding, GlobalAveragePooling1D, Dense, Dropout, LSTM, Bidirectional\n",
    "from sklearn.metrics import accuracy_score\n",
    "from sklearn.metrics import precision_score\n",
    "from sklearn.metrics import recall_score\n",
    "from sklearn.metrics import f1_score\n",
    "from sklearn.metrics import roc_curve\n",
    "from sklearn.metrics import roc_auc_score\n",
    "from sklearn.metrics import cohen_kappa_score\n",
    "from sklearn.metrics import classification_report\n",
    "from sklearn.metrics import roc_auc_score\n",
    "from sklearn.metrics import confusion_matrix\n",
    "from tensorflow.keras.optimizers import Adam\n",
    "from tensorflow.keras.callbacks import EarlyStopping\n",
    "from keras.models import Sequential\n",
    "import nltk\n",
    "from nltk.corpus import stopwords\n",
    "nltk.download('stopwords')\n",
    "import re\n",
    "#need to have bs4 installed using !pip install bs4\n",
    "from bs4 import BeautifulSoup\n",
    "\n"
   ]
  },
  {
   "cell_type": "markdown",
   "id": "6252d9ee",
   "metadata": {
    "id": "8-761VF5fTgJ",
    "papermill": {
     "duration": 0.009288,
     "end_time": "2023-11-18T09:34:40.193226",
     "exception": false,
     "start_time": "2023-11-18T09:34:40.183938",
     "status": "completed"
    },
    "tags": []
   },
   "source": [
    "### Loading my preprocessed dataset using pandas!"
   ]
  },
  {
   "cell_type": "code",
   "execution_count": 2,
   "id": "152bc8f2",
   "metadata": {
    "execution": {
     "iopub.execute_input": "2023-11-18T09:34:40.214000Z",
     "iopub.status.busy": "2023-11-18T09:34:40.213362Z",
     "iopub.status.idle": "2023-11-18T09:34:43.112511Z",
     "shell.execute_reply": "2023-11-18T09:34:43.111607Z"
    },
    "id": "pj9Kvlh4fTgK",
    "outputId": "00cbcf54-e3b0-411f-ec6f-3bf081bb36ac",
    "papermill": {
     "duration": 2.911794,
     "end_time": "2023-11-18T09:34:43.114619",
     "exception": false,
     "start_time": "2023-11-18T09:34:40.202825",
     "status": "completed"
    },
    "tags": []
   },
   "outputs": [
    {
     "data": {
      "text/plain": [
       "Index(['Review', 'Category', 'preprocessed_Reviews',\n",
       "       'Length_of_PreprocReviews'],\n",
       "      dtype='object')"
      ]
     },
     "execution_count": 2,
     "metadata": {},
     "output_type": "execute_result"
    }
   ],
   "source": [
    "movie_reviews=pd.read_csv('/kaggle/input/moviespreproc/preprocessed_data.csv')\n",
    "lengths_of_reviews = []\n",
    "for x in movie_reviews[\"preprocessed_Reviews\"] :\n",
    "    lengths_of_reviews.append(len(x.split()))\n",
    "\n",
    "movie_reviews[\"Length_of_PreprocReviews\"] = lengths_of_reviews # adding length column to df\n",
    "movie_reviews.columns           # prints all columns in dataframe\n",
    "\n"
   ]
  },
  {
   "cell_type": "markdown",
   "id": "b4e54f1e",
   "metadata": {
    "papermill": {
     "duration": 0.009523,
     "end_time": "2023-11-18T09:34:43.134170",
     "exception": false,
     "start_time": "2023-11-18T09:34:43.124647",
     "status": "completed"
    },
    "tags": []
   },
   "source": [
    "# Viz of review length distribution for tuning max review length"
   ]
  },
  {
   "cell_type": "code",
   "execution_count": 3,
   "id": "5b0a2283",
   "metadata": {
    "execution": {
     "iopub.execute_input": "2023-11-18T09:34:43.154479Z",
     "iopub.status.busy": "2023-11-18T09:34:43.154162Z",
     "iopub.status.idle": "2023-11-18T09:34:43.522950Z",
     "shell.execute_reply": "2023-11-18T09:34:43.522036Z"
    },
    "papermill": {
     "duration": 0.381862,
     "end_time": "2023-11-18T09:34:43.525578",
     "exception": false,
     "start_time": "2023-11-18T09:34:43.143716",
     "status": "completed"
    },
    "tags": []
   },
   "outputs": [
    {
     "data": {
      "image/png": "[encoded data removed]",
      "text/plain": [
       "<Figure size 800x600 with 1 Axes>"
      ]
     },
     "metadata": {},
     "output_type": "display_data"
    }
   ],
   "source": [
    "lengths = movie_reviews[\"Length_of_PreprocReviews\"]\n",
    "\n",
    "# Plotting the distribution of review lengths\n",
    "plt.figure(figsize=(8, 6))\n",
    "plt.hist(lengths, bins=30, color='skyblue', edgecolor='black')\n",
    "plt.title('Distribution of Movie Review Lengths')\n",
    "plt.xlabel('Review Length')\n",
    "plt.ylabel('Frequency')\n",
    "plt.grid(True)\n",
    "plt.show()"
   ]
  },
  {
   "cell_type": "markdown",
   "id": "b3c58c4a",
   "metadata": {
    "id": "G_TOzRW9fTgV",
    "papermill": {
     "duration": 0.010026,
     "end_time": "2023-11-18T09:34:43.550431",
     "exception": false,
     "start_time": "2023-11-18T09:34:43.540405",
     "status": "completed"
    },
    "tags": []
   },
   "source": [
    "## Split into XTrain, Ytrain , and XTest and YTest 80/20 split"
   ]
  },
  {
   "cell_type": "code",
   "execution_count": 4,
   "id": "4f3cd60f",
   "metadata": {
    "execution": {
     "iopub.execute_input": "2023-11-18T09:34:43.574354Z",
     "iopub.status.busy": "2023-11-18T09:34:43.574025Z",
     "iopub.status.idle": "2023-11-18T09:34:43.585847Z",
     "shell.execute_reply": "2023-11-18T09:34:43.584955Z"
    },
    "id": "pZ3q9GnjfTgV",
    "papermill": {
     "duration": 0.027505,
     "end_time": "2023-11-18T09:34:43.588170",
     "exception": false,
     "start_time": "2023-11-18T09:34:43.560665",
     "status": "completed"
    },
    "tags": []
   },
   "outputs": [],
   "source": [
    "sentiments = movie_reviews['Category'].values\n",
    "from sklearn.model_selection import train_test_split\n",
    "X_train, X_test, Y_train, Y_test = train_test_split(movie_reviews[\"preprocessed_Reviews\"],sentiments, test_size=0.2, random_state=42)"
   ]
  },
  {
   "cell_type": "markdown",
   "id": "a7422619",
   "metadata": {
    "papermill": {
     "duration": 0.010486,
     "end_time": "2023-11-18T09:34:43.613123",
     "exception": false,
     "start_time": "2023-11-18T09:34:43.602637",
     "status": "completed"
    },
    "tags": []
   },
   "source": [
    "## Give Max review Length, Truncate Type and pre padding"
   ]
  },
  {
   "cell_type": "code",
   "execution_count": 5,
   "id": "f518dc1b",
   "metadata": {
    "execution": {
     "iopub.execute_input": "2023-11-18T09:34:43.635292Z",
     "iopub.status.busy": "2023-11-18T09:34:43.634458Z",
     "iopub.status.idle": "2023-11-18T09:34:43.639094Z",
     "shell.execute_reply": "2023-11-18T09:34:43.638342Z"
    },
    "id": "N9VQMx3jfTgZ",
    "papermill": {
     "duration": 0.017618,
     "end_time": "2023-11-18T09:34:43.641007",
     "exception": false,
     "start_time": "2023-11-18T09:34:43.623389",
     "status": "completed"
    },
    "tags": []
   },
   "outputs": [],
   "source": [
    "Max_Review_Length = 250\n",
    "forlargerReviews = \"post\"\n",
    "forsmallerReviews = \"pre\""
   ]
  },
  {
   "cell_type": "code",
   "execution_count": 6,
   "id": "761e53fd",
   "metadata": {
    "execution": {
     "iopub.execute_input": "2023-11-18T09:34:43.663070Z",
     "iopub.status.busy": "2023-11-18T09:34:43.662247Z",
     "iopub.status.idle": "2023-11-18T09:34:47.928270Z",
     "shell.execute_reply": "2023-11-18T09:34:47.927351Z"
    },
    "id": "2X8KnA7SfTgZ",
    "papermill": {
     "duration": 4.279318,
     "end_time": "2023-11-18T09:34:47.930467",
     "exception": false,
     "start_time": "2023-11-18T09:34:43.651149",
     "status": "completed"
    },
    "tags": []
   },
   "outputs": [
    {
     "data": {
      "text/plain": [
       "92722"
      ]
     },
     "execution_count": 6,
     "metadata": {},
     "output_type": "execute_result"
    }
   ],
   "source": [
    "special_token_for_padding = \"<OOOOOOE>\" #special token for words not in Vocabulary\n",
    "# builds vocabulary like each unique word gets a integer ID in form of dictionary.\n",
    "wrd = Tokenizer( char_level=False, oov_token = special_token_for_padding) #special_token_for_padding if word doesnt exist\n",
    "wrd.fit_on_texts(X_train)\n",
    "#total length of unique words in word index dictionary\n",
    "len(wrd.word_index)"
   ]
  },
  {
   "cell_type": "code",
   "execution_count": 7,
   "id": "2ddc98b9",
   "metadata": {
    "execution": {
     "iopub.execute_input": "2023-11-18T09:34:47.952606Z",
     "iopub.status.busy": "2023-11-18T09:34:47.952289Z",
     "iopub.status.idle": "2023-11-18T09:34:47.956615Z",
     "shell.execute_reply": "2023-11-18T09:34:47.955728Z"
    },
    "id": "OtuUA_dffTga",
    "papermill": {
     "duration": 0.01745,
     "end_time": "2023-11-18T09:34:47.958510",
     "exception": false,
     "start_time": "2023-11-18T09:34:47.941060",
     "status": "completed"
    },
    "tags": []
   },
   "outputs": [],
   "source": [
    "size_of_vocabulary = len(wrd.word_index)+1 "
   ]
  },
  {
   "cell_type": "code",
   "execution_count": 8,
   "id": "67413b80",
   "metadata": {
    "execution": {
     "iopub.execute_input": "2023-11-18T09:34:47.980400Z",
     "iopub.status.busy": "2023-11-18T09:34:47.979671Z",
     "iopub.status.idle": "2023-11-18T09:34:47.989342Z",
     "shell.execute_reply": "2023-11-18T09:34:47.988363Z"
    },
    "id": "03r3vuwDfTga",
    "outputId": "030659a3-9d40-43aa-b632-8f082a39a257",
    "papermill": {
     "duration": 0.022827,
     "end_time": "2023-11-18T09:34:47.991606",
     "exception": false,
     "start_time": "2023-11-18T09:34:47.968779",
     "status": "completed"
    },
    "tags": []
   },
   "outputs": [
    {
     "name": "stdout",
     "output_type": "stream",
     "text": [
      "all unique words\n"
     ]
    },
    {
     "data": {
      "text/plain": [
       "['<OOOOOOE>',\n",
       " 'movie',\n",
       " 'film',\n",
       " 'one',\n",
       " 'like',\n",
       " 'would',\n",
       " 'good',\n",
       " 'time',\n",
       " 'even',\n",
       " 'story']"
      ]
     },
     "execution_count": 8,
     "metadata": {},
     "output_type": "execute_result"
    }
   ],
   "source": [
    "unique_word_int_mappings = wrd.word_index\n",
    "print('all unique words')\n",
    "c = list(unique_word_int_mappings.keys())\n",
    "c[0:10]\n"
   ]
  },
  {
   "cell_type": "code",
   "execution_count": 9,
   "id": "e0f8e9cd",
   "metadata": {
    "execution": {
     "iopub.execute_input": "2023-11-18T09:34:48.013592Z",
     "iopub.status.busy": "2023-11-18T09:34:48.013299Z",
     "iopub.status.idle": "2023-11-18T09:34:48.021969Z",
     "shell.execute_reply": "2023-11-18T09:34:48.021044Z"
    },
    "papermill": {
     "duration": 0.021972,
     "end_time": "2023-11-18T09:34:48.024134",
     "exception": false,
     "start_time": "2023-11-18T09:34:48.002162",
     "status": "completed"
    },
    "tags": []
   },
   "outputs": [
    {
     "name": "stdout",
     "output_type": "stream",
     "text": [
      "Their respective int mappings\n"
     ]
    },
    {
     "data": {
      "text/plain": [
       "[1, 2, 3, 4, 5, 6, 7, 8, 9, 10]"
      ]
     },
     "execution_count": 9,
     "metadata": {},
     "output_type": "execute_result"
    }
   ],
   "source": [
    "print('Their respective int mappings')\n",
    "c = list(unique_word_int_mappings.values())\n",
    "c[0:10]"
   ]
  },
  {
   "cell_type": "code",
   "execution_count": 10,
   "id": "adce538b",
   "metadata": {
    "execution": {
     "iopub.execute_input": "2023-11-18T09:34:48.046664Z",
     "iopub.status.busy": "2023-11-18T09:34:48.046367Z",
     "iopub.status.idle": "2023-11-18T09:34:48.066903Z",
     "shell.execute_reply": "2023-11-18T09:34:48.065791Z"
    },
    "papermill": {
     "duration": 0.034088,
     "end_time": "2023-11-18T09:34:48.069059",
     "exception": false,
     "start_time": "2023-11-18T09:34:48.034971",
     "status": "completed"
    },
    "tags": []
   },
   "outputs": [
    {
     "name": "stdout",
     "output_type": "stream",
     "text": [
      "\n",
      "vocabulary of words - mappings \n",
      "\n",
      "Word: <OOOOOOE>, Index: 1\n",
      "Word: movie, Index: 2\n",
      "Word: film, Index: 3\n",
      "Word: one, Index: 4\n",
      "Word: like, Index: 5\n",
      "Word: would, Index: 6\n",
      "Word: good, Index: 7\n",
      "Word: time, Index: 8\n",
      "Word: even, Index: 9\n",
      "Word: story, Index: 10\n"
     ]
    }
   ],
   "source": [
    "# Get the first 5 key-value pairs\n",
    "print('\\nvocabulary of words - mappings \\n')\n",
    "top_5_pairs = list(unique_word_int_mappings.items())[:10]\n",
    "\n",
    "# Print the top 5 key-value pairs\n",
    "for key, value in top_5_pairs:\n",
    "    print(f'Word: {key}, Index: {value}')"
   ]
  },
  {
   "cell_type": "markdown",
   "id": "eb02be5d",
   "metadata": {
    "id": "l6nn8GzrfTga",
    "papermill": {
     "duration": 0.010584,
     "end_time": "2023-11-18T09:34:48.090817",
     "exception": false,
     "start_time": "2023-11-18T09:34:48.080233",
     "status": "completed"
    },
    "tags": []
   },
   "source": [
    "## Now converting each review from XTrain, Xtest into sequence of integer maps and padding :"
   ]
  },
  {
   "cell_type": "code",
   "execution_count": 11,
   "id": "beb2c07a",
   "metadata": {
    "execution": {
     "iopub.execute_input": "2023-11-18T09:34:48.113614Z",
     "iopub.status.busy": "2023-11-18T09:34:48.113266Z",
     "iopub.status.idle": "2023-11-18T09:34:52.252153Z",
     "shell.execute_reply": "2023-11-18T09:34:52.251346Z"
    },
    "id": "0_2IxpVhfTga",
    "papermill": {
     "duration": 4.152935,
     "end_time": "2023-11-18T09:34:52.254470",
     "exception": false,
     "start_time": "2023-11-18T09:34:48.101535",
     "status": "completed"
    },
    "tags": []
   },
   "outputs": [],
   "source": [
    "XTrainsequenceofWordmaps = wrd.texts_to_sequences(X_train)\n",
    "XTrainPaddedsequence = pad_sequences(XTrainsequenceofWordmaps, maxlen = Max_Review_Length, padding = forsmallerReviews, truncating = forlargerReviews )\n",
    "XTestsequenceofWordmaps = wrd.texts_to_sequences(X_test)\n",
    "XTestPaddedsequence = pad_sequences(XTestsequenceofWordmaps, maxlen = Max_Review_Length,padding = forsmallerReviews, truncating = forlargerReviews)"
   ]
  },
  {
   "cell_type": "code",
   "execution_count": 12,
   "id": "d743d943",
   "metadata": {
    "execution": {
     "iopub.execute_input": "2023-11-18T09:34:52.279167Z",
     "iopub.status.busy": "2023-11-18T09:34:52.278834Z",
     "iopub.status.idle": "2023-11-18T09:34:52.285759Z",
     "shell.execute_reply": "2023-11-18T09:34:52.284639Z"
    },
    "id": "wdkVrpRefTga",
    "outputId": "7f571ed5-fd62-4d0e-9fed-ba8314d20f24",
    "papermill": {
     "duration": 0.023287,
     "end_time": "2023-11-18T09:34:52.289095",
     "exception": false,
     "start_time": "2023-11-18T09:34:52.265808",
     "status": "completed"
    },
    "tags": []
   },
   "outputs": [
    {
     "name": "stdout",
     "output_type": "stream",
     "text": [
      "Movie Review before sequence of integer mapping:\n",
      " simple primitive evaluations simply say liked reasonably funny bits got great stars gorgeous look songs two repeated forgettable get healthy ironic treatment terribly handsome mr fairbanks exploding frenzied wagnerian version tender ballad miss grable rendered much dancing crinolines draped around miss grable comedy might bit heavy handed result still uplifting photography including real outdoor shots thrill amazing playing around different shades lush heavy gold miss grable bit past prime plumpish side still fresh comfortable continental olde worlde comedy pretty much along line earth rita hayworth one tends rather disliked many suppose several people would deem lady ermine outdated stuffy fairy tale tend move along certain paste anyhow suggestion enjoy artwork costumes witty script everything else film offer stop complaining film released dvd germany german english soundtrack\n",
      "\n",
      "Movie Review after sequence of integer mapping :\n",
      "  [454, 5372, 35472, 215, 49, 305, 3446, 60, 1535, 90, 19, 286, 1348, 68, 580, 32, 2418, 2364, 17, 5767, 2833, 2086, 1872, 2087, 323, 8036, 5968, 14496, 23622, 205, 3844, 11960, 562, 12400, 4916, 14, 919, 56753, 27881, 83, 562, 12400, 95, 123, 117, 1097, 2522, 789, 47, 4917, 1143, 444, 54, 8942, 513, 3881, 360, 270, 83, 164, 6145, 5530, 1097, 1490, 562, 12400, 117, 388, 2261, 56754, 356, 47, 1251, 3612, 22547, 29856, 56755, 95, 81, 14, 220, 228, 547, 3669, 5271, 4, 4125, 139, 4785, 31, 1186, 311, 18, 6, 15213, 653, 27882, 7125, 12401, 2871, 656, 2192, 687, 220, 627, 10962, 6008, 5808, 237, 5868, 1197, 1733, 119, 153, 210, 3, 1337, 408, 4756, 3, 481, 152, 2052, 869, 479, 599]\n",
      "\n",
      "Movie Review after sequence of integer mapping & padded/truncated for max length: \n",
      " [    0     0     0     0     0     0     0     0     0     0     0     0\n",
      "     0     0     0     0     0     0     0     0     0     0     0     0\n",
      "     0     0     0     0     0     0     0     0     0     0     0     0\n",
      "     0     0     0     0     0     0     0     0     0     0     0     0\n",
      "     0     0     0     0     0     0     0     0     0     0     0     0\n",
      "     0     0     0     0     0     0     0     0     0     0     0     0\n",
      "     0     0     0     0     0     0     0     0     0     0     0     0\n",
      "     0     0     0     0     0     0     0     0     0     0     0     0\n",
      "     0     0     0     0     0     0     0     0     0     0     0     0\n",
      "     0     0     0     0     0     0     0     0     0     0     0     0\n",
      "     0     0     0     0   454  5372 35472   215    49   305  3446    60\n",
      "  1535    90    19   286  1348    68   580    32  2418  2364    17  5767\n",
      "  2833  2086  1872  2087   323  8036  5968 14496 23622   205  3844 11960\n",
      "   562 12400  4916    14   919 56753 27881    83   562 12400    95   123\n",
      "   117  1097  2522   789    47  4917  1143   444    54  8942   513  3881\n",
      "   360   270    83   164  6145  5530  1097  1490   562 12400   117   388\n",
      "  2261 56754   356    47  1251  3612 22547 29856 56755    95    81    14\n",
      "   220   228   547  3669  5271     4  4125   139  4785    31  1186   311\n",
      "    18     6 15213   653 27882  7125 12401  2871   656  2192   687   220\n",
      "   627 10962  6008  5808   237  5868  1197  1733   119   153   210     3\n",
      "  1337   408  4756     3   481   152  2052   869   479   599]\n"
     ]
    }
   ],
   "source": [
    "print('Movie Review before sequence of integer mapping:\\n',X_train.iloc[5])\n",
    "print('\\nMovie Review after sequence of integer mapping :\\n ',XTrainsequenceofWordmaps[5])\n",
    "print('\\nMovie Review after sequence of integer mapping & padded/truncated for max length: \\n',XTrainPaddedsequence[5])"
   ]
  },
  {
   "cell_type": "markdown",
   "id": "54a55a0e",
   "metadata": {
    "id": "wjOe_fsPfTgb",
    "papermill": {
     "duration": 0.01123,
     "end_time": "2023-11-18T09:34:52.311558",
     "exception": false,
     "start_time": "2023-11-18T09:34:52.300328",
     "status": "completed"
    },
    "tags": []
   },
   "source": [
    "## Word2Vec"
   ]
  },
  {
   "cell_type": "code",
   "execution_count": 13,
   "id": "cdc27247",
   "metadata": {
    "execution": {
     "iopub.execute_input": "2023-11-18T09:34:52.335007Z",
     "iopub.status.busy": "2023-11-18T09:34:52.334744Z",
     "iopub.status.idle": "2023-11-18T09:36:20.073094Z",
     "shell.execute_reply": "2023-11-18T09:36:20.072095Z"
    },
    "papermill": {
     "duration": 87.752591,
     "end_time": "2023-11-18T09:36:20.075652",
     "exception": false,
     "start_time": "2023-11-18T09:34:52.323061",
     "status": "completed"
    },
    "tags": []
   },
   "outputs": [],
   "source": [
    "import gensim\n",
    "W2Vmodel = gensim.models.KeyedVectors.load_word2vec_format('../input/nlpword2vecembeddingspretrained/GoogleNews-vectors-negative300.bin', binary=True)"
   ]
  },
  {
   "cell_type": "code",
   "execution_count": 14,
   "id": "c91a608c",
   "metadata": {
    "execution": {
     "iopub.execute_input": "2023-11-18T09:36:20.101547Z",
     "iopub.status.busy": "2023-11-18T09:36:20.100609Z",
     "iopub.status.idle": "2023-11-18T09:36:27.815187Z",
     "shell.execute_reply": "2023-11-18T09:36:27.814328Z"
    },
    "papermill": {
     "duration": 7.729796,
     "end_time": "2023-11-18T09:36:27.817474",
     "exception": false,
     "start_time": "2023-11-18T09:36:20.087678",
     "status": "completed"
    },
    "tags": []
   },
   "outputs": [],
   "source": [
    "allwords = list(W2Vmodel.key_to_index.keys())\n",
    "Word2VecEmbeddings = {}\n",
    "for x in allwords :\n",
    "    Word2VecEmbeddings[x] = W2Vmodel[x]\n"
   ]
  },
  {
   "cell_type": "code",
   "execution_count": 15,
   "id": "147795b2",
   "metadata": {
    "execution": {
     "iopub.execute_input": "2023-11-18T09:36:27.901261Z",
     "iopub.status.busy": "2023-11-18T09:36:27.900919Z",
     "iopub.status.idle": "2023-11-18T09:36:27.907771Z",
     "shell.execute_reply": "2023-11-18T09:36:27.906796Z"
    },
    "papermill": {
     "duration": 0.080477,
     "end_time": "2023-11-18T09:36:27.910102",
     "exception": false,
     "start_time": "2023-11-18T09:36:27.829625",
     "status": "completed"
    },
    "tags": []
   },
   "outputs": [
    {
     "name": "stdout",
     "output_type": "stream",
     "text": [
      "words from Word2Vec Embeddings:\n"
     ]
    },
    {
     "data": {
      "text/plain": [
       "['</s>', 'in', 'for', 'that', 'is']"
      ]
     },
     "execution_count": 15,
     "metadata": {},
     "output_type": "execute_result"
    }
   ],
   "source": [
    "print('words from Word2Vec Embeddings:')\n",
    "allwords[0:5]"
   ]
  },
  {
   "cell_type": "code",
   "execution_count": 16,
   "id": "b08d41d6",
   "metadata": {
    "execution": {
     "iopub.execute_input": "2023-11-18T09:36:27.935504Z",
     "iopub.status.busy": "2023-11-18T09:36:27.935158Z",
     "iopub.status.idle": "2023-11-18T09:36:28.535842Z",
     "shell.execute_reply": "2023-11-18T09:36:28.534711Z"
    },
    "papermill": {
     "duration": 0.616644,
     "end_time": "2023-11-18T09:36:28.538591",
     "exception": false,
     "start_time": "2023-11-18T09:36:27.921947",
     "status": "completed"
    },
    "tags": []
   },
   "outputs": [
    {
     "name": "stdout",
     "output_type": "stream",
     "text": [
      "words : words sequence mapping dictionary from Word2Vec Embeddings:\n",
      "Word: </s>, Index: [ 1.1291504e-03 -8.9645386e-04  3.1852722e-04  1.5335083e-03\n",
      "  1.1062622e-03 -1.4038086e-03 -3.0517578e-05 -4.1961670e-04\n",
      " -5.7601929e-04  1.0757446e-03 -1.0223389e-03 -6.1798096e-04\n",
      " -7.5531006e-04  1.4038086e-03 -1.6403198e-03 -6.3323975e-04\n",
      "  1.6326904e-03 -1.0070801e-03 -1.2664795e-03  6.5231323e-04\n",
      " -4.1580200e-04 -1.0757446e-03  1.5258789e-03 -2.7465820e-04\n",
      "  1.4019012e-04  1.5716553e-03  1.3580322e-03 -8.3160400e-04\n",
      " -1.4038086e-03  1.5792847e-03  2.5367737e-04 -7.3242188e-04\n",
      " -1.0538101e-04 -1.1672974e-03  1.5792847e-03  6.5612793e-04\n",
      " -6.5994263e-04  2.9206276e-06  1.1291504e-03  4.2724609e-04\n",
      " -3.7002563e-04 -1.1520386e-03  1.2664795e-03 -3.5166740e-06\n",
      "  2.6512146e-04 -4.0245056e-04  1.4114380e-04 -3.3617020e-05\n",
      "  7.5912476e-04 -5.1879883e-04 -7.1048737e-05  6.0272217e-04\n",
      " -5.0735474e-04 -1.6250610e-03 -4.3678284e-04 -9.9182129e-04\n",
      " -1.2207031e-03 -3.2234192e-04  6.8664551e-05 -1.1672974e-03\n",
      " -5.1116943e-04  1.4114380e-03  3.3569336e-04 -4.7492981e-04\n",
      " -1.3732910e-03  3.6621094e-04 -1.4419556e-03 -6.0653687e-04\n",
      "  8.0108643e-04  1.1291504e-03 -8.3541870e-04 -1.1596680e-03\n",
      "  9.1552734e-04  5.2261353e-04 -3.2806396e-04  1.5945435e-03\n",
      " -1.5792847e-03 -3.5667419e-04  4.9591064e-04  1.0147095e-03\n",
      " -1.0986328e-03 -1.6593933e-04 -1.4209747e-04 -2.6130676e-04\n",
      "  1.2588501e-03  3.8623810e-05  1.6880035e-04 -1.0299683e-03\n",
      "  1.6098022e-03  6.2942505e-04  4.1770935e-04 -1.3504028e-03\n",
      "  3.4904480e-04  1.1444092e-03 -1.2054443e-03 -1.1825562e-03\n",
      "  9.4985962e-04  6.0558319e-05  1.0728836e-05 -6.6757202e-04\n",
      "  1.2435913e-03  6.9046021e-04  5.5551529e-05 -8.6212158e-04\n",
      " -1.1672974e-03  1.2130737e-03 -8.0490112e-04 -8.7738037e-04\n",
      "  2.2792816e-04 -3.9672852e-04 -8.5830688e-04  2.8800964e-04\n",
      " -1.5869141e-03  4.8446655e-04 -1.1215210e-03  1.9669533e-06\n",
      " -3.7956238e-04  7.0571899e-04 -1.5869141e-03  1.6250610e-03\n",
      "  1.5563965e-03 -4.3106079e-04  9.8419189e-04  9.0408325e-04\n",
      " -1.3961792e-03  1.2054443e-03 -7.0190430e-04  2.7084351e-04\n",
      " -1.2359619e-03  6.9046021e-04 -8.4304810e-04  1.3427734e-03\n",
      " -1.4343262e-03 -6.7138672e-04  1.5487671e-03 -1.0986328e-03\n",
      "  1.1901855e-03 -1.4266968e-03 -6.8283081e-04 -7.8582764e-04\n",
      "  4.8065186e-04  4.0817261e-04 -6.3705444e-04  1.4495850e-04\n",
      " -9.7656250e-04  1.4495850e-03  8.4564090e-07 -1.6632080e-03\n",
      " -3.2806396e-04  6.2942505e-04 -1.4343262e-03 -3.4141541e-04\n",
      "  1.1520386e-03 -5.3024292e-04 -4.7111511e-04 -8.5067749e-04\n",
      " -1.3809204e-03 -1.2435913e-03 -1.3275146e-03  1.0757446e-03\n",
      "  1.3198853e-03 -3.0326843e-04 -3.7431717e-05  1.1825562e-03\n",
      " -1.3580322e-03 -1.0452271e-03  5.6743622e-05 -1.0147095e-03\n",
      "  4.3296814e-04 -1.5716553e-03 -9.1075897e-05  1.0604858e-03\n",
      " -6.0272217e-04 -1.5335083e-03 -1.5335083e-03  5.4168701e-04\n",
      "  1.3351440e-03  4.1198730e-04 -3.1089783e-04  1.7642975e-04\n",
      " -1.3732910e-04 -6.9808960e-04 -8.6212158e-04 -1.0833740e-03\n",
      " -2.9802322e-05  8.0108643e-04  6.7901611e-04  3.3569336e-04\n",
      " -1.3885498e-03  1.3504028e-03  2.3460388e-04 -1.3351440e-03\n",
      " -8.7356567e-04 -7.4386597e-04  1.0833740e-03  6.0558319e-05\n",
      " -1.2664795e-03  1.1901855e-03 -6.2179565e-04  1.3597310e-07\n",
      "  1.2741089e-03 -9.8419189e-04 -1.5487671e-03  1.5563965e-03\n",
      " -1.3122559e-03 -7.9345703e-04  1.5335083e-03  1.2969971e-03\n",
      " -1.8024445e-04  9.1934204e-04  1.2054443e-03  7.7056885e-04\n",
      " -1.6555786e-03  7.7056885e-04  1.4495850e-03 -1.3046265e-03\n",
      "  6.1035156e-04  6.5994263e-04  1.2588501e-03  1.4190674e-03\n",
      " -1.2207031e-03 -1.5106201e-03  1.1291504e-03  1.3427734e-03\n",
      "  1.6632080e-03 -5.7220459e-04 -5.5694580e-04  3.9863586e-04\n",
      " -2.7084351e-04  4.9591064e-04  1.6098022e-03 -7.0571899e-04\n",
      "  6.2561035e-04 -9.7656250e-04 -1.8978119e-04  9.5367432e-05\n",
      " -5.1879883e-04 -2.0408630e-04 -8.2778931e-04 -1.2302399e-04\n",
      "  7.6293945e-04  3.2234192e-04 -1.2435913e-03  9.9182129e-04\n",
      "  1.0604858e-03 -1.4114380e-03  9.6797943e-05 -1.5563965e-03\n",
      "  2.1934509e-04 -5.5313110e-05 -9.1171265e-04 -1.4877319e-03\n",
      "  1.3656616e-03 -8.4304810e-04 -4.1961670e-04  3.2424927e-04\n",
      " -1.0070801e-03  1.2588501e-04 -4.5585632e-04  1.9264221e-04\n",
      " -2.6893616e-04  1.4953613e-03 -1.5869141e-03  5.9127808e-04\n",
      " -1.4648438e-03  9.6511841e-04 -1.2817383e-03  1.6021729e-03\n",
      "  1.0910034e-03 -1.3122559e-03  1.0910034e-03 -5.1116943e-04\n",
      "  3.4523010e-04  1.0452271e-03 -2.0694733e-04  9.0408325e-04\n",
      "  6.6757202e-04  1.1062622e-03 -8.7356567e-04 -3.7574768e-04\n",
      " -2.5749207e-04 -9.1552734e-05  1.4343262e-03 -1.1825562e-03\n",
      " -8.7261200e-05  1.3275146e-03 -1.5830994e-04  1.2893677e-03\n",
      " -9.8419189e-04 -5.4931641e-04 -1.5487671e-03  1.3732910e-03\n",
      " -6.0796738e-05 -8.2397461e-04  1.3275146e-03  1.1596680e-03\n",
      "  5.6838989e-04 -1.5640259e-03 -1.2302399e-04 -8.6307526e-05]\n",
      "Word: in, Index: [ 0.0703125   0.08691406  0.08789062  0.0625      0.06933594 -0.10888672\n",
      " -0.08154297 -0.15429688  0.02075195  0.13183594 -0.11376953 -0.03735352\n",
      "  0.06933594  0.078125   -0.10302734 -0.09765625  0.04418945  0.10253906\n",
      " -0.06079102 -0.03613281 -0.04541016  0.04736328 -0.12060547 -0.06396484\n",
      "  0.0022583   0.03710938 -0.00291443  0.11767578  0.06176758  0.06396484\n",
      "  0.08105469 -0.06884766 -0.0213623   0.05517578 -0.08544922  0.06884766\n",
      " -0.12792969 -0.03320312  0.09863281  0.17578125  0.11083984 -0.03466797\n",
      " -0.04711914 -0.00848389  0.03588867  0.10302734  0.02697754 -0.02868652\n",
      " -0.00512695  0.10644531  0.05981445  0.09423828  0.03369141 -0.02709961\n",
      " -0.09423828  0.00102997 -0.04833984  0.03442383  0.08105469 -0.11328125\n",
      " -0.08886719  0.03588867 -0.14550781 -0.24414062 -0.06152344  0.05297852\n",
      "  0.05688477  0.1796875   0.06103516  0.08691406  0.12402344 -0.0402832\n",
      "  0.02258301  0.17773438 -0.02966309 -0.02966309  0.1171875   0.03112793\n",
      " -0.09619141  0.06640625  0.00469971 -0.08007812  0.06298828 -0.02062988\n",
      " -0.0546875  -0.13574219 -0.06347656  0.08349609 -0.06396484  0.02148438\n",
      "  0.07714844 -0.03710938 -0.03369141 -0.18359375 -0.07275391  0.01586914\n",
      "  0.09326172 -0.06152344 -0.01422119 -0.00344849  0.0111084  -0.15820312\n",
      " -0.01708984  0.00619507 -0.00872803 -0.08056641 -0.01525879 -0.08789062\n",
      "  0.003479   -0.01611328 -0.0123291   0.09765625 -0.13964844 -0.0859375\n",
      " -0.02685547  0.05395508  0.1328125   0.11279297  0.12109375  0.08544922\n",
      " -0.0071106   0.04467773 -0.14550781 -0.00320435 -0.11767578 -0.06542969\n",
      "  0.07128906 -0.09423828 -0.03027344  0.12011719  0.08007812 -0.09472656\n",
      " -0.16210938 -0.07763672  0.02124023 -0.08154297  0.00393677 -0.15722656\n",
      " -0.09814453  0.03979492  0.03930664 -0.00909424  0.10302734  0.06787109\n",
      " -0.04272461  0.06347656 -0.04907227  0.02087402 -0.16699219  0.09326172\n",
      "  0.09375     0.00686646  0.05371094  0.05249023 -0.02441406 -0.0324707\n",
      " -0.06152344 -0.0055542   0.09619141  0.0378418   0.01220703 -0.04394531\n",
      " -0.00747681  0.10546875  0.02038574  0.14550781  0.08203125  0.00576782\n",
      "  0.00457764 -0.09277344 -0.13867188 -0.05737305 -0.05151367 -0.13085938\n",
      " -0.13964844 -0.02050781 -0.02709961  0.03271484  0.10498047 -0.00233459\n",
      " -0.02258301  0.00050354 -0.11083984  0.08496094 -0.12988281 -0.01745605\n",
      " -0.00035858  0.10791016  0.08886719  0.04467773  0.02514648  0.02380371\n",
      "  0.08105469  0.02368164 -0.10986328  0.00537109 -0.0177002  -0.03393555\n",
      " -0.03295898 -0.1640625   0.09570312 -0.01831055  0.00531006 -0.03442383\n",
      " -0.04418945 -0.06640625 -0.01794434 -0.02966309 -0.00759888 -0.05126953\n",
      " -0.05419922  0.08935547 -0.07177734  0.01525879 -0.08251953 -0.03173828\n",
      "  0.03564453 -0.02124023 -0.05932617 -0.01306152  0.046875    0.02307129\n",
      "  0.02099609 -0.07861328 -0.00805664  0.01953125 -0.0055542   0.04150391\n",
      "  0.02783203  0.01361084  0.03466797 -0.18261719  0.12011719  0.07421875\n",
      " -0.04101562 -0.00994873  0.04296875 -0.0072937   0.12304688  0.05761719\n",
      " -0.0534668  -0.03222656 -0.00909424 -0.04663086  0.04394531 -0.05078125\n",
      "  0.06884766  0.00299072 -0.00418091 -0.04418945  0.07373047 -0.01275635\n",
      "  0.06738281  0.00628662  0.07519531 -0.0378418   0.00488281  0.04467773\n",
      " -0.06738281  0.00970459  0.00473022  0.02050781  0.07128906  0.17089844\n",
      "  0.17382812  0.05566406  0.09130859 -0.03735352  0.04980469 -0.03930664\n",
      "  0.04418945  0.0625      0.04858398 -0.05322266  0.04882812 -0.13085938\n",
      " -0.02893066 -0.03613281 -0.06079102 -0.05737305  0.12304688 -0.08251953\n",
      " -0.01190186  0.125       0.00135803  0.06396484 -0.10644531 -0.14355469\n",
      " -0.04223633  0.02404785 -0.16894531 -0.08886719 -0.08056641  0.06494141\n",
      "  0.0612793  -0.04736328 -0.05883789 -0.04760742  0.01446533 -0.0625    ]\n",
      "Word: for, Index: [-1.17797852e-02 -4.73632812e-02  4.46777344e-02  6.34765625e-02\n",
      " -1.81884766e-02 -6.39648438e-02 -1.31225586e-03 -7.22656250e-02\n",
      "  6.44531250e-02  8.64257812e-02 -1.69921875e-01 -3.97949219e-02\n",
      "  7.12890625e-02 -2.58789062e-02  1.81884766e-02  1.36718750e-01\n",
      "  1.44531250e-01 -3.36914062e-02 -9.76562500e-02 -1.20117188e-01\n",
      " -7.95898438e-02  6.25000000e-02 -6.68945312e-02  7.42187500e-02\n",
      "  2.27050781e-02  3.34472656e-02 -1.80664062e-01  5.20019531e-02\n",
      "  1.38549805e-02  9.27734375e-02  3.50952148e-03 -9.09423828e-03\n",
      " -9.71679688e-02  6.78710938e-02 -8.78906250e-03  4.41894531e-02\n",
      " -1.33789062e-01 -9.96093750e-02  3.32031250e-02  2.79541016e-02\n",
      "  1.55273438e-01 -1.77001953e-02  1.42822266e-02 -1.09863281e-01\n",
      " -8.54492188e-02 -7.32421875e-02 -2.46582031e-02  1.72851562e-01\n",
      "  6.17675781e-02  8.93554688e-02 -2.42919922e-02  1.41601562e-01\n",
      " -3.29589844e-02  2.74658203e-02 -1.55273438e-01  7.87353516e-03\n",
      " -7.08007812e-02  4.37011719e-02  6.01196289e-03 -5.59082031e-02\n",
      " -1.47460938e-01  2.84423828e-02 -1.32812500e-01 -1.76757812e-01\n",
      " -9.13085938e-02 -5.07812500e-02 -2.60009766e-02 -1.48437500e-01\n",
      " -8.05664062e-02  1.50390625e-01 -4.34570312e-02  7.91015625e-02\n",
      "  3.32031250e-02  9.03320312e-02  2.27050781e-02 -6.25000000e-02\n",
      "  1.64062500e-01  8.59375000e-02 -1.23901367e-02  1.96289062e-01\n",
      " -6.22558594e-02  2.24609375e-02 -3.01513672e-02  2.12402344e-02\n",
      "  3.32641602e-03 -5.54199219e-02 -7.32421875e-02  2.97851562e-02\n",
      "  4.98046875e-02  1.74560547e-02  1.04492188e-01  3.88183594e-02\n",
      "  8.49609375e-02 -2.48046875e-01  6.93359375e-02 -1.49414062e-01\n",
      "  5.83496094e-02  9.57031250e-02 -3.34472656e-02  6.29882812e-02\n",
      "  2.13623047e-02 -1.45507812e-01  5.37109375e-02 -9.08203125e-02\n",
      " -2.53906250e-02  4.54101562e-02  5.31005859e-03 -1.15722656e-01\n",
      " -1.95312500e-02  1.21093750e-01  3.22265625e-02  9.47265625e-02\n",
      " -6.44531250e-02  2.27050781e-02  1.20605469e-01  6.03027344e-02\n",
      "  1.20605469e-01  4.88281250e-02  9.32617188e-02  6.68945312e-02\n",
      "  2.92968750e-02 -3.41796875e-02 -1.11328125e-01  5.34667969e-02\n",
      " -2.56347656e-02  1.78222656e-02  6.22558594e-02 -2.58789062e-02\n",
      "  1.45507812e-01  6.25000000e-02  1.07910156e-01 -1.63085938e-01\n",
      " -9.76562500e-02 -1.05957031e-01 -8.54492188e-02 -8.88671875e-02\n",
      "  1.01074219e-01 -7.95898438e-02  8.42285156e-03  2.40478516e-02\n",
      "  1.30859375e-01  5.12695312e-02  8.15429688e-02  9.37500000e-02\n",
      " -5.85937500e-02 -9.66796875e-02 -2.83203125e-02 -1.45507812e-01\n",
      " -1.47460938e-01  1.45507812e-01 -1.75781250e-02  3.29589844e-02\n",
      " -8.54492188e-02 -1.09863281e-02 -3.71093750e-02 -1.36718750e-02\n",
      "  3.58886719e-02 -8.23974609e-03  5.02929688e-02 -9.47265625e-02\n",
      "  4.78515625e-02  2.07519531e-02  3.06396484e-02  1.29882812e-01\n",
      "  5.27343750e-02  1.87988281e-02 -1.75781250e-02  3.49121094e-02\n",
      "  1.83105469e-02 -9.88769531e-03 -1.84570312e-01 -8.98437500e-02\n",
      " -2.90527344e-02 -6.07910156e-02 -5.12695312e-02 -2.36511230e-03\n",
      "  6.64062500e-02 -8.25195312e-02 -4.00390625e-02  9.61914062e-02\n",
      " -1.54296875e-01 -1.53320312e-01  2.83203125e-02  1.31225586e-02\n",
      "  2.99072266e-02 -1.21459961e-02 -9.66796875e-02  2.47802734e-02\n",
      "  1.93359375e-01  1.30004883e-02  2.41699219e-02 -3.58886719e-02\n",
      "  9.86328125e-02 -9.66796875e-02 -2.00195312e-01 -1.37939453e-02\n",
      "  8.59375000e-02 -8.00781250e-02 -1.76757812e-01 -1.74804688e-01\n",
      "  5.12695312e-03 -3.49121094e-02 -5.46875000e-02  9.37500000e-02\n",
      " -9.32617188e-02 -1.19628906e-02 -5.64575195e-04  9.76562500e-02\n",
      "  2.47802734e-02 -3.97949219e-02  9.76562500e-03  1.18164062e-01\n",
      "  2.57568359e-02  1.23046875e-01  6.44531250e-02  7.08007812e-02\n",
      "  2.92968750e-02 -4.95605469e-02 -7.81250000e-02  2.89306641e-02\n",
      "  4.56542969e-02 -4.29687500e-02  2.58789062e-02 -5.17578125e-02\n",
      "  1.40625000e-01  4.27246094e-03 -3.78417969e-02  2.74658203e-02\n",
      "  6.00585938e-02  2.83203125e-02  2.80761719e-02 -3.66210938e-02\n",
      "  1.30859375e-01 -9.67979431e-05 -6.93359375e-02 -2.20947266e-02\n",
      "  6.78710938e-02 -2.33154297e-02 -1.53198242e-02 -5.83496094e-02\n",
      "  6.10351562e-02  6.44683838e-04  3.99780273e-03 -7.12890625e-02\n",
      "  9.17968750e-02  2.62451172e-02  2.00195312e-02  3.54003906e-02\n",
      " -5.78613281e-02 -2.96630859e-02  2.73437500e-02  2.51464844e-02\n",
      "  6.03027344e-02  1.31835938e-01 -4.36401367e-03  2.73132324e-03\n",
      "  5.98144531e-02  9.86328125e-02 -9.17968750e-02 -4.58984375e-02\n",
      " -1.74560547e-02  3.83300781e-02 -1.91650391e-02  4.63867188e-02\n",
      "  4.78515625e-02  9.81445312e-02 -4.02832031e-02  9.42382812e-02\n",
      " -3.46679688e-02 -4.22363281e-02  7.03125000e-02 -1.36718750e-02\n",
      "  1.06445312e-01  1.64794922e-02  1.31835938e-01 -1.69372559e-03\n",
      " -8.48388672e-03 -1.42578125e-01 -4.66308594e-02 -1.09863281e-01\n",
      "  8.20312500e-02 -4.10156250e-02 -1.89208984e-02  8.78906250e-02\n",
      " -2.80761719e-03  2.38281250e-01 -4.71191406e-02 -2.29492188e-02\n",
      "  4.07714844e-02  2.92968750e-02 -2.25830078e-02  3.72314453e-03\n",
      " -8.25195312e-02  8.15429688e-02  7.93457031e-03  4.76837158e-04\n",
      "  1.84326172e-02  7.12890625e-02 -3.49121094e-02  2.41699219e-02]\n"
     ]
    }
   ],
   "source": [
    "print('words : words sequence mapping dictionary from Word2Vec Embeddings:')\n",
    "top_3_pairs = list(Word2VecEmbeddings.items())[:3]\n",
    "\n",
    "# Print the top 5 key-value pairs\n",
    "for key, value in top_3_pairs:\n",
    "    print(f'Word: {key}, Index: {value}')"
   ]
  },
  {
   "cell_type": "code",
   "execution_count": 17,
   "id": "51517fc5",
   "metadata": {
    "execution": {
     "iopub.execute_input": "2023-11-18T09:36:28.564618Z",
     "iopub.status.busy": "2023-11-18T09:36:28.564251Z",
     "iopub.status.idle": "2023-11-18T09:36:28.914050Z",
     "shell.execute_reply": "2023-11-18T09:36:28.913106Z"
    },
    "papermill": {
     "duration": 0.365047,
     "end_time": "2023-11-18T09:36:28.916157",
     "exception": false,
     "start_time": "2023-11-18T09:36:28.551110",
     "status": "completed"
    },
    "tags": []
   },
   "outputs": [
    {
     "name": "stderr",
     "output_type": "stream",
     "text": [
      "100%|██████████| 92722/92722 [00:00<00:00, 272548.81it/s]\n"
     ]
    }
   ],
   "source": [
    "unmatched = []\n",
    "matchedwordswithW2Vec = []\n",
    "W2VecEmbeddings2d = np.zeros((size_of_vocabulary,300))\n",
    "for word,indx in tqdm(wrd.word_index.items()):\n",
    "    embedding_value = Word2VecEmbeddings.get(word)\n",
    "    if embedding_value is not None:\n",
    "        W2VecEmbeddings2d[indx] = embedding_value\n",
    "        matchedwordswithW2Vec.append(word)\n",
    "    else :\n",
    "        unmatched.append(word)"
   ]
  },
  {
   "cell_type": "code",
   "execution_count": 18,
   "id": "b8cf3edb",
   "metadata": {
    "execution": {
     "iopub.execute_input": "2023-11-18T09:36:28.942474Z",
     "iopub.status.busy": "2023-11-18T09:36:28.942156Z",
     "iopub.status.idle": "2023-11-18T09:36:28.949359Z",
     "shell.execute_reply": "2023-11-18T09:36:28.948436Z"
    },
    "papermill": {
     "duration": 0.022916,
     "end_time": "2023-11-18T09:36:28.951656",
     "exception": false,
     "start_time": "2023-11-18T09:36:28.928740",
     "status": "completed"
    },
    "tags": []
   },
   "outputs": [
    {
     "name": "stdout",
     "output_type": "stream",
     "text": [
      "places Word2Vec word embedding sequence in the index of matched word in Vocabulary\n",
      "\n",
      "\n"
     ]
    },
    {
     "data": {
      "text/plain": [
       "array([[ 0.        ,  0.        ,  0.        , ...,  0.        ,\n",
       "         0.        ,  0.        ],\n",
       "       [ 0.        ,  0.        ,  0.        , ...,  0.        ,\n",
       "         0.        ,  0.        ],\n",
       "       [ 0.17480469, -0.10986328, -0.20019531, ...,  0.07958984,\n",
       "         0.02807617, -0.02026367],\n",
       "       ...,\n",
       "       [ 0.02319336,  0.19433594, -0.16210938, ..., -0.37304688,\n",
       "         0.18164062,  0.25390625],\n",
       "       [-0.34570312,  0.15039062, -0.1953125 , ..., -0.12597656,\n",
       "        -0.17871094,  0.26953125],\n",
       "       [ 0.11181641,  0.08300781, -0.22363281, ..., -0.25390625,\n",
       "         0.02331543,  0.52734375]])"
      ]
     },
     "execution_count": 18,
     "metadata": {},
     "output_type": "execute_result"
    }
   ],
   "source": [
    "print('places Word2Vec word embedding sequence in the index of matched word in Vocabulary\\n\\n')\n",
    "W2VecEmbeddings2d"
   ]
  },
  {
   "cell_type": "code",
   "execution_count": 19,
   "id": "bc4e2de6",
   "metadata": {
    "execution": {
     "iopub.execute_input": "2023-11-18T09:36:28.979656Z",
     "iopub.status.busy": "2023-11-18T09:36:28.979288Z",
     "iopub.status.idle": "2023-11-18T09:36:28.986101Z",
     "shell.execute_reply": "2023-11-18T09:36:28.985144Z"
    },
    "papermill": {
     "duration": 0.023117,
     "end_time": "2023-11-18T09:36:28.988214",
     "exception": false,
     "start_time": "2023-11-18T09:36:28.965097",
     "status": "completed"
    },
    "tags": []
   },
   "outputs": [
    {
     "name": "stdout",
     "output_type": "stream",
     "text": [
      "\n",
      "\n",
      "length of matched words from our vocabulary with that of Word2Vec words: \n",
      "\n"
     ]
    },
    {
     "data": {
      "text/plain": [
       "55414"
      ]
     },
     "execution_count": 19,
     "metadata": {},
     "output_type": "execute_result"
    }
   ],
   "source": [
    "print('\\n\\nlength of matched words from our vocabulary with that of Word2Vec words: \\n')\n",
    "len(matchedwordswithW2Vec)\n"
   ]
  },
  {
   "cell_type": "code",
   "execution_count": 20,
   "id": "b0191c9b",
   "metadata": {
    "execution": {
     "iopub.execute_input": "2023-11-18T09:36:29.017328Z",
     "iopub.status.busy": "2023-11-18T09:36:29.016449Z",
     "iopub.status.idle": "2023-11-18T09:36:29.023706Z",
     "shell.execute_reply": "2023-11-18T09:36:29.022762Z"
    },
    "papermill": {
     "duration": 0.023864,
     "end_time": "2023-11-18T09:36:29.025897",
     "exception": false,
     "start_time": "2023-11-18T09:36:29.002033",
     "status": "completed"
    },
    "tags": []
   },
   "outputs": [
    {
     "name": "stdout",
     "output_type": "stream",
     "text": [
      "\n",
      "matched words\n"
     ]
    },
    {
     "data": {
      "text/plain": [
       "['movie',\n",
       " 'film',\n",
       " 'one',\n",
       " 'like',\n",
       " 'would',\n",
       " 'good',\n",
       " 'time',\n",
       " 'even',\n",
       " 'story',\n",
       " 'see']"
      ]
     },
     "execution_count": 20,
     "metadata": {},
     "output_type": "execute_result"
    }
   ],
   "source": [
    "print('\\nmatched words')\n",
    "matchedwordswithW2Vec[0:10]"
   ]
  },
  {
   "cell_type": "markdown",
   "id": "90060cbe",
   "metadata": {
    "id": "lp9Kkyz7fTge",
    "papermill": {
     "duration": 0.013222,
     "end_time": "2023-11-18T09:36:29.052913",
     "exception": false,
     "start_time": "2023-11-18T09:36:29.039691",
     "status": "completed"
    },
    "tags": []
   },
   "source": [
    "## Bi-Directional LSTM's"
   ]
  },
  {
   "cell_type": "code",
   "execution_count": 21,
   "id": "5683ebb2",
   "metadata": {
    "execution": {
     "iopub.execute_input": "2023-11-18T09:36:29.081949Z",
     "iopub.status.busy": "2023-11-18T09:36:29.081240Z",
     "iopub.status.idle": "2023-11-18T09:36:33.767451Z",
     "shell.execute_reply": "2023-11-18T09:36:33.766610Z"
    },
    "id": "Jojsv3txfTge",
    "papermill": {
     "duration": 4.703136,
     "end_time": "2023-11-18T09:36:33.769864",
     "exception": false,
     "start_time": "2023-11-18T09:36:29.066728",
     "status": "completed"
    },
    "tags": []
   },
   "outputs": [],
   "source": [
    "lstm_units=256\n",
    "dropofLSTM =0.3\n",
    "BiLSTN_W2Vec = Sequential()\n",
    "BiLSTN_W2Vec.add(Embedding(size_of_vocabulary, 300, input_length=Max_Review_Length, weights = [W2VecEmbeddings2d] , trainable = False))\n",
    "BiLSTN_W2Vec.add(Bidirectional(LSTM(lstm_units, dropout=dropofLSTM, return_sequences=True)))\n",
    "BiLSTN_W2Vec.add(Bidirectional(LSTM(lstm_units, dropout=dropofLSTM)))\n",
    "learning_rate = 0.001  \n",
    "optimizer = Adam(learning_rate=learning_rate)\n",
    "BiLSTN_W2Vec.add(Dense(1, activation='sigmoid'))\n",
    "BiLSTN_W2Vec.compile(loss = 'binary_crossentropy', optimizer = optimizer, metrics=['accuracy'])"
   ]
  },
  {
   "cell_type": "code",
   "execution_count": 22,
   "id": "d830dd80",
   "metadata": {
    "execution": {
     "iopub.execute_input": "2023-11-18T09:36:33.799918Z",
     "iopub.status.busy": "2023-11-18T09:36:33.799025Z",
     "iopub.status.idle": "2023-11-18T09:36:33.822511Z",
     "shell.execute_reply": "2023-11-18T09:36:33.821545Z"
    },
    "id": "U2pECKjGfTge",
    "outputId": "4aca6efb-7d39-41d8-b658-54f4f2fdc3d4",
    "papermill": {
     "duration": 0.041238,
     "end_time": "2023-11-18T09:36:33.825602",
     "exception": false,
     "start_time": "2023-11-18T09:36:33.784364",
     "status": "completed"
    },
    "tags": []
   },
   "outputs": [
    {
     "name": "stdout",
     "output_type": "stream",
     "text": [
      "Model: \"sequential\"\n",
      "_________________________________________________________________\n",
      " Layer (type)                Output Shape              Param #   \n",
      "=================================================================\n",
      " embedding (Embedding)       (None, 250, 300)          27816900  \n",
      "                                                                 \n",
      " bidirectional (Bidirectiona  (None, 250, 512)         1140736   \n",
      " l)                                                              \n",
      "                                                                 \n",
      " bidirectional_1 (Bidirectio  (None, 512)              1574912   \n",
      " nal)                                                            \n",
      "                                                                 \n",
      " dense (Dense)               (None, 1)                 513       \n",
      "                                                                 \n",
      "=================================================================\n",
      "Total params: 30,533,061\n",
      "Trainable params: 2,716,161\n",
      "Non-trainable params: 27,816,900\n",
      "_________________________________________________________________\n"
     ]
    }
   ],
   "source": [
    "BiLSTN_W2Vec.summary()"
   ]
  },
  {
   "cell_type": "code",
   "execution_count": 23,
   "id": "b59073f4",
   "metadata": {
    "execution": {
     "iopub.execute_input": "2023-11-18T09:36:33.857421Z",
     "iopub.status.busy": "2023-11-18T09:36:33.856542Z",
     "iopub.status.idle": "2023-11-18T09:51:27.903636Z",
     "shell.execute_reply": "2023-11-18T09:51:27.902619Z"
    },
    "id": "VMd9HWmBfTge",
    "outputId": "bd7643ca-e90e-4f96-b673-d2dfd388ccc3",
    "papermill": {
     "duration": 894.065129,
     "end_time": "2023-11-18T09:51:27.905739",
     "exception": false,
     "start_time": "2023-11-18T09:36:33.840610",
     "status": "completed"
    },
    "tags": []
   },
   "outputs": [
    {
     "name": "stdout",
     "output_type": "stream",
     "text": [
      "Epoch 1/10\n",
      "1240/1240 - 110s - loss: 0.4293 - accuracy: 0.8035 - val_loss: 0.3166 - val_accuracy: 0.8662 - 110s/epoch - 89ms/step\n",
      "Epoch 2/10\n",
      "1240/1240 - 98s - loss: 0.3108 - accuracy: 0.8689 - val_loss: 0.2803 - val_accuracy: 0.8889 - 98s/epoch - 79ms/step\n",
      "Epoch 3/10\n",
      "1240/1240 - 98s - loss: 0.2829 - accuracy: 0.8820 - val_loss: 0.2716 - val_accuracy: 0.8904 - 98s/epoch - 79ms/step\n",
      "Epoch 4/10\n",
      "1240/1240 - 98s - loss: 0.2597 - accuracy: 0.8931 - val_loss: 0.2610 - val_accuracy: 0.8900 - 98s/epoch - 79ms/step\n",
      "Epoch 5/10\n",
      "1240/1240 - 98s - loss: 0.2564 - accuracy: 0.8952 - val_loss: 0.2807 - val_accuracy: 0.8862 - 98s/epoch - 79ms/step\n",
      "Epoch 6/10\n",
      "1240/1240 - 98s - loss: 0.2278 - accuracy: 0.9071 - val_loss: 0.2543 - val_accuracy: 0.8994 - 98s/epoch - 79ms/step\n",
      "Epoch 7/10\n",
      "1240/1240 - 98s - loss: 0.2088 - accuracy: 0.9161 - val_loss: 0.2442 - val_accuracy: 0.9032 - 98s/epoch - 79ms/step\n",
      "Epoch 8/10\n",
      "1240/1240 - 98s - loss: 0.1881 - accuracy: 0.9249 - val_loss: 0.2646 - val_accuracy: 0.8996 - 98s/epoch - 79ms/step\n",
      "Epoch 9/10\n",
      "Restoring model weights from the end of the best epoch: 7.\n",
      "1240/1240 - 98s - loss: 0.1698 - accuracy: 0.9320 - val_loss: 0.2589 - val_accuracy: 0.9003 - 98s/epoch - 79ms/step\n",
      "Epoch 9: early stopping\n"
     ]
    }
   ],
   "source": [
    "totalEpochs = 10\n",
    "early_stopping = EarlyStopping(\n",
    "    monitor='val_loss',  \n",
    "    patience=2,  \n",
    "    restore_best_weights=True, \n",
    "    verbose=1\n",
    ")\n",
    "history = BiLSTN_W2Vec.fit(XTrainPaddedsequence, Y_train, epochs=totalEpochs, validation_data=(XTestPaddedsequence, Y_test),callbacks=[early_stopping], verbose=2)"
   ]
  },
  {
   "cell_type": "code",
   "execution_count": 24,
   "id": "f1a61b03",
   "metadata": {
    "execution": {
     "iopub.execute_input": "2023-11-18T09:51:27.939261Z",
     "iopub.status.busy": "2023-11-18T09:51:27.938953Z",
     "iopub.status.idle": "2023-11-18T09:51:27.944309Z",
     "shell.execute_reply": "2023-11-18T09:51:27.943304Z"
    },
    "papermill": {
     "duration": 0.024285,
     "end_time": "2023-11-18T09:51:27.946324",
     "exception": false,
     "start_time": "2023-11-18T09:51:27.922039",
     "status": "completed"
    },
    "tags": []
   },
   "outputs": [
    {
     "name": "stdout",
     "output_type": "stream",
     "text": [
      " Test Accuracy: 0.9032\n"
     ]
    }
   ],
   "source": [
    "#printing test accuracy\n",
    "max_val_accuracy = max(history.history['val_accuracy'])\n",
    "print(f\" Test Accuracy: {max_val_accuracy:.4f}\")"
   ]
  },
  {
   "cell_type": "markdown",
   "id": "b1b82d14",
   "metadata": {
    "papermill": {
     "duration": 0.015622,
     "end_time": "2023-11-18T09:51:27.977973",
     "exception": false,
     "start_time": "2023-11-18T09:51:27.962351",
     "status": "completed"
    },
    "tags": []
   },
   "source": [
    "# PRINTING ACCURACY METRICS, CLASSFICATION REPORT, AND ROC CURVE"
   ]
  },
  {
   "cell_type": "code",
   "execution_count": 25,
   "id": "0f06a19b",
   "metadata": {
    "execution": {
     "iopub.execute_input": "2023-11-18T09:51:28.012514Z",
     "iopub.status.busy": "2023-11-18T09:51:28.012131Z",
     "iopub.status.idle": "2023-11-18T09:51:49.013299Z",
     "shell.execute_reply": "2023-11-18T09:51:49.012181Z"
    },
    "papermill": {
     "duration": 21.021541,
     "end_time": "2023-11-18T09:51:49.015352",
     "exception": false,
     "start_time": "2023-11-18T09:51:27.993811",
     "status": "completed"
    },
    "tags": []
   },
   "outputs": [
    {
     "name": "stdout",
     "output_type": "stream",
     "text": [
      "310/310 [==============================] - 10s 31ms/step\n",
      "Accuracy of BI-LSTM_WORD2VEC: 90.320%\n",
      "Precision of BI-LSTM_WORD2VEC: 90.212%\n",
      "Recall of BI-LSTM_WORD2VEC: 90.359%\n",
      "F1 score of BI-LSTM_WORD2VEC: 90.285%\n",
      "              precision    recall  f1-score   support\n",
      "\n",
      "           0       0.90      0.90      0.90      4980\n",
      "           1       0.90      0.90      0.90      4937\n",
      "\n",
      "    accuracy                           0.90      9917\n",
      "   macro avg       0.90      0.90      0.90      9917\n",
      "weighted avg       0.90      0.90      0.90      9917\n",
      "\n"
     ]
    },
    {
     "data": {
      "image/png": "[encoded data removed]",
      "text/plain": [
       "<Figure size 800x600 with 1 Axes>"
      ]
     },
     "metadata": {},
     "output_type": "display_data"
    }
   ],
   "source": [
    "model = BiLSTN_W2Vec\n",
    "\n",
    "predictions = model.predict(XTestPaddedsequence, verbose=0)\n",
    "\n",
    "predicted_sentiment = (model.predict(XTestPaddedsequence)>0.5).astype('int32')\n",
    "\n",
    "predictions = predictions[:, 0]\n",
    "predicted_sentiment = predicted_sentiment[:, 0]\n",
    "\n",
    "accuracy = accuracy_score(Y_test, predicted_sentiment) * 100\n",
    "precision = precision_score(Y_test, predicted_sentiment)* 100\n",
    "recall = recall_score(Y_test, predicted_sentiment)* 100\n",
    "f1 = f1_score(Y_test, predicted_sentiment)* 100\n",
    "\n",
    "print(f'Accuracy of BI-LSTM_WORD2VEC: {accuracy:.3f}%')\n",
    "print(f'Precision of BI-LSTM_WORD2VEC: {precision:.3f}%')\n",
    "print(f'Recall of BI-LSTM_WORD2VEC: {recall:.3f}%')\n",
    "print(f'F1 score of BI-LSTM_WORD2VEC: {f1:.3f}%')\n",
    "\n",
    "\n",
    "matrix = classification_report(Y_test, predicted_sentiment)\n",
    "print(matrix)\n",
    "\n",
    "\n",
    "plt.figure(figsize=(8, 6))\n",
    "false_positive_rate, true_positive_rate, thresholds = roc_curve(Y_test, predictions, pos_label=1)\n",
    "random_false_positive_rate, random_true_positive_rate, _ = roc_curve(Y_test, np.zeros(len(Y_test)), pos_label=1)\n",
    "auc_score = roc_auc_score(Y_test, predictions)\n",
    "\n",
    "plt.plot(false_positive_rate, true_positive_rate, linestyle='-', color='blue', label='BIDirectional-LSTM (AUC = {:.3f})'.format(auc_score))\n",
    "plt.plot(random_false_positive_rate, random_true_positive_rate, linestyle='--', color='orange')\n",
    "\n",
    "plt.title('Receiver Operating Characteristic (ROC) Curve')\n",
    "plt.xlabel('False Positive Rate')\n",
    "plt.ylabel('True Positive Rate')\n",
    "plt.legend(loc='best')\n",
    "plt.show()"
   ]
  },
  {
   "cell_type": "markdown",
   "id": "16c43195",
   "metadata": {
    "papermill": {
     "duration": 0.029293,
     "end_time": "2023-11-18T09:51:49.073933",
     "exception": false,
     "start_time": "2023-11-18T09:51:49.044640",
     "status": "completed"
    },
    "tags": []
   },
   "source": [
    "# *ANALYSIS*"
   ]
  },
  {
   "cell_type": "code",
   "execution_count": 26,
   "id": "366c9e57",
   "metadata": {
    "execution": {
     "iopub.execute_input": "2023-11-18T09:51:49.133732Z",
     "iopub.status.busy": "2023-11-18T09:51:49.133386Z",
     "iopub.status.idle": "2023-11-18T09:51:49.781325Z",
     "shell.execute_reply": "2023-11-18T09:51:49.780339Z"
    },
    "papermill": {
     "duration": 0.679552,
     "end_time": "2023-11-18T09:51:49.783441",
     "exception": false,
     "start_time": "2023-11-18T09:51:49.103889",
     "status": "completed"
    },
    "tags": []
   },
   "outputs": [
    {
     "data": {
      "image/png": "[encoded data removed]",
      "text/plain": [
       "<Figure size 1200x500 with 2 Axes>"
      ]
     },
     "metadata": {},
     "output_type": "display_data"
    }
   ],
   "source": [
    "import matplotlib.pyplot as plt\n",
    "\n",
    "\n",
    "plt.style.use('seaborn-darkgrid')\n",
    "\n",
    "\n",
    "plt.figure(figsize=(12, 5))\n",
    "\n",
    "\n",
    "plt.subplot(1, 2, 1)\n",
    "plt.plot(history.history['loss'], label='Training Loss', linewidth=2)\n",
    "plt.plot(history.history['val_loss'], label='Validation Loss', linewidth=2)\n",
    "plt.title('Training vs Validation Loss', fontsize=14)\n",
    "plt.xlabel('Epochs', fontsize=12)\n",
    "plt.ylabel('Loss', fontsize=12)\n",
    "plt.legend()\n",
    "\n",
    "# Plotting training epochs vs test accuracy\n",
    "plt.subplot(1, 2, 2)\n",
    "plt.plot(history.history['accuracy'], label='Training Accuracy', linewidth=2)\n",
    "plt.plot(history.history['val_accuracy'], label='Validation Accuracy', linewidth=2)\n",
    "plt.title('Training vs Validation Accuracy', fontsize=14)\n",
    "plt.xlabel('Epochs', fontsize=12)\n",
    "plt.ylabel('Accuracy', fontsize=12)\n",
    "plt.legend()\n",
    "\n",
    "\n",
    "plt.tight_layout(pad=3.0)\n",
    "\n",
    "\n",
    "plt.show()\n"
   ]
  },
  {
   "cell_type": "markdown",
   "id": "ac6b89ac",
   "metadata": {
    "papermill": {
     "duration": 0.029347,
     "end_time": "2023-11-18T09:51:49.843245",
     "exception": false,
     "start_time": "2023-11-18T09:51:49.813898",
     "status": "completed"
    },
    "tags": []
   },
   "source": [
    "# ***EVALUATION***"
   ]
  },
  {
   "cell_type": "markdown",
   "id": "cf77cedc",
   "metadata": {
    "papermill": {
     "duration": 0.029127,
     "end_time": "2023-11-18T09:51:49.902408",
     "exception": false,
     "start_time": "2023-11-18T09:51:49.873281",
     "status": "completed"
    },
    "tags": []
   },
   "source": []
  },
  {
   "cell_type": "code",
   "execution_count": 27,
   "id": "87362fdc",
   "metadata": {
    "execution": {
     "iopub.execute_input": "2023-11-18T09:51:49.963318Z",
     "iopub.status.busy": "2023-11-18T09:51:49.962980Z",
     "iopub.status.idle": "2023-11-18T09:51:49.969543Z",
     "shell.execute_reply": "2023-11-18T09:51:49.968636Z"
    },
    "papermill": {
     "duration": 0.039685,
     "end_time": "2023-11-18T09:51:49.971540",
     "exception": false,
     "start_time": "2023-11-18T09:51:49.931855",
     "status": "completed"
    },
    "tags": []
   },
   "outputs": [],
   "source": [
    "def removecontractionwords(foreachreview):\n",
    "    foreachreview = re.sub(r\"\\'re\", \" are\", foreachreview)\n",
    "    foreachreview = re.sub(r\"\\'s\", \" is\", foreachreview)\n",
    "    \n",
    "    foreachreview = re.sub(r\"\\'d\", \" would\", foreachreview)\n",
    "    foreachreview = re.sub(r\"\\'ll\", \" will\", foreachreview)\n",
    "    #seperating contractions of not\n",
    "    foreachreview = re.sub(r\"n\\'t\", \" not\", foreachreview)\n",
    "    foreachreview = re.sub(r\"\\'t\", \" not\", foreachreview)\n",
    "    foreachreview = re.sub(r\"won't\", \"will not\", foreachreview)\n",
    "    foreachreview = re.sub(r\"can\\'t\", \"can not\", foreachreview)\n",
    "    \n",
    "    foreachreview = re.sub(r\"\\'ve\", \" have\", foreachreview)\n",
    "    foreachreview = re.sub(r\"\\'m\", \" am\", foreachreview)\n",
    "    return foreachreview"
   ]
  },
  {
   "cell_type": "code",
   "execution_count": 28,
   "id": "96f98898",
   "metadata": {
    "execution": {
     "iopub.execute_input": "2023-11-18T09:51:50.032399Z",
     "iopub.status.busy": "2023-11-18T09:51:50.032005Z",
     "iopub.status.idle": "2023-11-18T09:51:50.147493Z",
     "shell.execute_reply": "2023-11-18T09:51:50.146524Z"
    },
    "papermill": {
     "duration": 0.148159,
     "end_time": "2023-11-18T09:51:50.149472",
     "exception": false,
     "start_time": "2023-11-18T09:51:50.001313",
     "status": "completed"
    },
    "tags": []
   },
   "outputs": [
    {
     "name": "stdout",
     "output_type": "stream",
     "text": [
      "\n",
      " A 8 Star Review from IMDB :\n",
      "  Now I am become death, the destroyer of worlds.\n",
      "synystargates6 August 2023\n",
      "Theory. Plutonium. Fire. Noise. Death. Morality. Compartmentalization. Oppenheimer.\n",
      "\n",
      "I'm halfway through my Barbenheimer journey, and it's my first in-theater Christopher Nolan experience! I liked what I saw a lot, I love a good borderline psychological horror deep dive into a tortured soul. A film like Spencer comes to mind after watching something like this.\n",
      "\n",
      "The moral conundrum between a scientific genius and the destruction he orchestrated is shown clearly in sequences before, during and after the bomb drops in Japan. The casting was perfect, the film is nothing short of a showcase in acting. It would've been nice to see more of Josh Peck and Devon Bostick, but everyone gives it their all here, especially Cillian Murphy & RDJ.\n",
      "\n",
      "The runtime might be intimidating for some, but it's worth it because in my opinion, not a second is wasted. And that test bomb drop might be one of the most insane things ever made for a film. My jaw legitimately dropped wide open and I couldn't believe how lucky I was to be experiencing this moment in the theater.\n",
      "1/1 [==============================] - 0s 30ms/step\n",
      "\n",
      "SENTIMENT : It is a Positive Review 🎬:) \n"
     ]
    }
   ],
   "source": [
    "preprocessed_Text =[]\n",
    "\n",
    "review= '''Now I am become death, the destroyer of worlds.\n",
    "synystargates6 August 2023\n",
    "Theory. Plutonium. Fire. Noise. Death. Morality. Compartmentalization. Oppenheimer.\n",
    "\n",
    "I'm halfway through my Barbenheimer journey, and it's my first in-theater Christopher Nolan experience! I liked what I saw a lot, I love a good borderline psychological horror deep dive into a tortured soul. A film like Spencer comes to mind after watching something like this.\n",
    "\n",
    "The moral conundrum between a scientific genius and the destruction he orchestrated is shown clearly in sequences before, during and after the bomb drops in Japan. The casting was perfect, the film is nothing short of a showcase in acting. It would've been nice to see more of Josh Peck and Devon Bostick, but everyone gives it their all here, especially Cillian Murphy & RDJ.\n",
    "\n",
    "The runtime might be intimidating for some, but it's worth it because in my opinion, not a second is wasted. And that test bomb drop might be one of the most insane things ever made for a film. My jaw legitimately dropped wide open and I couldn't believe how lucky I was to be experiencing this moment in the theater.''' \n",
    "print('\\n A 8 Star Review from IMDB :\\n ',review)\n",
    "for_each_review = re.sub(r\"http\\S+\", \"\", review)\n",
    "for_each_review = BeautifulSoup(for_each_review, 'html.parser').get_text()\n",
    "for_each_review = removecontractionwords(for_each_review)\n",
    "for_each_review = re.sub(\"\\S*\\d\\S*\", \"\", for_each_review).strip()\n",
    "for_each_review = re.sub('[^A-Za-z]+', ' ', for_each_review)\n",
    "for_each_review = ' '.join(word.lower() for word in for_each_review.split() \n",
    "                               if word.lower() not in stopwords.words('english'))\n",
    "preprocessed_Text.append(for_each_review.strip())\n",
    "\n",
    "\n",
    "\n",
    "token_sent = wrd.texts_to_sequences(preprocessed_Text)\n",
    "test_pad_seq = pad_sequences(token_sent, maxlen = Max_Review_Length,padding = forsmallerReviews, truncating = forlargerReviews)\n",
    "\n",
    "# Predict probabilities\n",
    "predicted_probs = BiLSTN_W2Vec.predict(test_pad_seq)\n",
    "\n",
    "# Convert probabilities to class predictions\n",
    "predicted_classes = (predicted_probs > 0.5).astype('int32')\n",
    "\n",
    "if predicted_classes[0][0] == 1 :\n",
    "    print(\"\\nSENTIMENT : It is a Positive Review 🎬:) \")\n",
    "else :\n",
    "    print(\"\\nSENTIMENT : It is a Negative Review 🎬:( \")"
   ]
  },
  {
   "cell_type": "code",
   "execution_count": 29,
   "id": "5b69d350",
   "metadata": {
    "execution": {
     "iopub.execute_input": "2023-11-18T09:51:50.212680Z",
     "iopub.status.busy": "2023-11-18T09:51:50.211536Z",
     "iopub.status.idle": "2023-11-18T09:51:50.313350Z",
     "shell.execute_reply": "2023-11-18T09:51:50.312161Z"
    },
    "papermill": {
     "duration": 0.135214,
     "end_time": "2023-11-18T09:51:50.315367",
     "exception": false,
     "start_time": "2023-11-18T09:51:50.180153",
     "status": "completed"
    },
    "tags": []
   },
   "outputs": [
    {
     "name": "stdout",
     "output_type": "stream",
     "text": [
      "\n",
      "A 2 Star Review from IMDB :\n",
      "  They found a way to make a nuclear bomb boring.\n",
      "heatherworkmanrios30 July 2023\n",
      "As a science nerd and someone who used to be obsessed with the Manhattan project, nuclear bombs etc. This really couldn't have been much worse. There were maybe 15 minutes of interesting tidbits related to themes Oppenheimer actually dealt with in his life and the rest was just garbage. It's like they tried to make it into a romcom/political film that had very little to do with the actual interesting parts of Oppenheimer's life. I won't write spoilers, but I promise you there is not much to spoil. Endless drivel, dialog that literally put me to sleep for a few minutes.\n",
      "\n",
      "If you're interested in science and tech, just skip it. If you're interested in a good drama, skip it. If you like dull trials with too many actors and are really into dudes yelling every 5 minutes about \"russia\" or \"communists\" then go for it.\n",
      "1/1 [==============================] - 0s 28ms/step\n",
      "\n",
      " SENTIMENT : It is a Negative Review 🎬:( \n"
     ]
    }
   ],
   "source": [
    "preprocessed_Text =[]\n",
    "\n",
    "review= '''They found a way to make a nuclear bomb boring.\n",
    "heatherworkmanrios30 July 2023\n",
    "As a science nerd and someone who used to be obsessed with the Manhattan project, nuclear bombs etc. This really couldn't have been much worse. There were maybe 15 minutes of interesting tidbits related to themes Oppenheimer actually dealt with in his life and the rest was just garbage. It's like they tried to make it into a romcom/political film that had very little to do with the actual interesting parts of Oppenheimer's life. I won't write spoilers, but I promise you there is not much to spoil. Endless drivel, dialog that literally put me to sleep for a few minutes.\n",
    "\n",
    "If you're interested in science and tech, just skip it. If you're interested in a good drama, skip it. If you like dull trials with too many actors and are really into dudes yelling every 5 minutes about \"russia\" or \"communists\" then go for it.'''\n",
    "print('\\nA 2 Star Review from IMDB :\\n ',review)\n",
    "for_each_review = re.sub(r\"http\\S+\", \"\", review)\n",
    "for_each_review = BeautifulSoup(for_each_review, 'html.parser').get_text()\n",
    "for_each_review = removecontractionwords(for_each_review)\n",
    "for_each_review = re.sub(\"\\S*\\d\\S*\", \"\", for_each_review).strip()\n",
    "for_each_review = re.sub('[^A-Za-z]+', ' ', for_each_review)\n",
    "for_each_review = ' '.join(word.lower() for word in for_each_review.split() \n",
    "                               if word.lower() not in stopwords.words('english'))\n",
    "preprocessed_Text.append(for_each_review.strip())\n",
    "\n",
    "\n",
    "\n",
    "token_sent = wrd.texts_to_sequences(preprocessed_Text)\n",
    "test_pad_seq = pad_sequences(token_sent, maxlen = Max_Review_Length,padding = forsmallerReviews, truncating = forlargerReviews)\n",
    "\n",
    "# Predict probabilities\n",
    "predicted_probs = BiLSTN_W2Vec.predict(test_pad_seq)\n",
    "\n",
    "# Convert probabilities to class predictions\n",
    "predicted_classes = (predicted_probs > 0.5).astype('int32')\n",
    "\n",
    "if predicted_classes[0][0] == 1 :\n",
    "    print(\"\\n SENTIMENT : It is a Positive Review 🎬:) \")\n",
    "else :\n",
    "    print(\"\\n SENTIMENT : It is a Negative Review 🎬:( \")"
   ]
  }
 ],
 "metadata": {
  "kaggle": {
   "accelerator": "gpu",
   "dataSources": [
    {
     "datasetId": 11594,
     "sourceId": 16023,
     "sourceType": "datasetVersion"
    },
    {
     "datasetId": 3914947,
     "sourceId": 6804012,
     "sourceType": "datasetVersion"
    },
    {
     "datasetId": 3915837,
     "sourceId": 6806480,
     "sourceType": "datasetVersion"
    }
   ],
   "dockerImageVersionId": 30559,
   "isGpuEnabled": true,
   "isInternetEnabled": false,
   "language": "python",
   "sourceType": "notebook"
  },
  "kernelspec": {
   "display_name": "Python 3",
   "language": "python",
   "name": "python3"
  },
  "language_info": {
   "codemirror_mode": {
    "name": "ipython",
    "version": 3
   },
   "file_extension": ".py",
   "mimetype": "text/x-python",
   "name": "python",
   "nbconvert_exporter": "python",
   "pygments_lexer": "ipython3",
   "version": "3.10.12"
  },
  "papermill": {
   "default_parameters": {},
   "duration": 1067.96172,
   "end_time": "2023-11-18T09:51:54.035442",
   "environment_variables": {},
   "exception": null,
   "input_path": "__notebook__.ipynb",
   "output_path": "__notebook__.ipynb",
   "parameters": {},
   "start_time": "2023-11-18T09:34:06.073722",
   "version": "2.4.0"
  }
 },
 "nbformat": 4,
 "nbformat_minor": 5
}
