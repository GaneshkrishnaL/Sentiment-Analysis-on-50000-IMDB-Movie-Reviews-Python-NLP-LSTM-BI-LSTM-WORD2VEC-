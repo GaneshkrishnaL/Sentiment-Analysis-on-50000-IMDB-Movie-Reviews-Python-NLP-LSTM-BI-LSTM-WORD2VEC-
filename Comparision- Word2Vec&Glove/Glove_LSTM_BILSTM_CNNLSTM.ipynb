{
 "cells": [
  {
   "cell_type": "markdown",
   "id": "a32ff029",
   "metadata": {
    "id": "RNSu4BVLfTgE",
    "papermill": {
     "duration": 0.010805,
     "end_time": "2023-10-28T06:19:15.239929",
     "exception": false,
     "start_time": "2023-10-28T06:19:15.229124",
     "status": "completed"
    },
    "tags": []
   },
   "source": [
    "## Importing the Libraries"
   ]
  },
  {
   "cell_type": "code",
   "execution_count": 1,
   "id": "277a3a26",
   "metadata": {
    "_cell_guid": "b1076dfc-b9ad-4769-8c92-a6c4dae69d19",
    "_uuid": "8f2839f25d086af736a60e9eeb907d3b93b6e0e5",
    "execution": {
     "iopub.execute_input": "2023-10-28T06:19:15.262525Z",
     "iopub.status.busy": "2023-10-28T06:19:15.261688Z",
     "iopub.status.idle": "2023-10-28T06:19:45.823947Z",
     "shell.execute_reply": "2023-10-28T06:19:45.822948Z"
    },
    "id": "KGJe1qUmfTgI",
    "papermill": {
     "duration": 30.585501,
     "end_time": "2023-10-28T06:19:45.835832",
     "exception": false,
     "start_time": "2023-10-28T06:19:15.250331",
     "status": "completed"
    },
    "tags": []
   },
   "outputs": [
    {
     "name": "stdout",
     "output_type": "stream",
     "text": [
      "[nltk_data] Error loading stopwords: <urlopen error [Errno -3]\n",
      "[nltk_data]     Temporary failure in name resolution>\n"
     ]
    }
   ],
   "source": [
    "import numpy as np\n",
    "import pandas as pd\n",
    "import warnings\n",
    "warnings.filterwarnings(\"ignore\")\n",
    "import matplotlib.pyplot as plt\n",
    "import seaborn as sns\n",
    "from tqdm import tqdm # for progress bars.\n",
    "import tensorflow as tf\n",
    "from tensorflow.keras.preprocessing.text import Tokenizer\n",
    "from tensorflow.keras.preprocessing.sequence import pad_sequences\n",
    "from tensorflow.keras.callbacks import EarlyStopping\n",
    "from tensorflow.keras.models import Sequential\n",
    "from tensorflow.keras.layers import Embedding, GlobalAveragePooling1D, Dense, Dropout, LSTM, Bidirectional\n",
    "from sklearn.metrics import accuracy_score\n",
    "from sklearn.metrics import precision_score\n",
    "from sklearn.metrics import recall_score\n",
    "from sklearn.metrics import f1_score\n",
    "from sklearn.metrics import roc_curve\n",
    "from sklearn.metrics import roc_auc_score\n",
    "from sklearn.metrics import cohen_kappa_score\n",
    "from sklearn.metrics import classification_report\n",
    "from sklearn.metrics import roc_auc_score\n",
    "from sklearn.metrics import confusion_matrix\n",
    "from keras.models import Sequential\n",
    "import nltk\n",
    "from nltk.corpus import stopwords\n",
    "nltk.download('stopwords')\n",
    "import re\n",
    "#need to have bs4 installed using !pip install bs4\n",
    "from bs4 import BeautifulSoup"
   ]
  },
  {
   "cell_type": "markdown",
   "id": "3f25e7c2",
   "metadata": {
    "id": "8-761VF5fTgJ",
    "papermill": {
     "duration": 0.009996,
     "end_time": "2023-10-28T06:19:45.856147",
     "exception": false,
     "start_time": "2023-10-28T06:19:45.846151",
     "status": "completed"
    },
    "tags": []
   },
   "source": [
    "### Loading my preprocessed dataset using pandas!"
   ]
  },
  {
   "cell_type": "code",
   "execution_count": 2,
   "id": "60988e11",
   "metadata": {
    "execution": {
     "iopub.execute_input": "2023-10-28T06:19:45.878311Z",
     "iopub.status.busy": "2023-10-28T06:19:45.877753Z",
     "iopub.status.idle": "2023-10-28T06:19:48.378956Z",
     "shell.execute_reply": "2023-10-28T06:19:48.377966Z"
    },
    "id": "pj9Kvlh4fTgK",
    "outputId": "00cbcf54-e3b0-411f-ec6f-3bf081bb36ac",
    "papermill": {
     "duration": 2.514799,
     "end_time": "2023-10-28T06:19:48.381353",
     "exception": false,
     "start_time": "2023-10-28T06:19:45.866554",
     "status": "completed"
    },
    "tags": []
   },
   "outputs": [],
   "source": [
    "movie_reviews=pd.read_csv('\"./preprocessed_dataset/movie_reviews_preprocessed.csv\"')\n"
   ]
  },
  {
   "cell_type": "code",
   "execution_count": 3,
   "id": "3c29799c",
   "metadata": {
    "execution": {
     "iopub.execute_input": "2023-10-28T06:19:48.404169Z",
     "iopub.status.busy": "2023-10-28T06:19:48.403444Z",
     "iopub.status.idle": "2023-10-28T06:19:48.844109Z",
     "shell.execute_reply": "2023-10-28T06:19:48.843061Z"
    },
    "id": "ktw4F5aefTgU",
    "papermill": {
     "duration": 0.454121,
     "end_time": "2023-10-28T06:19:48.846346",
     "exception": false,
     "start_time": "2023-10-28T06:19:48.392225",
     "status": "completed"
    },
    "tags": []
   },
   "outputs": [
    {
     "data": {
      "text/plain": [
       "Index(['Review', 'Category', 'preprocessed_Reviews',\n",
       "       'Length_of_PreprocReviews'],\n",
       "      dtype='object')"
      ]
     },
     "execution_count": 3,
     "metadata": {},
     "output_type": "execute_result"
    }
   ],
   "source": [
    "lengths_of_reviews = []\n",
    "for x in movie_reviews[\"preprocessed_Reviews\"] :\n",
    "    lengths_of_reviews.append(len(x.split()))\n",
    "movie_reviews[\"Length_of_PreprocReviews\"] = lengths_of_reviews\n",
    "movie_reviews.columns"
   ]
  },
  {
   "cell_type": "markdown",
   "id": "2f2d09de",
   "metadata": {
    "id": "G_TOzRW9fTgV",
    "papermill": {
     "duration": 0.010665,
     "end_time": "2023-10-28T06:19:48.868428",
     "exception": false,
     "start_time": "2023-10-28T06:19:48.857763",
     "status": "completed"
    },
    "tags": []
   },
   "source": [
    "## Split into XTrain, Ytrain , and XTest and YTest 80/20 split"
   ]
  },
  {
   "cell_type": "code",
   "execution_count": 4,
   "id": "8e1f3741",
   "metadata": {
    "execution": {
     "iopub.execute_input": "2023-10-28T06:19:48.891446Z",
     "iopub.status.busy": "2023-10-28T06:19:48.890754Z",
     "iopub.status.idle": "2023-10-28T06:19:48.905769Z",
     "shell.execute_reply": "2023-10-28T06:19:48.904948Z"
    },
    "id": "pZ3q9GnjfTgV",
    "papermill": {
     "duration": 0.028553,
     "end_time": "2023-10-28T06:19:48.907702",
     "exception": false,
     "start_time": "2023-10-28T06:19:48.879149",
     "status": "completed"
    },
    "tags": []
   },
   "outputs": [],
   "source": [
    "sentiments = movie_reviews['Category'].values\n",
    "from sklearn.model_selection import train_test_split\n",
    "X_train, X_test, Y_train, Y_test = train_test_split(movie_reviews[\"preprocessed_Reviews\"],sentiments, test_size=0.2, random_state=42)"
   ]
  },
  {
   "cell_type": "markdown",
   "id": "2e962c8b",
   "metadata": {
    "papermill": {
     "duration": 0.010353,
     "end_time": "2023-10-28T06:19:48.928616",
     "exception": false,
     "start_time": "2023-10-28T06:19:48.918263",
     "status": "completed"
    },
    "tags": []
   },
   "source": [
    "## Give Max review Length, Truncate Type and pre padding"
   ]
  },
  {
   "cell_type": "code",
   "execution_count": 5,
   "id": "31d2e7be",
   "metadata": {
    "execution": {
     "iopub.execute_input": "2023-10-28T06:19:48.951056Z",
     "iopub.status.busy": "2023-10-28T06:19:48.950762Z",
     "iopub.status.idle": "2023-10-28T06:19:48.954849Z",
     "shell.execute_reply": "2023-10-28T06:19:48.953952Z"
    },
    "id": "N9VQMx3jfTgZ",
    "papermill": {
     "duration": 0.017743,
     "end_time": "2023-10-28T06:19:48.956837",
     "exception": false,
     "start_time": "2023-10-28T06:19:48.939094",
     "status": "completed"
    },
    "tags": []
   },
   "outputs": [],
   "source": [
    "Max_Review_Length = 250\n",
    "forlargerReviews = \"post\"\n",
    "forsmallerReviews = \"pre\""
   ]
  },
  {
   "cell_type": "code",
   "execution_count": 6,
   "id": "e42a79fe",
   "metadata": {
    "execution": {
     "iopub.execute_input": "2023-10-28T06:19:48.979684Z",
     "iopub.status.busy": "2023-10-28T06:19:48.978948Z",
     "iopub.status.idle": "2023-10-28T06:19:53.175862Z",
     "shell.execute_reply": "2023-10-28T06:19:53.175072Z"
    },
    "id": "2X8KnA7SfTgZ",
    "papermill": {
     "duration": 4.210729,
     "end_time": "2023-10-28T06:19:53.178155",
     "exception": false,
     "start_time": "2023-10-28T06:19:48.967426",
     "status": "completed"
    },
    "tags": []
   },
   "outputs": [],
   "source": [
    "special_token_for_padding = \"<OOOOOOE>\"\n",
    "# builds vocabulary like each unique word gets a integer ID in form of dictionary.\n",
    "wrd = Tokenizer( char_level=False, oov_token = special_token_for_padding) #special_token_for_padding if word doesnt exist\n",
    "wrd.fit_on_texts(X_train)"
   ]
  },
  {
   "cell_type": "code",
   "execution_count": 7,
   "id": "23b5030b",
   "metadata": {
    "execution": {
     "iopub.execute_input": "2023-10-28T06:19:53.200825Z",
     "iopub.status.busy": "2023-10-28T06:19:53.200532Z",
     "iopub.status.idle": "2023-10-28T06:19:53.206137Z",
     "shell.execute_reply": "2023-10-28T06:19:53.205288Z"
    },
    "id": "euH2MwqOfTgZ",
    "outputId": "66c38fa7-6e0d-4bc1-926d-6e549815ff32",
    "papermill": {
     "duration": 0.019141,
     "end_time": "2023-10-28T06:19:53.208134",
     "exception": false,
     "start_time": "2023-10-28T06:19:53.188993",
     "status": "completed"
    },
    "tags": []
   },
   "outputs": [
    {
     "data": {
      "text/plain": [
       "92722"
      ]
     },
     "execution_count": 7,
     "metadata": {},
     "output_type": "execute_result"
    }
   ],
   "source": [
    "#total length of unique words in word index dictionary\n",
    "len(wrd.word_index)"
   ]
  },
  {
   "cell_type": "code",
   "execution_count": 8,
   "id": "21b91600",
   "metadata": {
    "execution": {
     "iopub.execute_input": "2023-10-28T06:19:53.230318Z",
     "iopub.status.busy": "2023-10-28T06:19:53.230052Z",
     "iopub.status.idle": "2023-10-28T06:19:53.233927Z",
     "shell.execute_reply": "2023-10-28T06:19:53.233069Z"
    },
    "id": "OtuUA_dffTga",
    "papermill": {
     "duration": 0.017121,
     "end_time": "2023-10-28T06:19:53.235754",
     "exception": false,
     "start_time": "2023-10-28T06:19:53.218633",
     "status": "completed"
    },
    "tags": []
   },
   "outputs": [],
   "source": [
    "size_of_vocabulary = len(wrd.word_index)+1 # 1 is added because of padding (0) and one more thing 0 is not present in tokenizer vocabulary it will start from 1"
   ]
  },
  {
   "cell_type": "code",
   "execution_count": 9,
   "id": "8055f067",
   "metadata": {
    "execution": {
     "iopub.execute_input": "2023-10-28T06:19:53.257700Z",
     "iopub.status.busy": "2023-10-28T06:19:53.257466Z",
     "iopub.status.idle": "2023-10-28T06:19:53.265699Z",
     "shell.execute_reply": "2023-10-28T06:19:53.264865Z"
    },
    "id": "03r3vuwDfTga",
    "outputId": "030659a3-9d40-43aa-b632-8f082a39a257",
    "papermill": {
     "duration": 0.021599,
     "end_time": "2023-10-28T06:19:53.267825",
     "exception": false,
     "start_time": "2023-10-28T06:19:53.246226",
     "status": "completed"
    },
    "tags": []
   },
   "outputs": [
    {
     "name": "stdout",
     "output_type": "stream",
     "text": [
      "all unique words\n"
     ]
    },
    {
     "data": {
      "text/plain": [
       "['<OOOOOOE>', 'movie', 'film', 'one', 'like']"
      ]
     },
     "execution_count": 9,
     "metadata": {},
     "output_type": "execute_result"
    }
   ],
   "source": [
    "unique_word_int_mappings = wrd.word_index\n",
    "print('all unique words')\n",
    "c = list(unique_word_int_mappings.keys())\n",
    "c[0:5]\n"
   ]
  },
  {
   "cell_type": "code",
   "execution_count": 10,
   "id": "49cb6d56",
   "metadata": {
    "execution": {
     "iopub.execute_input": "2023-10-28T06:19:53.290281Z",
     "iopub.status.busy": "2023-10-28T06:19:53.289999Z",
     "iopub.status.idle": "2023-10-28T06:19:53.299210Z",
     "shell.execute_reply": "2023-10-28T06:19:53.298286Z"
    },
    "papermill": {
     "duration": 0.022517,
     "end_time": "2023-10-28T06:19:53.301150",
     "exception": false,
     "start_time": "2023-10-28T06:19:53.278633",
     "status": "completed"
    },
    "tags": []
   },
   "outputs": [
    {
     "name": "stdout",
     "output_type": "stream",
     "text": [
      "Their respective int mappings\n"
     ]
    },
    {
     "data": {
      "text/plain": [
       "[1, 2, 3, 4, 5]"
      ]
     },
     "execution_count": 10,
     "metadata": {},
     "output_type": "execute_result"
    }
   ],
   "source": [
    "print('Their respective int mappings')\n",
    "c = list(unique_word_int_mappings.values())\n",
    "c[0:5]"
   ]
  },
  {
   "cell_type": "code",
   "execution_count": 11,
   "id": "b60102ac",
   "metadata": {
    "execution": {
     "iopub.execute_input": "2023-10-28T06:19:53.324512Z",
     "iopub.status.busy": "2023-10-28T06:19:53.324230Z",
     "iopub.status.idle": "2023-10-28T06:19:53.341937Z",
     "shell.execute_reply": "2023-10-28T06:19:53.341181Z"
    },
    "papermill": {
     "duration": 0.031643,
     "end_time": "2023-10-28T06:19:53.343806",
     "exception": false,
     "start_time": "2023-10-28T06:19:53.312163",
     "status": "completed"
    },
    "tags": []
   },
   "outputs": [
    {
     "name": "stdout",
     "output_type": "stream",
     "text": [
      "\n",
      "vocabulary of all words - mappings \n",
      "\n",
      "Word: <OOOOOOE>, Index: 1\n",
      "Word: movie, Index: 2\n",
      "Word: film, Index: 3\n",
      "Word: one, Index: 4\n",
      "Word: like, Index: 5\n"
     ]
    }
   ],
   "source": [
    "# Get the first 5 key-value pairs\n",
    "print('\\nvocabulary of all words - mappings \\n')\n",
    "top_5_pairs = list(unique_word_int_mappings.items())[:5]\n",
    "\n",
    "# Print the top 5 key-value pairs\n",
    "for key, value in top_5_pairs:\n",
    "    print(f'Word: {key}, Index: {value}')"
   ]
  },
  {
   "cell_type": "markdown",
   "id": "f6776143",
   "metadata": {
    "id": "l6nn8GzrfTga",
    "papermill": {
     "duration": 0.010868,
     "end_time": "2023-10-28T06:19:53.365609",
     "exception": false,
     "start_time": "2023-10-28T06:19:53.354741",
     "status": "completed"
    },
    "tags": []
   },
   "source": [
    "## Now converting each review from XTrain, Xtest into sequence of integer maps and padding :"
   ]
  },
  {
   "cell_type": "code",
   "execution_count": 12,
   "id": "a0ef58f5",
   "metadata": {
    "execution": {
     "iopub.execute_input": "2023-10-28T06:19:53.388600Z",
     "iopub.status.busy": "2023-10-28T06:19:53.388340Z",
     "iopub.status.idle": "2023-10-28T06:19:57.478523Z",
     "shell.execute_reply": "2023-10-28T06:19:57.477498Z"
    },
    "id": "0_2IxpVhfTga",
    "papermill": {
     "duration": 4.104154,
     "end_time": "2023-10-28T06:19:57.480698",
     "exception": false,
     "start_time": "2023-10-28T06:19:53.376544",
     "status": "completed"
    },
    "tags": []
   },
   "outputs": [],
   "source": [
    "XTrainsequenceofWordmaps = wrd.texts_to_sequences(X_train)\n",
    "XTrainPaddedsequence = pad_sequences(XTrainsequenceofWordmaps, maxlen = Max_Review_Length, padding = forsmallerReviews, truncating = forlargerReviews )\n",
    "XTestsequenceofWordmaps = wrd.texts_to_sequences(X_test)\n",
    "XTestPaddedsequence = pad_sequences(XTestsequenceofWordmaps, maxlen = Max_Review_Length,padding = forsmallerReviews, truncating = forlargerReviews)"
   ]
  },
  {
   "cell_type": "code",
   "execution_count": 13,
   "id": "455827e6",
   "metadata": {
    "execution": {
     "iopub.execute_input": "2023-10-28T06:19:57.504920Z",
     "iopub.status.busy": "2023-10-28T06:19:57.504582Z",
     "iopub.status.idle": "2023-10-28T06:19:57.510832Z",
     "shell.execute_reply": "2023-10-28T06:19:57.510051Z"
    },
    "id": "wdkVrpRefTga",
    "outputId": "7f571ed5-fd62-4d0e-9fed-ba8314d20f24",
    "papermill": {
     "duration": 0.020739,
     "end_time": "2023-10-28T06:19:57.512931",
     "exception": false,
     "start_time": "2023-10-28T06:19:57.492192",
     "status": "completed"
    },
    "tags": []
   },
   "outputs": [
    {
     "name": "stdout",
     "output_type": "stream",
     "text": [
      "Movie Review before sequence of integer mapping:\n",
      " simple primitive evaluations simply say liked reasonably funny bits got great stars gorgeous look songs two repeated forgettable get healthy ironic treatment terribly handsome mr fairbanks exploding frenzied wagnerian version tender ballad miss grable rendered much dancing crinolines draped around miss grable comedy might bit heavy handed result still uplifting photography including real outdoor shots thrill amazing playing around different shades lush heavy gold miss grable bit past prime plumpish side still fresh comfortable continental olde worlde comedy pretty much along line earth rita hayworth one tends rather disliked many suppose several people would deem lady ermine outdated stuffy fairy tale tend move along certain paste anyhow suggestion enjoy artwork costumes witty script everything else film offer stop complaining film released dvd germany german english soundtrack\n",
      "\n",
      "Movie Review after sequence of integer mapping :\n",
      "  [454, 5372, 35472, 215, 49, 305, 3446, 60, 1535, 90, 19, 286, 1348, 68, 580, 32, 2418, 2364, 17, 5767, 2833, 2086, 1872, 2087, 323, 8036, 5968, 14496, 23622, 205, 3844, 11960, 562, 12400, 4916, 14, 919, 56753, 27881, 83, 562, 12400, 95, 123, 117, 1097, 2522, 789, 47, 4917, 1143, 444, 54, 8942, 513, 3881, 360, 270, 83, 164, 6145, 5530, 1097, 1490, 562, 12400, 117, 388, 2261, 56754, 356, 47, 1251, 3612, 22547, 29856, 56755, 95, 81, 14, 220, 228, 547, 3669, 5271, 4, 4125, 139, 4785, 31, 1186, 311, 18, 6, 15213, 653, 27882, 7125, 12401, 2871, 656, 2192, 687, 220, 627, 10962, 6008, 5808, 237, 5868, 1197, 1733, 119, 153, 210, 3, 1337, 408, 4756, 3, 481, 152, 2052, 869, 479, 599]\n",
      "\n",
      "Movie Review after sequence of integer mapping & padded/truncated for max length: \n",
      " [    0     0     0     0     0     0     0     0     0     0     0     0\n",
      "     0     0     0     0     0     0     0     0     0     0     0     0\n",
      "     0     0     0     0     0     0     0     0     0     0     0     0\n",
      "     0     0     0     0     0     0     0     0     0     0     0     0\n",
      "     0     0     0     0     0     0     0     0     0     0     0     0\n",
      "     0     0     0     0     0     0     0     0     0     0     0     0\n",
      "     0     0     0     0     0     0     0     0     0     0     0     0\n",
      "     0     0     0     0     0     0     0     0     0     0     0     0\n",
      "     0     0     0     0     0     0     0     0     0     0     0     0\n",
      "     0     0     0     0     0     0     0     0     0     0     0     0\n",
      "     0     0     0     0   454  5372 35472   215    49   305  3446    60\n",
      "  1535    90    19   286  1348    68   580    32  2418  2364    17  5767\n",
      "  2833  2086  1872  2087   323  8036  5968 14496 23622   205  3844 11960\n",
      "   562 12400  4916    14   919 56753 27881    83   562 12400    95   123\n",
      "   117  1097  2522   789    47  4917  1143   444    54  8942   513  3881\n",
      "   360   270    83   164  6145  5530  1097  1490   562 12400   117   388\n",
      "  2261 56754   356    47  1251  3612 22547 29856 56755    95    81    14\n",
      "   220   228   547  3669  5271     4  4125   139  4785    31  1186   311\n",
      "    18     6 15213   653 27882  7125 12401  2871   656  2192   687   220\n",
      "   627 10962  6008  5808   237  5868  1197  1733   119   153   210     3\n",
      "  1337   408  4756     3   481   152  2052   869   479   599]\n"
     ]
    }
   ],
   "source": [
    "print('Movie Review before sequence of integer mapping:\\n',X_train.iloc[5])\n",
    "print('\\nMovie Review after sequence of integer mapping :\\n ',XTrainsequenceofWordmaps[5])\n",
    "print('\\nMovie Review after sequence of integer mapping & padded/truncated for max length: \\n',XTrainPaddedsequence[5])"
   ]
  },
  {
   "cell_type": "markdown",
   "id": "05a4f32e",
   "metadata": {
    "id": "wjOe_fsPfTgb",
    "papermill": {
     "duration": 0.011046,
     "end_time": "2023-10-28T06:19:57.535151",
     "exception": false,
     "start_time": "2023-10-28T06:19:57.524105",
     "status": "completed"
    },
    "tags": []
   },
   "source": [
    "## LSTM Model"
   ]
  },
  {
   "cell_type": "code",
   "execution_count": 14,
   "id": "435ac2d2",
   "metadata": {
    "execution": {
     "iopub.execute_input": "2023-10-28T06:19:57.558421Z",
     "iopub.status.busy": "2023-10-28T06:19:57.558135Z",
     "iopub.status.idle": "2023-10-28T06:20:34.852844Z",
     "shell.execute_reply": "2023-10-28T06:20:34.851952Z"
    },
    "id": "ciUhhviFfTgb",
    "outputId": "585af346-535d-43f3-9676-561cd1c5d08b",
    "papermill": {
     "duration": 37.30854,
     "end_time": "2023-10-28T06:20:34.854799",
     "exception": false,
     "start_time": "2023-10-28T06:19:57.546259",
     "status": "completed"
    },
    "tags": []
   },
   "outputs": [
    {
     "name": "stderr",
     "output_type": "stream",
     "text": [
      "400000it [00:37, 10729.51it/s]\n"
     ]
    }
   ],
   "source": [
    "gloveEmbeddings = {}\n",
    "fglv = open('../input/nlpword2vecembeddingspretrained/glove.6B.300d.txt')\n",
    "for l in tqdm(fglv):\n",
    "    val = l.split(' ')\n",
    "    word = val[0]\n",
    "    intEmbeddings = np.array(val[1:],dtype = 'float32')\n",
    "    gloveEmbeddings[word] = intEmbeddings"
   ]
  },
  {
   "cell_type": "code",
   "execution_count": 15,
   "id": "10d00dee",
   "metadata": {
    "execution": {
     "iopub.execute_input": "2023-10-28T06:20:34.932827Z",
     "iopub.status.busy": "2023-10-28T06:20:34.932220Z",
     "iopub.status.idle": "2023-10-28T06:20:35.001981Z",
     "shell.execute_reply": "2023-10-28T06:20:35.001050Z"
    },
    "papermill": {
     "duration": 0.110279,
     "end_time": "2023-10-28T06:20:35.003972",
     "exception": false,
     "start_time": "2023-10-28T06:20:34.893693",
     "status": "completed"
    },
    "tags": []
   },
   "outputs": [
    {
     "name": "stdout",
     "output_type": "stream",
     "text": [
      "words : words sequence mapping dictionary from Glove Embeddings:\n",
      "Word: the, Index: [ 4.6560e-02  2.1318e-01 -7.4364e-03 -4.5854e-01 -3.5639e-02  2.3643e-01\n",
      " -2.8836e-01  2.1521e-01 -1.3486e-01 -1.6413e+00 -2.6091e-01  3.2434e-02\n",
      "  5.6621e-02 -4.3296e-02 -2.1672e-02  2.2476e-01 -7.5129e-02 -6.7018e-02\n",
      " -1.4247e-01  3.8825e-02 -1.8951e-01  2.9977e-01  3.9305e-01  1.7887e-01\n",
      " -1.7343e-01 -2.1178e-01  2.3617e-01 -6.3681e-02 -4.2318e-01 -1.1661e-01\n",
      "  9.3754e-02  1.7296e-01 -3.3073e-01  4.9112e-01 -6.8995e-01 -9.2462e-02\n",
      "  2.4742e-01 -1.7991e-01  9.7908e-02  8.3118e-02  1.5299e-01 -2.7276e-01\n",
      " -3.8934e-02  5.4453e-01  5.3737e-01  2.9105e-01 -7.3514e-03  4.7880e-02\n",
      " -4.0760e-01 -2.6759e-02  1.7919e-01  1.0977e-02 -1.0963e-01 -2.6395e-01\n",
      "  7.3990e-02  2.6236e-01 -1.5080e-01  3.4623e-01  2.5758e-01  1.1971e-01\n",
      " -3.7135e-02 -7.1593e-02  4.3898e-01 -4.0764e-02  1.6425e-02 -4.4640e-01\n",
      "  1.7197e-01  4.6246e-02  5.8639e-02  4.1499e-02  5.3948e-01  5.2495e-01\n",
      "  1.1361e-01 -4.8315e-02 -3.6385e-01  1.8704e-01  9.2761e-02 -1.1129e-01\n",
      " -4.2085e-01  1.3992e-01 -3.9338e-01 -6.7945e-02  1.2188e-01  1.6707e-01\n",
      "  7.5169e-02 -1.5529e-02 -1.9499e-01  1.9638e-01  5.3194e-02  2.5170e-01\n",
      " -3.4845e-01 -1.0638e-01 -3.4692e-01 -1.9024e-01 -2.0040e-01  1.2154e-01\n",
      " -2.9208e-01  2.3353e-02 -1.1618e-01 -3.5768e-01  6.2304e-02  3.5884e-01\n",
      "  2.9060e-02  7.3005e-03  4.9482e-03 -1.5048e-01 -1.2313e-01  1.9337e-01\n",
      "  1.2173e-01  4.4503e-01  2.5147e-01  1.0781e-01 -1.7716e-01  3.8691e-02\n",
      "  8.1530e-02  1.4667e-01  6.3666e-02  6.1332e-02 -7.5569e-02 -3.7724e-01\n",
      "  1.5850e-02 -3.0342e-01  2.8374e-01 -4.2013e-02 -4.0715e-02 -1.5269e-01\n",
      "  7.4980e-02  1.5577e-01  1.0433e-01  3.1393e-01  1.9309e-01  1.9429e-01\n",
      "  1.5185e-01 -1.0192e-01 -1.8785e-02  2.0791e-01  1.3366e-01  1.9038e-01\n",
      " -2.5558e-01  3.0400e-01 -1.8960e-02  2.0147e-01 -4.2110e-01 -7.5156e-03\n",
      " -2.7977e-01 -1.9314e-01  4.6204e-02  1.9971e-01 -3.0207e-01  2.5735e-01\n",
      "  6.8107e-01 -1.9409e-01  2.3984e-01  2.2493e-01  6.5224e-01 -1.3561e-01\n",
      " -1.7383e-01 -4.8209e-02 -1.1860e-01  2.1588e-03 -1.9525e-02  1.1948e-01\n",
      "  1.9346e-01 -4.0820e-01 -8.2966e-02  1.6626e-01 -1.0601e-01  3.5861e-01\n",
      "  1.6922e-01  7.2590e-02 -2.4803e-01 -1.0024e-01 -5.2491e-01 -1.7745e-01\n",
      " -3.6647e-01  2.6180e-01 -1.2077e-02  8.3190e-02 -2.1528e-01  4.1045e-01\n",
      "  2.9136e-01  3.0869e-01  7.8864e-02  3.2207e-01 -4.1023e-02 -1.0970e-01\n",
      " -9.2041e-02 -1.2339e-01 -1.6416e-01  3.5382e-01 -8.2774e-02  3.3171e-01\n",
      " -2.4738e-01 -4.8928e-02  1.5746e-01  1.8988e-01 -2.6642e-02  6.3315e-02\n",
      " -1.0673e-02  3.4089e-01  1.4106e+00  1.3417e-01  2.8191e-01 -2.5940e-01\n",
      "  5.5267e-02 -5.2425e-02 -2.5789e-01  1.9127e-02 -2.2084e-02  3.2113e-01\n",
      "  6.8818e-02  5.1207e-01  1.6478e-01 -2.0194e-01  2.9232e-01  9.8575e-02\n",
      "  1.3145e-02 -1.0652e-01  1.3510e-01 -4.5332e-02  2.0697e-01 -4.8425e-01\n",
      " -4.4706e-01  3.3305e-03  2.9264e-03 -1.0975e-01 -2.3325e-01  2.2442e-01\n",
      " -1.0503e-01  1.2339e-01  1.0978e-01  4.8994e-02 -2.5157e-01  4.0319e-01\n",
      "  3.5318e-01  1.8651e-01 -2.3622e-02 -1.2734e-01  1.1475e-01  2.7359e-01\n",
      " -2.1866e-01  1.5794e-02  8.1754e-01 -2.3792e-02 -8.5469e-01 -1.6203e-01\n",
      "  1.8076e-01  2.8014e-02 -1.4340e-01  1.3139e-03 -9.1735e-02 -8.9704e-02\n",
      "  1.1105e-01 -1.6703e-01  6.8377e-02 -8.7388e-02 -3.9789e-02  1.4184e-02\n",
      "  2.1187e-01  2.8579e-01 -2.8797e-01 -5.8996e-02 -3.2436e-02 -4.7009e-03\n",
      " -1.7052e-01 -3.4741e-02 -1.1489e-01  7.5093e-02  9.9526e-02  4.8183e-02\n",
      " -7.3775e-02 -4.1817e-01  4.1268e-03  4.4414e-01 -1.6062e-01  1.4294e-01\n",
      " -2.2628e+00 -2.7347e-02  8.1311e-01  7.7417e-01 -2.5639e-01 -1.1576e-01\n",
      " -1.1982e-01 -2.1363e-01  2.8429e-02  2.7261e-01  3.1026e-02  9.6782e-02\n",
      "  6.7769e-03  1.4082e-01 -1.3064e-02 -2.9686e-01 -7.9913e-02  1.9500e-01\n",
      "  3.1549e-02  2.8506e-01 -8.7461e-02  9.0611e-03 -2.0989e-01  5.3913e-02]\n",
      "Word: ,, Index: [-2.5539e-01 -2.5723e-01  1.3169e-01 -4.2688e-02  2.1817e-01 -2.2702e-02\n",
      " -1.7854e-01  1.0756e-01  5.8936e-02 -1.3854e+00  5.8509e-01  3.6501e-02\n",
      " -1.9846e-01  1.9613e-01  4.0929e-01  1.5702e-01 -1.5305e-01  5.0447e-02\n",
      "  3.0045e-01 -1.1295e-01 -1.7043e-02  1.8593e-01  1.9982e-01  2.0053e-01\n",
      " -6.3141e-01 -1.2622e-01  2.9510e-01 -2.6282e-01 -1.5831e-01  1.2383e-03\n",
      "  1.1784e-02  5.8758e-01 -1.5914e-01  2.7731e-01 -8.2343e-01 -2.1134e-01\n",
      "  1.3414e-02  1.9637e-01 -4.1470e-01  1.0276e-03  1.3422e-01 -1.4205e-01\n",
      "  5.1545e-02  3.4993e-01 -2.9868e-01 -3.2090e-01  1.9566e-01  4.7886e-01\n",
      "  1.0744e-01  1.0004e-02  1.8503e-01  8.0694e-02  2.0739e-01 -9.7365e-02\n",
      " -3.9448e-02  2.0151e-02 -1.7378e-01  2.5679e-01  2.4198e-01 -3.5100e-01\n",
      "  1.8759e-01  6.3857e-03  1.8395e-01 -1.3929e-01  8.1855e-03 -6.3109e-01\n",
      "  2.9832e-01  3.1731e-01  1.3022e-01 -3.2284e-01 -5.0343e-02 -1.1400e-01\n",
      "  1.2097e-01  1.4687e-01 -3.3244e-01 -5.5789e-02 -5.8490e-02  2.7551e-01\n",
      " -4.3855e-02  3.9664e-02  1.5162e-01 -8.6627e-02  6.7729e-02  2.3146e-01\n",
      "  1.5351e-02 -1.5142e-01 -3.1975e-02  4.5181e-01 -6.8806e-02 -7.7058e-02\n",
      "  5.5193e-02  5.4596e-02 -2.4708e-01  3.1113e-02 -1.2826e-01  1.2782e-01\n",
      " -4.6708e-01 -2.6264e-02  1.0387e-02 -3.3174e-01  1.7277e-01 -2.6894e-01\n",
      "  2.0467e-01 -1.6181e-01 -4.1519e-02 -1.4878e-02  1.0279e-01  1.8868e-01\n",
      " -2.3396e-01 -1.8436e-02 -1.4747e-01 -3.2685e-01 -2.2055e-02 -5.4000e-02\n",
      "  1.6264e-01  2.7095e-01 -2.2792e-01 -7.7006e-03  1.1206e-01 -3.9787e-02\n",
      " -1.1906e-01  2.1773e-02  5.5280e-02 -1.3318e-01 -5.6867e-02  8.3040e-03\n",
      " -2.7021e-02  2.3447e-01  8.6864e-02  1.2009e-01 -3.0726e-01  2.4735e-03\n",
      "  2.9041e-01 -4.4887e-02  1.2297e-01  1.3077e-01  9.0807e-02 -3.9141e-01\n",
      "  8.0546e-02  1.8724e-01 -9.7481e-02  1.0397e-01  1.1492e-01  1.7775e-01\n",
      " -1.8167e-01  2.4652e-01  2.0136e-01 -2.3395e-01 -3.5018e-01 -1.4061e-01\n",
      "  1.7091e-01 -9.5465e-02 -1.0962e-01 -9.8360e-02  1.5344e-01  8.8680e-02\n",
      " -2.2048e-01 -1.3803e-01 -1.1288e-01 -8.5340e-02  7.2735e-02 -1.2732e-01\n",
      " -1.9640e-01 -1.0586e-01  2.0616e-03  1.3496e-01  5.8912e-02 -4.3979e-02\n",
      " -9.1375e-02  2.4408e-01  1.6872e-01  2.4297e-01 -4.3983e-01  4.7089e-01\n",
      " -1.8595e-02  1.6146e-01  1.9828e-01 -1.7237e-01 -2.6998e-03  5.2097e-01\n",
      " -8.0197e-02  4.3324e-01 -6.6261e-02  4.3240e-02  8.4954e-02 -1.4836e-01\n",
      " -4.1936e-01  1.5988e-01 -1.8411e-01  1.3210e-01  2.7476e-01  2.7279e-01\n",
      " -1.3465e-01 -9.1238e-02 -3.2523e-01  2.7936e-01  2.3296e-02 -3.3472e-01\n",
      "  1.6878e-02 -5.5544e-02  9.2915e-01 -3.3914e-01 -1.4791e-01  1.7301e-02\n",
      "  1.8272e-01  3.5108e-01 -1.1438e-01  1.3228e-01 -2.1064e-02 -2.7453e-01\n",
      " -1.0081e-01 -4.6296e-02  2.1689e-01 -5.6319e-02  1.4651e-01 -2.3536e-02\n",
      "  6.8026e-02 -4.5453e-02 -2.3851e-01 -3.3868e-01  3.1396e-01 -3.1914e-02\n",
      " -1.9217e-02  1.8715e-03 -1.3328e-01  7.0148e-02 -3.9761e-02  7.0801e-02\n",
      "  1.8422e-03 -1.2646e-01  2.8675e-02 -9.5728e-02  2.6673e-01 -3.5536e-01\n",
      "  1.5286e-01  6.4565e-02  1.2647e-01  2.3397e-01 -4.6058e-02  1.3519e-01\n",
      " -1.4549e-01  2.3031e-01  4.2066e-01  1.6267e-01 -1.6541e-01 -2.0155e-03\n",
      "  8.0653e-02 -3.0025e-01 -7.6014e-02  7.0612e-02  3.1570e-01  5.3520e-02\n",
      " -1.0721e-01 -1.3660e-01  3.2214e-01  2.0040e-01  1.1609e-01 -2.2501e-01\n",
      "  1.2155e-01 -1.0851e-01 -6.3187e-02 -2.4553e-01 -5.9751e-02  6.8787e-02\n",
      " -1.1627e-01 -8.3402e-03  5.2044e-03 -2.0159e-01 -2.3663e-02  1.7562e-01\n",
      " -3.1475e-01 -1.1162e-01 -1.2492e-01  1.0949e-01 -2.6913e-01  3.4893e-01\n",
      " -1.6997e+00 -2.4470e-01  3.0292e-01  5.6720e-02 -3.1737e-01  8.3612e-02\n",
      "  9.5949e-02 -1.7590e-01  1.0235e-01  3.6808e-01 -3.4380e-01  2.0607e-01\n",
      "  1.9135e-01  1.0992e-01  7.5968e-02 -1.4359e-02 -7.3794e-02  2.2176e-01\n",
      "  1.4652e-01  5.6686e-01  5.3307e-02 -2.3290e-01 -1.2226e-01  3.5499e-01]\n"
     ]
    }
   ],
   "source": [
    "print('words : words sequence mapping dictionary from Glove Embeddings:')\n",
    "top_3_pairs = list(gloveEmbeddings.items())[:2]\n",
    "\n",
    "# Print the top 3 key-value pairs\n",
    "for key, value in top_3_pairs:\n",
    "    print(f'Word: {key}, Index: {value}')"
   ]
  },
  {
   "cell_type": "code",
   "execution_count": 16,
   "id": "995f1341",
   "metadata": {
    "execution": {
     "iopub.execute_input": "2023-10-28T06:20:35.080677Z",
     "iopub.status.busy": "2023-10-28T06:20:35.080388Z",
     "iopub.status.idle": "2023-10-28T06:20:35.452561Z",
     "shell.execute_reply": "2023-10-28T06:20:35.451563Z"
    },
    "id": "OdMnf2FyfTgb",
    "outputId": "667a3d2c-ad05-43f2-e408-ceb8d6c9eecf",
    "papermill": {
     "duration": 0.412662,
     "end_time": "2023-10-28T06:20:35.454636",
     "exception": false,
     "start_time": "2023-10-28T06:20:35.041974",
     "status": "completed"
    },
    "tags": []
   },
   "outputs": [
    {
     "name": "stderr",
     "output_type": "stream",
     "text": [
      "100%|██████████| 92722/92722 [00:00<00:00, 255224.54it/s]\n"
     ]
    }
   ],
   "source": [
    "unmatched = []\n",
    "matchedwordswithglove = []\n",
    "GloveEmbeddings2d = np.zeros((size_of_vocabulary,300))\n",
    "for word,indx in tqdm(wrd.word_index.items()):\n",
    "    embedding_value = gloveEmbeddings.get(word)\n",
    "    if embedding_value is not None:\n",
    "        GloveEmbeddings2d[indx] = embedding_value\n",
    "        matchedwordswithglove.append(word)\n",
    "    else :\n",
    "        unmatched.append(word)"
   ]
  },
  {
   "cell_type": "code",
   "execution_count": 17,
   "id": "238c88c9",
   "metadata": {
    "execution": {
     "iopub.execute_input": "2023-10-28T06:20:35.532206Z",
     "iopub.status.busy": "2023-10-28T06:20:35.531898Z",
     "iopub.status.idle": "2023-10-28T06:20:35.539071Z",
     "shell.execute_reply": "2023-10-28T06:20:35.538168Z"
    },
    "papermill": {
     "duration": 0.048043,
     "end_time": "2023-10-28T06:20:35.540998",
     "exception": false,
     "start_time": "2023-10-28T06:20:35.492955",
     "status": "completed"
    },
    "tags": []
   },
   "outputs": [
    {
     "name": "stdout",
     "output_type": "stream",
     "text": [
      "places Glove word embedding sequence in the index of matched word in Vocabulary\n",
      "\n",
      "\n"
     ]
    },
    {
     "data": {
      "text/plain": [
       "array([[ 0.        ,  0.        ,  0.        , ...,  0.        ,\n",
       "         0.        ,  0.        ],\n",
       "       [ 0.        ,  0.        ,  0.        , ...,  0.        ,\n",
       "         0.        ,  0.        ],\n",
       "       [-0.138     , -0.12203   ,  0.0054643 , ...,  0.19934   ,\n",
       "         0.057473  , -0.023767  ],\n",
       "       ...,\n",
       "       [ 0.52126998, -0.0020212 ,  0.31834999, ..., -0.35832   ,\n",
       "         0.14297   , -0.46618   ],\n",
       "       [ 0.13747001,  0.068387  ,  0.28843001, ...,  0.32710001,\n",
       "         0.26559001, -0.26328999],\n",
       "       [ 0.50344998,  0.073788  ,  0.57310998, ..., -0.20967001,\n",
       "        -0.24700999,  0.62054002]])"
      ]
     },
     "execution_count": 17,
     "metadata": {},
     "output_type": "execute_result"
    }
   ],
   "source": [
    "print('places Glove word embedding sequence in the index of matched word in Vocabulary\\n\\n')\n",
    "GloveEmbeddings2d"
   ]
  },
  {
   "cell_type": "code",
   "execution_count": 18,
   "id": "6903f482",
   "metadata": {
    "execution": {
     "iopub.execute_input": "2023-10-28T06:20:35.617765Z",
     "iopub.status.busy": "2023-10-28T06:20:35.617491Z",
     "iopub.status.idle": "2023-10-28T06:20:35.623554Z",
     "shell.execute_reply": "2023-10-28T06:20:35.622681Z"
    },
    "papermill": {
     "duration": 0.046524,
     "end_time": "2023-10-28T06:20:35.625391",
     "exception": false,
     "start_time": "2023-10-28T06:20:35.578867",
     "status": "completed"
    },
    "tags": []
   },
   "outputs": [
    {
     "name": "stdout",
     "output_type": "stream",
     "text": [
      "\n",
      "\n",
      "length of matched words from our vocabulary with that of Word2Vec words: \n",
      "\n"
     ]
    },
    {
     "data": {
      "text/plain": [
       "69691"
      ]
     },
     "execution_count": 18,
     "metadata": {},
     "output_type": "execute_result"
    }
   ],
   "source": [
    "print('\\n\\nlength of matched words from our vocabulary with that of Word2Vec words: \\n')\n",
    "len(matchedwordswithglove)\n"
   ]
  },
  {
   "cell_type": "code",
   "execution_count": 19,
   "id": "d876e6d1",
   "metadata": {
    "execution": {
     "iopub.execute_input": "2023-10-28T06:20:35.702978Z",
     "iopub.status.busy": "2023-10-28T06:20:35.702682Z",
     "iopub.status.idle": "2023-10-28T06:20:35.708889Z",
     "shell.execute_reply": "2023-10-28T06:20:35.708041Z"
    },
    "papermill": {
     "duration": 0.047535,
     "end_time": "2023-10-28T06:20:35.711045",
     "exception": false,
     "start_time": "2023-10-28T06:20:35.663510",
     "status": "completed"
    },
    "tags": []
   },
   "outputs": [
    {
     "name": "stdout",
     "output_type": "stream",
     "text": [
      "\n",
      "matched words\n"
     ]
    },
    {
     "data": {
      "text/plain": [
       "['movie',\n",
       " 'film',\n",
       " 'one',\n",
       " 'like',\n",
       " 'would',\n",
       " 'good',\n",
       " 'time',\n",
       " 'even',\n",
       " 'story',\n",
       " 'see']"
      ]
     },
     "execution_count": 19,
     "metadata": {},
     "output_type": "execute_result"
    }
   ],
   "source": [
    "print('\\nmatched words')\n",
    "matchedwordswithglove[0:10]"
   ]
  },
  {
   "cell_type": "code",
   "execution_count": 20,
   "id": "67059848",
   "metadata": {
    "execution": {
     "iopub.execute_input": "2023-10-28T06:20:35.788783Z",
     "iopub.status.busy": "2023-10-28T06:20:35.788519Z",
     "iopub.status.idle": "2023-10-28T06:20:39.497007Z",
     "shell.execute_reply": "2023-10-28T06:20:39.496015Z"
    },
    "id": "dYGxCvnTfTgc",
    "outputId": "ae047724-dd0b-43cd-d62b-7300a4cc19e0",
    "papermill": {
     "duration": 3.75137,
     "end_time": "2023-10-28T06:20:39.500754",
     "exception": false,
     "start_time": "2023-10-28T06:20:35.749384",
     "status": "completed"
    },
    "tags": []
   },
   "outputs": [
    {
     "name": "stdout",
     "output_type": "stream",
     "text": [
      "Model: \"sequential\"\n",
      "_________________________________________________________________\n",
      " Layer (type)                Output Shape              Param #   \n",
      "=================================================================\n",
      " embedding (Embedding)       (None, 250, 300)          27816900  \n",
      "                                                                 \n",
      " lstm (LSTM)                 (None, 256)               570368    \n",
      "                                                                 \n",
      " dense (Dense)               (None, 1)                 257       \n",
      "                                                                 \n",
      "=================================================================\n",
      "Total params: 28,387,525\n",
      "Trainable params: 570,625\n",
      "Non-trainable params: 27,816,900\n",
      "_________________________________________________________________\n"
     ]
    }
   ],
   "source": [
    "lstm_units=256\n",
    "dropofLSTM =0.3\n",
    "lstm_glove = Sequential()\n",
    "lstm_glove.add(Embedding(size_of_vocabulary, 300, input_length=Max_Review_Length, weights = [GloveEmbeddings2d] , trainable = False))\n",
    "lstm_glove.add(LSTM(lstm_units, dropout=dropofLSTM))\n",
    "lstm_glove.add(Dense(1, activation='sigmoid'))\n",
    "lstm_glove.summary()"
   ]
  },
  {
   "cell_type": "code",
   "execution_count": 21,
   "id": "f07dac3d",
   "metadata": {
    "execution": {
     "iopub.execute_input": "2023-10-28T06:20:39.582798Z",
     "iopub.status.busy": "2023-10-28T06:20:39.582110Z",
     "iopub.status.idle": "2023-10-28T06:37:38.436633Z",
     "shell.execute_reply": "2023-10-28T06:37:38.435701Z"
    },
    "id": "ABeQmCFAfTgc",
    "outputId": "7cab5945-f15f-477e-d42d-aa17642a4888",
    "papermill": {
     "duration": 1018.897785,
     "end_time": "2023-10-28T06:37:38.438816",
     "exception": false,
     "start_time": "2023-10-28T06:20:39.541031",
     "status": "completed"
    },
    "tags": []
   },
   "outputs": [
    {
     "name": "stdout",
     "output_type": "stream",
     "text": [
      "Epoch 1/47\n",
      "1240/1240 - 28s - loss: 0.4362 - accuracy: 0.7992 - val_loss: 0.3190 - val_accuracy: 0.8626 - 28s/epoch - 22ms/step\n",
      "Epoch 2/47\n",
      "1240/1240 - 22s - loss: 0.3162 - accuracy: 0.8667 - val_loss: 0.2937 - val_accuracy: 0.8736 - 22s/epoch - 17ms/step\n",
      "Epoch 3/47\n",
      "1240/1240 - 22s - loss: 0.2821 - accuracy: 0.8828 - val_loss: 0.2762 - val_accuracy: 0.8846 - 22s/epoch - 17ms/step\n",
      "Epoch 4/47\n",
      "1240/1240 - 22s - loss: 0.2534 - accuracy: 0.8940 - val_loss: 0.2690 - val_accuracy: 0.8874 - 22s/epoch - 17ms/step\n",
      "Epoch 5/47\n",
      "1240/1240 - 21s - loss: 0.2222 - accuracy: 0.9093 - val_loss: 0.2662 - val_accuracy: 0.8921 - 21s/epoch - 17ms/step\n",
      "Epoch 6/47\n",
      "1240/1240 - 22s - loss: 0.1896 - accuracy: 0.9239 - val_loss: 0.2747 - val_accuracy: 0.8936 - 22s/epoch - 17ms/step\n",
      "Epoch 7/47\n",
      "1240/1240 - 22s - loss: 0.1563 - accuracy: 0.9368 - val_loss: 0.3007 - val_accuracy: 0.8860 - 22s/epoch - 17ms/step\n",
      "Epoch 8/47\n",
      "1240/1240 - 22s - loss: 0.1272 - accuracy: 0.9507 - val_loss: 0.3191 - val_accuracy: 0.8930 - 22s/epoch - 17ms/step\n",
      "Epoch 9/47\n",
      "1240/1240 - 22s - loss: 0.0988 - accuracy: 0.9631 - val_loss: 0.3627 - val_accuracy: 0.8908 - 22s/epoch - 17ms/step\n",
      "Epoch 10/47\n",
      "1240/1240 - 22s - loss: 0.0817 - accuracy: 0.9691 - val_loss: 0.3722 - val_accuracy: 0.8858 - 22s/epoch - 17ms/step\n",
      "Epoch 11/47\n",
      "1240/1240 - 22s - loss: 0.0699 - accuracy: 0.9738 - val_loss: 0.4132 - val_accuracy: 0.8894 - 22s/epoch - 17ms/step\n",
      "Epoch 12/47\n",
      "1240/1240 - 22s - loss: 0.0597 - accuracy: 0.9777 - val_loss: 0.4037 - val_accuracy: 0.8872 - 22s/epoch - 17ms/step\n",
      "Epoch 13/47\n",
      "1240/1240 - 22s - loss: 0.0539 - accuracy: 0.9803 - val_loss: 0.4252 - val_accuracy: 0.8897 - 22s/epoch - 17ms/step\n",
      "Epoch 14/47\n",
      "1240/1240 - 22s - loss: 0.0473 - accuracy: 0.9829 - val_loss: 0.4571 - val_accuracy: 0.8876 - 22s/epoch - 17ms/step\n",
      "Epoch 15/47\n",
      "1240/1240 - 22s - loss: 0.0415 - accuracy: 0.9853 - val_loss: 0.4827 - val_accuracy: 0.8898 - 22s/epoch - 17ms/step\n",
      "Epoch 16/47\n",
      "1240/1240 - 22s - loss: 0.0408 - accuracy: 0.9853 - val_loss: 0.4604 - val_accuracy: 0.8882 - 22s/epoch - 17ms/step\n",
      "Epoch 17/47\n",
      "1240/1240 - 22s - loss: 0.0388 - accuracy: 0.9860 - val_loss: 0.4647 - val_accuracy: 0.8865 - 22s/epoch - 17ms/step\n",
      "Epoch 18/47\n",
      "1240/1240 - 22s - loss: 0.0351 - accuracy: 0.9875 - val_loss: 0.4967 - val_accuracy: 0.8880 - 22s/epoch - 17ms/step\n",
      "Epoch 19/47\n",
      "1240/1240 - 22s - loss: 0.0326 - accuracy: 0.9880 - val_loss: 0.5187 - val_accuracy: 0.8856 - 22s/epoch - 17ms/step\n",
      "Epoch 20/47\n",
      "1240/1240 - 22s - loss: 0.0314 - accuracy: 0.9890 - val_loss: 0.5196 - val_accuracy: 0.8870 - 22s/epoch - 17ms/step\n",
      "Epoch 21/47\n",
      "1240/1240 - 22s - loss: 0.0333 - accuracy: 0.9887 - val_loss: 0.5518 - val_accuracy: 0.8828 - 22s/epoch - 17ms/step\n",
      "Epoch 22/47\n",
      "1240/1240 - 22s - loss: 0.0302 - accuracy: 0.9894 - val_loss: 0.5268 - val_accuracy: 0.8861 - 22s/epoch - 17ms/step\n",
      "Epoch 23/47\n",
      "1240/1240 - 22s - loss: 0.0301 - accuracy: 0.9894 - val_loss: 0.5268 - val_accuracy: 0.8865 - 22s/epoch - 17ms/step\n",
      "Epoch 24/47\n",
      "1240/1240 - 22s - loss: 0.0269 - accuracy: 0.9901 - val_loss: 0.5296 - val_accuracy: 0.8845 - 22s/epoch - 17ms/step\n",
      "Epoch 25/47\n",
      "1240/1240 - 22s - loss: 0.0337 - accuracy: 0.9885 - val_loss: 0.5156 - val_accuracy: 0.8878 - 22s/epoch - 17ms/step\n",
      "Epoch 26/47\n",
      "1240/1240 - 22s - loss: 0.0288 - accuracy: 0.9899 - val_loss: 0.5514 - val_accuracy: 0.8873 - 22s/epoch - 17ms/step\n",
      "Epoch 27/47\n",
      "1240/1240 - 22s - loss: 0.0254 - accuracy: 0.9907 - val_loss: 0.5835 - val_accuracy: 0.8846 - 22s/epoch - 17ms/step\n",
      "Epoch 28/47\n",
      "1240/1240 - 22s - loss: 0.0242 - accuracy: 0.9914 - val_loss: 0.5651 - val_accuracy: 0.8874 - 22s/epoch - 17ms/step\n",
      "Epoch 29/47\n",
      "1240/1240 - 22s - loss: 0.0258 - accuracy: 0.9908 - val_loss: 0.6102 - val_accuracy: 0.8859 - 22s/epoch - 17ms/step\n",
      "Epoch 30/47\n",
      "1240/1240 - 22s - loss: 0.0250 - accuracy: 0.9911 - val_loss: 0.5959 - val_accuracy: 0.8884 - 22s/epoch - 17ms/step\n",
      "Epoch 31/47\n",
      "1240/1240 - 22s - loss: 0.0223 - accuracy: 0.9917 - val_loss: 0.5553 - val_accuracy: 0.8870 - 22s/epoch - 17ms/step\n",
      "Epoch 32/47\n",
      "1240/1240 - 22s - loss: 0.0247 - accuracy: 0.9912 - val_loss: 0.5773 - val_accuracy: 0.8840 - 22s/epoch - 17ms/step\n",
      "Epoch 33/47\n",
      "1240/1240 - 22s - loss: 0.0235 - accuracy: 0.9916 - val_loss: 0.5822 - val_accuracy: 0.8856 - 22s/epoch - 17ms/step\n",
      "Epoch 34/47\n",
      "1240/1240 - 22s - loss: 0.0259 - accuracy: 0.9911 - val_loss: 0.5405 - val_accuracy: 0.8874 - 22s/epoch - 17ms/step\n",
      "Epoch 35/47\n",
      "1240/1240 - 22s - loss: 0.0219 - accuracy: 0.9926 - val_loss: 0.5763 - val_accuracy: 0.8885 - 22s/epoch - 17ms/step\n",
      "Epoch 36/47\n",
      "1240/1240 - 22s - loss: 0.0236 - accuracy: 0.9913 - val_loss: 0.5777 - val_accuracy: 0.8889 - 22s/epoch - 17ms/step\n",
      "Epoch 37/47\n",
      "1240/1240 - 22s - loss: 0.0221 - accuracy: 0.9921 - val_loss: 0.5583 - val_accuracy: 0.8867 - 22s/epoch - 17ms/step\n",
      "Epoch 38/47\n",
      "1240/1240 - 22s - loss: 0.0234 - accuracy: 0.9914 - val_loss: 0.6187 - val_accuracy: 0.8702 - 22s/epoch - 17ms/step\n",
      "Epoch 39/47\n",
      "1240/1240 - 22s - loss: 0.0236 - accuracy: 0.9918 - val_loss: 0.5744 - val_accuracy: 0.8898 - 22s/epoch - 17ms/step\n",
      "Epoch 40/47\n",
      "1240/1240 - 22s - loss: 0.0222 - accuracy: 0.9920 - val_loss: 0.6015 - val_accuracy: 0.8907 - 22s/epoch - 17ms/step\n",
      "Epoch 41/47\n",
      "1240/1240 - 22s - loss: 0.0226 - accuracy: 0.9919 - val_loss: 0.5818 - val_accuracy: 0.8915 - 22s/epoch - 17ms/step\n",
      "Epoch 42/47\n",
      "1240/1240 - 22s - loss: 0.0197 - accuracy: 0.9926 - val_loss: 0.6100 - val_accuracy: 0.8910 - 22s/epoch - 17ms/step\n",
      "Epoch 43/47\n",
      "1240/1240 - 22s - loss: 0.0231 - accuracy: 0.9922 - val_loss: 0.6064 - val_accuracy: 0.8852 - 22s/epoch - 17ms/step\n",
      "Epoch 44/47\n",
      "1240/1240 - 22s - loss: 0.0241 - accuracy: 0.9919 - val_loss: 0.5443 - val_accuracy: 0.8859 - 22s/epoch - 17ms/step\n",
      "Epoch 45/47\n",
      "1240/1240 - 22s - loss: 0.0221 - accuracy: 0.9923 - val_loss: 0.6044 - val_accuracy: 0.8903 - 22s/epoch - 17ms/step\n",
      "Epoch 46/47\n",
      "1240/1240 - 22s - loss: 0.0211 - accuracy: 0.9929 - val_loss: 0.5821 - val_accuracy: 0.8868 - 22s/epoch - 17ms/step\n",
      "Epoch 47/47\n",
      "1240/1240 - 22s - loss: 0.0210 - accuracy: 0.9924 - val_loss: 0.6337 - val_accuracy: 0.8904 - 22s/epoch - 17ms/step\n"
     ]
    }
   ],
   "source": [
    "lstm_glove.compile(loss = 'binary_crossentropy', optimizer = 'adam', metrics=['accuracy'])\n",
    "totalEpochs = 47\n",
    "history = lstm_glove.fit(XTrainPaddedsequence,Y_train, epochs=totalEpochs,validation_data=(XTestPaddedsequence, Y_test), verbose=2)"
   ]
  },
  {
   "cell_type": "code",
   "execution_count": 22,
   "id": "4ffd9f88",
   "metadata": {
    "execution": {
     "iopub.execute_input": "2023-10-28T06:37:38.533417Z",
     "iopub.status.busy": "2023-10-28T06:37:38.533110Z",
     "iopub.status.idle": "2023-10-28T06:37:43.914809Z",
     "shell.execute_reply": "2023-10-28T06:37:43.913883Z"
    },
    "id": "nm4_KBUPfTgd",
    "outputId": "6eb87ac4-f409-4abb-bbac-c9e52bcbec8b",
    "papermill": {
     "duration": 5.431118,
     "end_time": "2023-10-28T06:37:43.916991",
     "exception": false,
     "start_time": "2023-10-28T06:37:38.485873",
     "status": "completed"
    },
    "tags": []
   },
   "outputs": [
    {
     "name": "stdout",
     "output_type": "stream",
     "text": [
      "310/310 [==============================] - 2s 7ms/step\n",
      "Accuracy of LSTM_Glove: 89.039%\n",
      "Precision of LSTM_Glove: 87.627%\n",
      "Recall of LSTM_Glove: 90.804%\n",
      "F1 score of LSTM_Glove: 89.187%\n",
      "              precision    recall  f1-score   support\n",
      "\n",
      "           0       0.91      0.87      0.89      4980\n",
      "           1       0.88      0.91      0.89      4937\n",
      "\n",
      "    accuracy                           0.89      9917\n",
      "   macro avg       0.89      0.89      0.89      9917\n",
      "weighted avg       0.89      0.89      0.89      9917\n",
      "\n"
     ]
    },
    {
     "data": {
      "image/png": "[encoded data removed]",
      "text/plain": [
       "<Figure size 800x600 with 1 Axes>"
      ]
     },
     "metadata": {},
     "output_type": "display_data"
    }
   ],
   "source": [
    "model = lstm_glove\n",
    "predictions = model.predict(XTestPaddedsequence, verbose=0)\n",
    "\n",
    "predicted_sentiment = (model.predict(XTestPaddedsequence)>0.5).astype('int32')\n",
    "\n",
    "predictions = predictions[:, 0]\n",
    "predicted_sentiment = predicted_sentiment[:, 0]\n",
    "\n",
    "\n",
    "accuracy = accuracy_score(Y_test, predicted_sentiment) * 100\n",
    "precision = precision_score(Y_test, predicted_sentiment)* 100\n",
    "recall = recall_score(Y_test, predicted_sentiment)* 100\n",
    "f1 = f1_score(Y_test, predicted_sentiment)* 100\n",
    "\n",
    "print(f'Accuracy of LSTM_Glove: {accuracy:.3f}%')\n",
    "print(f'Precision of LSTM_Glove: {precision:.3f}%')\n",
    "print(f'Recall of LSTM_Glove: {recall:.3f}%')\n",
    "print(f'F1 score of LSTM_Glove: {f1:.3f}%')\n",
    "\n",
    "matrix = classification_report(Y_test, predicted_sentiment)\n",
    "print(matrix)\n",
    "\n",
    "plt.figure(figsize=(8, 6))\n",
    "false_positive_rate, true_positive_rate, thresholds = roc_curve(Y_test, predictions, pos_label=1)\n",
    "random_false_positive_rate, random_true_positive_rate, _ = roc_curve(Y_test, np.zeros(len(Y_test)), pos_label=1)\n",
    "auc_score = roc_auc_score(Y_test, predictions)\n",
    "\n",
    "plt.plot(false_positive_rate, true_positive_rate, linestyle='-', color='blue', label='LSTM (AUC = {:.3f})'.format(auc_score))\n",
    "plt.plot(random_false_positive_rate, random_true_positive_rate, linestyle='--', color='orange')\n",
    "\n",
    "plt.title('Receiver Operating Characteristic (ROC) Curve')\n",
    "plt.xlabel('False Positive Rate')\n",
    "plt.ylabel('True Positive Rate')\n",
    "plt.legend(loc='best')\n",
    "plt.show()"
   ]
  },
  {
   "cell_type": "markdown",
   "id": "51b49e33",
   "metadata": {
    "id": "lp9Kkyz7fTge",
    "papermill": {
     "duration": 0.050361,
     "end_time": "2023-10-28T06:37:44.018162",
     "exception": false,
     "start_time": "2023-10-28T06:37:43.967801",
     "status": "completed"
    },
    "tags": []
   },
   "source": [
    "## Bi-Directional LSTM's"
   ]
  },
  {
   "cell_type": "code",
   "execution_count": 23,
   "id": "88f3d0b7",
   "metadata": {
    "execution": {
     "iopub.execute_input": "2023-10-28T06:37:44.120807Z",
     "iopub.status.busy": "2023-10-28T06:37:44.120504Z",
     "iopub.status.idle": "2023-10-28T06:37:45.359482Z",
     "shell.execute_reply": "2023-10-28T06:37:45.358713Z"
    },
    "id": "Jojsv3txfTge",
    "papermill": {
     "duration": 1.292111,
     "end_time": "2023-10-28T06:37:45.361745",
     "exception": false,
     "start_time": "2023-10-28T06:37:44.069634",
     "status": "completed"
    },
    "tags": []
   },
   "outputs": [],
   "source": [
    "dropofLSTM =0.3\n",
    "biLSTMglove = Sequential()\n",
    "biLSTMglove.add(Embedding(size_of_vocabulary, 300, input_length=Max_Review_Length, weights = [GloveEmbeddings2d] , trainable = False))\n",
    "biLSTMglove.add(Bidirectional(LSTM(lstm_units, dropout=dropofLSTM, return_sequences=True)))\n",
    "biLSTMglove.add(Bidirectional(LSTM(lstm_units, dropout=dropofLSTM)))\n",
    "biLSTMglove.add(Dense(1, activation='sigmoid'))\n",
    "biLSTMglove.compile(loss = 'binary_crossentropy', optimizer = 'adam', metrics=['accuracy'])"
   ]
  },
  {
   "cell_type": "code",
   "execution_count": 24,
   "id": "93cb75c7",
   "metadata": {
    "execution": {
     "iopub.execute_input": "2023-10-28T06:37:45.464048Z",
     "iopub.status.busy": "2023-10-28T06:37:45.463711Z",
     "iopub.status.idle": "2023-10-28T06:37:45.484894Z",
     "shell.execute_reply": "2023-10-28T06:37:45.483972Z"
    },
    "id": "U2pECKjGfTge",
    "outputId": "4aca6efb-7d39-41d8-b658-54f4f2fdc3d4",
    "papermill": {
     "duration": 0.076709,
     "end_time": "2023-10-28T06:37:45.489546",
     "exception": false,
     "start_time": "2023-10-28T06:37:45.412837",
     "status": "completed"
    },
    "tags": []
   },
   "outputs": [
    {
     "name": "stdout",
     "output_type": "stream",
     "text": [
      "Model: \"sequential_1\"\n",
      "_________________________________________________________________\n",
      " Layer (type)                Output Shape              Param #   \n",
      "=================================================================\n",
      " embedding_1 (Embedding)     (None, 250, 300)          27816900  \n",
      "                                                                 \n",
      " bidirectional (Bidirectiona  (None, 250, 512)         1140736   \n",
      " l)                                                              \n",
      "                                                                 \n",
      " bidirectional_1 (Bidirectio  (None, 512)              1574912   \n",
      " nal)                                                            \n",
      "                                                                 \n",
      " dense_1 (Dense)             (None, 1)                 513       \n",
      "                                                                 \n",
      "=================================================================\n",
      "Total params: 30,533,061\n",
      "Trainable params: 2,716,161\n",
      "Non-trainable params: 27,816,900\n",
      "_________________________________________________________________\n"
     ]
    }
   ],
   "source": [
    "biLSTMglove.summary()"
   ]
  },
  {
   "cell_type": "code",
   "execution_count": 25,
   "id": "508bebb8",
   "metadata": {
    "execution": {
     "iopub.execute_input": "2023-10-28T06:37:45.593447Z",
     "iopub.status.busy": "2023-10-28T06:37:45.592907Z",
     "iopub.status.idle": "2023-10-28T07:54:06.281875Z",
     "shell.execute_reply": "2023-10-28T07:54:06.280887Z"
    },
    "id": "VMd9HWmBfTge",
    "outputId": "bd7643ca-e90e-4f96-b673-d2dfd388ccc3",
    "papermill": {
     "duration": 4580.803187,
     "end_time": "2023-10-28T07:54:06.344030",
     "exception": false,
     "start_time": "2023-10-28T06:37:45.540843",
     "status": "completed"
    },
    "tags": []
   },
   "outputs": [
    {
     "name": "stdout",
     "output_type": "stream",
     "text": [
      "Epoch 1/47\n",
      "1240/1240 - 105s - loss: 0.4369 - accuracy: 0.8011 - val_loss: 0.3186 - val_accuracy: 0.8654 - 105s/epoch - 85ms/step\n",
      "Epoch 2/47\n",
      "1240/1240 - 97s - loss: 0.3268 - accuracy: 0.8605 - val_loss: 0.2975 - val_accuracy: 0.8832 - 97s/epoch - 78ms/step\n",
      "Epoch 3/47\n",
      "1240/1240 - 97s - loss: 0.2934 - accuracy: 0.8759 - val_loss: 0.2739 - val_accuracy: 0.8857 - 97s/epoch - 78ms/step\n",
      "Epoch 4/47\n",
      "1240/1240 - 97s - loss: 0.2630 - accuracy: 0.8915 - val_loss: 0.2637 - val_accuracy: 0.8924 - 97s/epoch - 78ms/step\n",
      "Epoch 5/47\n",
      "1240/1240 - 97s - loss: 0.2377 - accuracy: 0.9018 - val_loss: 0.3232 - val_accuracy: 0.8697 - 97s/epoch - 78ms/step\n",
      "Epoch 6/47\n",
      "1240/1240 - 97s - loss: 0.2031 - accuracy: 0.9172 - val_loss: 0.2743 - val_accuracy: 0.8962 - 97s/epoch - 78ms/step\n",
      "Epoch 7/47\n",
      "1240/1240 - 97s - loss: 0.1787 - accuracy: 0.9284 - val_loss: 0.2908 - val_accuracy: 0.8910 - 97s/epoch - 78ms/step\n",
      "Epoch 8/47\n",
      "1240/1240 - 97s - loss: 0.1470 - accuracy: 0.9409 - val_loss: 0.3063 - val_accuracy: 0.8936 - 97s/epoch - 78ms/step\n",
      "Epoch 9/47\n",
      "1240/1240 - 97s - loss: 0.1223 - accuracy: 0.9527 - val_loss: 0.3039 - val_accuracy: 0.8889 - 97s/epoch - 78ms/step\n",
      "Epoch 10/47\n",
      "1240/1240 - 97s - loss: 0.1046 - accuracy: 0.9606 - val_loss: 0.3591 - val_accuracy: 0.8902 - 97s/epoch - 78ms/step\n",
      "Epoch 11/47\n",
      "1240/1240 - 97s - loss: 0.0860 - accuracy: 0.9680 - val_loss: 0.4206 - val_accuracy: 0.8899 - 97s/epoch - 78ms/step\n",
      "Epoch 12/47\n",
      "1240/1240 - 97s - loss: 0.0753 - accuracy: 0.9705 - val_loss: 0.4237 - val_accuracy: 0.8882 - 97s/epoch - 78ms/step\n",
      "Epoch 13/47\n",
      "1240/1240 - 97s - loss: 0.0652 - accuracy: 0.9755 - val_loss: 0.4277 - val_accuracy: 0.8863 - 97s/epoch - 79ms/step\n",
      "Epoch 14/47\n",
      "1240/1240 - 97s - loss: 0.0599 - accuracy: 0.9773 - val_loss: 0.4475 - val_accuracy: 0.8883 - 97s/epoch - 78ms/step\n",
      "Epoch 15/47\n",
      "1240/1240 - 97s - loss: 0.0577 - accuracy: 0.9790 - val_loss: 0.4541 - val_accuracy: 0.8864 - 97s/epoch - 78ms/step\n",
      "Epoch 16/47\n",
      "1240/1240 - 97s - loss: 0.0493 - accuracy: 0.9814 - val_loss: 0.4645 - val_accuracy: 0.8916 - 97s/epoch - 79ms/step\n",
      "Epoch 17/47\n",
      "1240/1240 - 97s - loss: 0.0487 - accuracy: 0.9833 - val_loss: 0.5107 - val_accuracy: 0.8873 - 97s/epoch - 78ms/step\n",
      "Epoch 18/47\n",
      "1240/1240 - 97s - loss: 0.0412 - accuracy: 0.9849 - val_loss: 0.4997 - val_accuracy: 0.8924 - 97s/epoch - 78ms/step\n",
      "Epoch 19/47\n",
      "1240/1240 - 97s - loss: 0.0353 - accuracy: 0.9871 - val_loss: 0.5206 - val_accuracy: 0.8887 - 97s/epoch - 78ms/step\n",
      "Epoch 20/47\n",
      "1240/1240 - 97s - loss: 0.0335 - accuracy: 0.9878 - val_loss: 0.5212 - val_accuracy: 0.8880 - 97s/epoch - 79ms/step\n",
      "Epoch 21/47\n",
      "1240/1240 - 97s - loss: 0.0349 - accuracy: 0.9870 - val_loss: 0.5244 - val_accuracy: 0.8876 - 97s/epoch - 79ms/step\n",
      "Epoch 22/47\n",
      "1240/1240 - 97s - loss: 0.0332 - accuracy: 0.9876 - val_loss: 0.5457 - val_accuracy: 0.8912 - 97s/epoch - 78ms/step\n",
      "Epoch 23/47\n",
      "1240/1240 - 97s - loss: 0.0345 - accuracy: 0.9873 - val_loss: 0.5003 - val_accuracy: 0.8901 - 97s/epoch - 78ms/step\n",
      "Epoch 24/47\n",
      "1240/1240 - 97s - loss: 0.0340 - accuracy: 0.9878 - val_loss: 0.5013 - val_accuracy: 0.8915 - 97s/epoch - 79ms/step\n",
      "Epoch 25/47\n",
      "1240/1240 - 97s - loss: 0.0305 - accuracy: 0.9893 - val_loss: 0.5106 - val_accuracy: 0.8856 - 97s/epoch - 78ms/step\n",
      "Epoch 26/47\n",
      "1240/1240 - 97s - loss: 0.0353 - accuracy: 0.9867 - val_loss: 0.4624 - val_accuracy: 0.8925 - 97s/epoch - 78ms/step\n",
      "Epoch 27/47\n",
      "1240/1240 - 97s - loss: 0.0307 - accuracy: 0.9889 - val_loss: 0.5307 - val_accuracy: 0.8928 - 97s/epoch - 78ms/step\n",
      "Epoch 28/47\n",
      "1240/1240 - 97s - loss: 0.0333 - accuracy: 0.9880 - val_loss: 0.5027 - val_accuracy: 0.8912 - 97s/epoch - 78ms/step\n",
      "Epoch 29/47\n",
      "1240/1240 - 97s - loss: 0.0323 - accuracy: 0.9884 - val_loss: 0.5046 - val_accuracy: 0.8912 - 97s/epoch - 78ms/step\n",
      "Epoch 30/47\n",
      "1240/1240 - 97s - loss: 0.0293 - accuracy: 0.9893 - val_loss: 0.4946 - val_accuracy: 0.8897 - 97s/epoch - 78ms/step\n",
      "Epoch 31/47\n",
      "1240/1240 - 97s - loss: 0.0268 - accuracy: 0.9906 - val_loss: 0.5764 - val_accuracy: 0.8847 - 97s/epoch - 78ms/step\n",
      "Epoch 32/47\n",
      "1240/1240 - 97s - loss: 0.0300 - accuracy: 0.9894 - val_loss: 0.5284 - val_accuracy: 0.8923 - 97s/epoch - 78ms/step\n",
      "Epoch 33/47\n",
      "1240/1240 - 97s - loss: 0.0278 - accuracy: 0.9900 - val_loss: 0.5341 - val_accuracy: 0.8910 - 97s/epoch - 79ms/step\n",
      "Epoch 34/47\n",
      "1240/1240 - 97s - loss: 0.0284 - accuracy: 0.9899 - val_loss: 0.5198 - val_accuracy: 0.8812 - 97s/epoch - 78ms/step\n",
      "Epoch 35/47\n",
      "1240/1240 - 97s - loss: 0.0384 - accuracy: 0.9871 - val_loss: 0.5000 - val_accuracy: 0.8826 - 97s/epoch - 78ms/step\n",
      "Epoch 36/47\n",
      "1240/1240 - 97s - loss: 0.0287 - accuracy: 0.9899 - val_loss: 0.5973 - val_accuracy: 0.8873 - 97s/epoch - 78ms/step\n",
      "Epoch 37/47\n",
      "1240/1240 - 97s - loss: 0.0239 - accuracy: 0.9912 - val_loss: 0.5594 - val_accuracy: 0.8921 - 97s/epoch - 78ms/step\n",
      "Epoch 38/47\n",
      "1240/1240 - 97s - loss: 0.0246 - accuracy: 0.9909 - val_loss: 0.5551 - val_accuracy: 0.8852 - 97s/epoch - 78ms/step\n",
      "Epoch 39/47\n",
      "1240/1240 - 97s - loss: 0.0241 - accuracy: 0.9917 - val_loss: 0.6127 - val_accuracy: 0.8907 - 97s/epoch - 78ms/step\n",
      "Epoch 40/47\n",
      "1240/1240 - 97s - loss: 0.0242 - accuracy: 0.9917 - val_loss: 0.5704 - val_accuracy: 0.8841 - 97s/epoch - 78ms/step\n",
      "Epoch 41/47\n",
      "1240/1240 - 97s - loss: 0.0252 - accuracy: 0.9911 - val_loss: 0.5856 - val_accuracy: 0.8849 - 97s/epoch - 78ms/step\n",
      "Epoch 42/47\n",
      "1240/1240 - 97s - loss: 0.0243 - accuracy: 0.9918 - val_loss: 0.5572 - val_accuracy: 0.8873 - 97s/epoch - 78ms/step\n",
      "Epoch 43/47\n",
      "1240/1240 - 97s - loss: 0.0256 - accuracy: 0.9908 - val_loss: 0.5158 - val_accuracy: 0.8899 - 97s/epoch - 78ms/step\n",
      "Epoch 44/47\n",
      "1240/1240 - 97s - loss: 0.0250 - accuracy: 0.9919 - val_loss: 0.5511 - val_accuracy: 0.8895 - 97s/epoch - 78ms/step\n",
      "Epoch 45/47\n",
      "1240/1240 - 97s - loss: 0.0221 - accuracy: 0.9919 - val_loss: 0.5711 - val_accuracy: 0.8898 - 97s/epoch - 78ms/step\n",
      "Epoch 46/47\n",
      "1240/1240 - 97s - loss: 0.0225 - accuracy: 0.9922 - val_loss: 0.5610 - val_accuracy: 0.8912 - 97s/epoch - 78ms/step\n",
      "Epoch 47/47\n",
      "1240/1240 - 97s - loss: 0.0216 - accuracy: 0.9926 - val_loss: 0.5788 - val_accuracy: 0.8844 - 97s/epoch - 78ms/step\n"
     ]
    }
   ],
   "source": [
    "totalEpochs = 47\n",
    "history = biLSTMglove.fit(XTrainPaddedsequence, Y_train, epochs=totalEpochs, validation_data=(XTestPaddedsequence, Y_test), verbose=2)"
   ]
  },
  {
   "cell_type": "code",
   "execution_count": 26,
   "id": "49ef6388",
   "metadata": {
    "execution": {
     "iopub.execute_input": "2023-10-28T07:54:06.464148Z",
     "iopub.status.busy": "2023-10-28T07:54:06.463221Z",
     "iopub.status.idle": "2023-10-28T07:54:27.105314Z",
     "shell.execute_reply": "2023-10-28T07:54:27.104413Z"
    },
    "papermill": {
     "duration": 20.704303,
     "end_time": "2023-10-28T07:54:27.107479",
     "exception": false,
     "start_time": "2023-10-28T07:54:06.403176",
     "status": "completed"
    },
    "tags": []
   },
   "outputs": [
    {
     "name": "stdout",
     "output_type": "stream",
     "text": [
      "310/310 [==============================] - 9s 30ms/step\n",
      "Accuracy of BI-LSTM_Glove: 88.444%\n",
      "Precision of BI-LSTM_Glove: 89.947%\n",
      "Recall of BI-LSTM_Glove: 86.449%\n",
      "F1 score of BI-LSTM_Glove: 88.164%\n",
      "              precision    recall  f1-score   support\n",
      "\n",
      "           0       0.87      0.90      0.89      4980\n",
      "           1       0.90      0.86      0.88      4937\n",
      "\n",
      "    accuracy                           0.88      9917\n",
      "   macro avg       0.89      0.88      0.88      9917\n",
      "weighted avg       0.88      0.88      0.88      9917\n",
      "\n"
     ]
    },
    {
     "data": {
      "image/png": "[encoded data removed]",
      "text/plain": [
       "<Figure size 800x600 with 1 Axes>"
      ]
     },
     "metadata": {},
     "output_type": "display_data"
    }
   ],
   "source": [
    "model = biLSTMglove\n",
    "\n",
    "predictions = model.predict(XTestPaddedsequence, verbose=0)\n",
    "\n",
    "predicted_sentiment = (model.predict(XTestPaddedsequence)>0.5).astype('int32')\n",
    "\n",
    "predictions = predictions[:, 0]\n",
    "predicted_sentiment = predicted_sentiment[:, 0]\n",
    "\n",
    "accuracy = accuracy_score(Y_test, predicted_sentiment) * 100\n",
    "precision = precision_score(Y_test, predicted_sentiment)* 100\n",
    "recall = recall_score(Y_test, predicted_sentiment)* 100\n",
    "f1 = f1_score(Y_test, predicted_sentiment)* 100\n",
    "\n",
    "print(f'Accuracy of BI-LSTM_Glove: {accuracy:.3f}%')\n",
    "print(f'Precision of BI-LSTM_Glove: {precision:.3f}%')\n",
    "print(f'Recall of BI-LSTM_Glove: {recall:.3f}%')\n",
    "print(f'F1 score of BI-LSTM_Glove: {f1:.3f}%')\n",
    "\n",
    "\n",
    "matrix = classification_report(Y_test, predicted_sentiment)\n",
    "print(matrix)\n",
    "\n",
    "\n",
    "plt.figure(figsize=(8, 6))\n",
    "false_positive_rate, true_positive_rate, thresholds = roc_curve(Y_test, predictions, pos_label=1)\n",
    "random_false_positive_rate, random_true_positive_rate, _ = roc_curve(Y_test, np.zeros(len(Y_test)), pos_label=1)\n",
    "auc_score = roc_auc_score(Y_test, predictions)\n",
    "\n",
    "plt.plot(false_positive_rate, true_positive_rate, linestyle='-', color='blue', label='BIDirectional-LSTM (AUC = {:.3f})'.format(auc_score))\n",
    "plt.plot(random_false_positive_rate, random_true_positive_rate, linestyle='--', color='orange')\n",
    "\n",
    "plt.title('Receiver Operating Characteristic (ROC) Curve')\n",
    "plt.xlabel('False Positive Rate')\n",
    "plt.ylabel('True Positive Rate')\n",
    "plt.legend(loc='best')\n",
    "plt.show()"
   ]
  },
  {
   "cell_type": "markdown",
   "id": "23a4d11b",
   "metadata": {
    "id": "dbDuIi9PfTgf",
    "papermill": {
     "duration": 0.072628,
     "end_time": "2023-10-28T07:54:27.252404",
     "exception": false,
     "start_time": "2023-10-28T07:54:27.179776",
     "status": "completed"
    },
    "tags": []
   },
   "source": [
    "## CNN-LSTM"
   ]
  },
  {
   "cell_type": "code",
   "execution_count": 27,
   "id": "0ead0e5d",
   "metadata": {
    "execution": {
     "iopub.execute_input": "2023-10-28T07:54:27.397770Z",
     "iopub.status.busy": "2023-10-28T07:54:27.396893Z",
     "iopub.status.idle": "2023-10-28T07:54:27.886878Z",
     "shell.execute_reply": "2023-10-28T07:54:27.885973Z"
    },
    "id": "2Rae31n5fTgf",
    "outputId": "e9be4bc7-0dcf-478c-91df-7a122a013906",
    "papermill": {
     "duration": 0.567876,
     "end_time": "2023-10-28T07:54:27.891692",
     "exception": false,
     "start_time": "2023-10-28T07:54:27.323816",
     "status": "completed"
    },
    "tags": []
   },
   "outputs": [
    {
     "name": "stdout",
     "output_type": "stream",
     "text": [
      "Model: \"sequential_2\"\n",
      "_________________________________________________________________\n",
      " Layer (type)                Output Shape              Param #   \n",
      "=================================================================\n",
      " embedding_2 (Embedding)     (None, 250, 300)          27816900  \n",
      "                                                                 \n",
      " conv1d (Conv1D)             (None, 250, 128)          115328    \n",
      "                                                                 \n",
      " max_pooling1d (MaxPooling1D  (None, 125, 128)         0         \n",
      " )                                                               \n",
      "                                                                 \n",
      " lstm_3 (LSTM)               (None, 256)               394240    \n",
      "                                                                 \n",
      " dense_2 (Dense)             (None, 1)                 257       \n",
      "                                                                 \n",
      "=================================================================\n",
      "Total params: 28,326,725\n",
      "Trainable params: 509,825\n",
      "Non-trainable params: 27,816,900\n",
      "_________________________________________________________________\n"
     ]
    }
   ],
   "source": [
    "from tensorflow.keras.layers import Conv1D,MaxPooling1D\n",
    "\n",
    "embeding_dim =256\n",
    "dropofLSTM =0.3\n",
    "cnnlstmglove = Sequential()\n",
    "cnnlstmglove.add(Embedding(size_of_vocabulary, 300, input_length=Max_Review_Length, weights = [GloveEmbeddings2d] , trainable = False))\n",
    "cnnlstmglove.add(Conv1D(filters=128, kernel_size=3, padding='same', activation='relu'))\n",
    "cnnlstmglove.add(MaxPooling1D(pool_size=2))\n",
    "cnnlstmglove.add(LSTM(lstm_units, dropout=dropofLSTM))\n",
    "cnnlstmglove.add(Dense(1, activation='sigmoid'))\n",
    "cnnlstmglove.compile(loss='binary_crossentropy', optimizer='adam', metrics=['accuracy'])\n",
    "cnnlstmglove.summary()"
   ]
  },
  {
   "cell_type": "code",
   "execution_count": 28,
   "id": "56a789ef",
   "metadata": {
    "execution": {
     "iopub.execute_input": "2023-10-28T07:54:28.039131Z",
     "iopub.status.busy": "2023-10-28T07:54:28.038773Z",
     "iopub.status.idle": "2023-10-28T08:04:51.952000Z",
     "shell.execute_reply": "2023-10-28T08:04:51.951072Z"
    },
    "id": "xFAAiL25fTgg",
    "outputId": "60c4c11f-bd54-4a6d-b216-5d89da2245d0",
    "papermill": {
     "duration": 623.989437,
     "end_time": "2023-10-28T08:04:51.954604",
     "exception": false,
     "start_time": "2023-10-28T07:54:27.965167",
     "status": "completed"
    },
    "tags": []
   },
   "outputs": [
    {
     "name": "stdout",
     "output_type": "stream",
     "text": [
      "Epoch 1/47\n",
      "1240/1240 - 19s - loss: 0.3821 - accuracy: 0.8308 - val_loss: 0.2927 - val_accuracy: 0.8831 - 19s/epoch - 16ms/step\n",
      "Epoch 2/47\n",
      "1240/1240 - 13s - loss: 0.2782 - accuracy: 0.8832 - val_loss: 0.2690 - val_accuracy: 0.8905 - 13s/epoch - 10ms/step\n",
      "Epoch 3/47\n",
      "1240/1240 - 13s - loss: 0.2409 - accuracy: 0.9016 - val_loss: 0.2737 - val_accuracy: 0.8890 - 13s/epoch - 10ms/step\n",
      "Epoch 4/47\n",
      "1240/1240 - 13s - loss: 0.2097 - accuracy: 0.9181 - val_loss: 0.2629 - val_accuracy: 0.8929 - 13s/epoch - 10ms/step\n",
      "Epoch 5/47\n",
      "1240/1240 - 13s - loss: 0.1814 - accuracy: 0.9292 - val_loss: 0.2761 - val_accuracy: 0.8875 - 13s/epoch - 10ms/step\n",
      "Epoch 6/47\n",
      "1240/1240 - 14s - loss: 0.1577 - accuracy: 0.9395 - val_loss: 0.2984 - val_accuracy: 0.8930 - 14s/epoch - 11ms/step\n",
      "Epoch 7/47\n",
      "1240/1240 - 13s - loss: 0.1352 - accuracy: 0.9485 - val_loss: 0.3532 - val_accuracy: 0.8687 - 13s/epoch - 10ms/step\n",
      "Epoch 8/47\n",
      "1240/1240 - 13s - loss: 0.1152 - accuracy: 0.9559 - val_loss: 0.3347 - val_accuracy: 0.8890 - 13s/epoch - 10ms/step\n",
      "Epoch 9/47\n",
      "1240/1240 - 13s - loss: 0.1043 - accuracy: 0.9596 - val_loss: 0.3350 - val_accuracy: 0.8921 - 13s/epoch - 10ms/step\n",
      "Epoch 10/47\n",
      "1240/1240 - 13s - loss: 0.0916 - accuracy: 0.9653 - val_loss: 0.3872 - val_accuracy: 0.8874 - 13s/epoch - 10ms/step\n",
      "Epoch 11/47\n",
      "1240/1240 - 13s - loss: 0.0832 - accuracy: 0.9684 - val_loss: 0.3807 - val_accuracy: 0.8846 - 13s/epoch - 10ms/step\n",
      "Epoch 12/47\n",
      "1240/1240 - 13s - loss: 0.0783 - accuracy: 0.9705 - val_loss: 0.3988 - val_accuracy: 0.8883 - 13s/epoch - 10ms/step\n",
      "Epoch 13/47\n",
      "1240/1240 - 13s - loss: 0.0700 - accuracy: 0.9727 - val_loss: 0.4054 - val_accuracy: 0.8918 - 13s/epoch - 10ms/step\n",
      "Epoch 14/47\n",
      "1240/1240 - 13s - loss: 0.0670 - accuracy: 0.9746 - val_loss: 0.4494 - val_accuracy: 0.8869 - 13s/epoch - 10ms/step\n",
      "Epoch 15/47\n",
      "1240/1240 - 13s - loss: 0.0590 - accuracy: 0.9772 - val_loss: 0.4426 - val_accuracy: 0.8875 - 13s/epoch - 10ms/step\n",
      "Epoch 16/47\n",
      "1240/1240 - 13s - loss: 0.0570 - accuracy: 0.9786 - val_loss: 0.4666 - val_accuracy: 0.8840 - 13s/epoch - 10ms/step\n",
      "Epoch 17/47\n",
      "1240/1240 - 13s - loss: 0.0544 - accuracy: 0.9796 - val_loss: 0.4933 - val_accuracy: 0.8807 - 13s/epoch - 10ms/step\n",
      "Epoch 18/47\n",
      "1240/1240 - 13s - loss: 0.0537 - accuracy: 0.9800 - val_loss: 0.4628 - val_accuracy: 0.8853 - 13s/epoch - 10ms/step\n",
      "Epoch 19/47\n",
      "1240/1240 - 13s - loss: 0.0497 - accuracy: 0.9813 - val_loss: 0.4895 - val_accuracy: 0.8884 - 13s/epoch - 10ms/step\n",
      "Epoch 20/47\n",
      "1240/1240 - 13s - loss: 0.0484 - accuracy: 0.9819 - val_loss: 0.4956 - val_accuracy: 0.8868 - 13s/epoch - 10ms/step\n",
      "Epoch 21/47\n",
      "1240/1240 - 13s - loss: 0.0438 - accuracy: 0.9840 - val_loss: 0.5043 - val_accuracy: 0.8826 - 13s/epoch - 10ms/step\n",
      "Epoch 22/47\n",
      "1240/1240 - 13s - loss: 0.0486 - accuracy: 0.9820 - val_loss: 0.4590 - val_accuracy: 0.8882 - 13s/epoch - 10ms/step\n",
      "Epoch 23/47\n",
      "1240/1240 - 13s - loss: 0.0417 - accuracy: 0.9849 - val_loss: 0.5163 - val_accuracy: 0.8860 - 13s/epoch - 10ms/step\n",
      "Epoch 24/47\n",
      "1240/1240 - 13s - loss: 0.0432 - accuracy: 0.9832 - val_loss: 0.4912 - val_accuracy: 0.8849 - 13s/epoch - 10ms/step\n",
      "Epoch 25/47\n",
      "1240/1240 - 13s - loss: 0.0425 - accuracy: 0.9840 - val_loss: 0.5017 - val_accuracy: 0.8894 - 13s/epoch - 10ms/step\n",
      "Epoch 26/47\n",
      "1240/1240 - 13s - loss: 0.0428 - accuracy: 0.9850 - val_loss: 0.5177 - val_accuracy: 0.8844 - 13s/epoch - 11ms/step\n",
      "Epoch 27/47\n",
      "1240/1240 - 13s - loss: 0.0431 - accuracy: 0.9840 - val_loss: 0.5086 - val_accuracy: 0.8888 - 13s/epoch - 10ms/step\n",
      "Epoch 28/47\n",
      "1240/1240 - 13s - loss: 0.0401 - accuracy: 0.9857 - val_loss: 0.4904 - val_accuracy: 0.8852 - 13s/epoch - 10ms/step\n",
      "Epoch 29/47\n",
      "1240/1240 - 13s - loss: 0.0407 - accuracy: 0.9863 - val_loss: 0.5145 - val_accuracy: 0.8869 - 13s/epoch - 10ms/step\n",
      "Epoch 30/47\n",
      "1240/1240 - 13s - loss: 0.0367 - accuracy: 0.9869 - val_loss: 0.5528 - val_accuracy: 0.8879 - 13s/epoch - 10ms/step\n",
      "Epoch 31/47\n",
      "1240/1240 - 13s - loss: 0.0393 - accuracy: 0.9858 - val_loss: 0.5181 - val_accuracy: 0.8837 - 13s/epoch - 10ms/step\n",
      "Epoch 32/47\n",
      "1240/1240 - 13s - loss: 0.0376 - accuracy: 0.9862 - val_loss: 0.5115 - val_accuracy: 0.8861 - 13s/epoch - 10ms/step\n",
      "Epoch 33/47\n",
      "1240/1240 - 13s - loss: 0.0381 - accuracy: 0.9859 - val_loss: 0.5559 - val_accuracy: 0.8793 - 13s/epoch - 10ms/step\n",
      "Epoch 34/47\n",
      "1240/1240 - 13s - loss: 0.0341 - accuracy: 0.9876 - val_loss: 0.5140 - val_accuracy: 0.8853 - 13s/epoch - 10ms/step\n",
      "Epoch 35/47\n",
      "1240/1240 - 13s - loss: 0.0356 - accuracy: 0.9871 - val_loss: 0.5527 - val_accuracy: 0.8870 - 13s/epoch - 10ms/step\n",
      "Epoch 36/47\n",
      "1240/1240 - 13s - loss: 0.0361 - accuracy: 0.9867 - val_loss: 0.5397 - val_accuracy: 0.8864 - 13s/epoch - 10ms/step\n",
      "Epoch 37/47\n",
      "1240/1240 - 13s - loss: 0.0348 - accuracy: 0.9864 - val_loss: 0.5331 - val_accuracy: 0.8868 - 13s/epoch - 10ms/step\n",
      "Epoch 38/47\n",
      "1240/1240 - 13s - loss: 0.0334 - accuracy: 0.9876 - val_loss: 0.5314 - val_accuracy: 0.8828 - 13s/epoch - 10ms/step\n",
      "Epoch 39/47\n",
      "1240/1240 - 13s - loss: 0.0328 - accuracy: 0.9877 - val_loss: 0.5616 - val_accuracy: 0.8866 - 13s/epoch - 10ms/step\n",
      "Epoch 40/47\n",
      "1240/1240 - 13s - loss: 0.0336 - accuracy: 0.9879 - val_loss: 0.5401 - val_accuracy: 0.8845 - 13s/epoch - 10ms/step\n",
      "Epoch 41/47\n",
      "1240/1240 - 13s - loss: 0.0351 - accuracy: 0.9864 - val_loss: 0.5914 - val_accuracy: 0.8913 - 13s/epoch - 10ms/step\n",
      "Epoch 42/47\n",
      "1240/1240 - 13s - loss: 0.0318 - accuracy: 0.9890 - val_loss: 0.6116 - val_accuracy: 0.8874 - 13s/epoch - 10ms/step\n",
      "Epoch 43/47\n",
      "1240/1240 - 13s - loss: 0.0342 - accuracy: 0.9870 - val_loss: 0.5737 - val_accuracy: 0.8879 - 13s/epoch - 10ms/step\n",
      "Epoch 44/47\n",
      "1240/1240 - 13s - loss: 0.0321 - accuracy: 0.9877 - val_loss: 0.6016 - val_accuracy: 0.8871 - 13s/epoch - 10ms/step\n",
      "Epoch 45/47\n",
      "1240/1240 - 13s - loss: 0.0329 - accuracy: 0.9877 - val_loss: 0.6321 - val_accuracy: 0.8758 - 13s/epoch - 10ms/step\n",
      "Epoch 46/47\n",
      "1240/1240 - 13s - loss: 0.0307 - accuracy: 0.9890 - val_loss: 0.5947 - val_accuracy: 0.8838 - 13s/epoch - 10ms/step\n",
      "Epoch 47/47\n",
      "1240/1240 - 13s - loss: 0.0321 - accuracy: 0.9883 - val_loss: 0.5825 - val_accuracy: 0.8842 - 13s/epoch - 10ms/step\n"
     ]
    }
   ],
   "source": [
    "totalEpochs = 47\n",
    "history3 = cnnlstmglove.fit(XTrainPaddedsequence, Y_train, epochs=totalEpochs,validation_data=(XTestPaddedsequence, Y_test), verbose=2)"
   ]
  },
  {
   "cell_type": "code",
   "execution_count": 29,
   "id": "94871583",
   "metadata": {
    "execution": {
     "iopub.execute_input": "2023-10-28T08:04:52.115399Z",
     "iopub.status.busy": "2023-10-28T08:04:52.115066Z",
     "iopub.status.idle": "2023-10-28T08:04:55.687112Z",
     "shell.execute_reply": "2023-10-28T08:04:55.686212Z"
    },
    "id": "QcmwgeA6fTgh",
    "papermill": {
     "duration": 3.654464,
     "end_time": "2023-10-28T08:04:55.689159",
     "exception": false,
     "start_time": "2023-10-28T08:04:52.034695",
     "status": "completed"
    },
    "tags": []
   },
   "outputs": [
    {
     "name": "stdout",
     "output_type": "stream",
     "text": [
      "310/310 [==============================] - 1s 4ms/step\n",
      "Accuracy of CNNLSTM_Glove: 88.424%\n",
      "Precision of CNNLSTM_Glove: 88.941%\n",
      "Recall of CNNLSTM_Glove: 87.644%\n",
      "F1 score of CNNLSTM_Glove: 88.288%\n",
      "              precision    recall  f1-score   support\n",
      "\n",
      "           0       0.88      0.89      0.89      4980\n",
      "           1       0.89      0.88      0.88      4937\n",
      "\n",
      "    accuracy                           0.88      9917\n",
      "   macro avg       0.88      0.88      0.88      9917\n",
      "weighted avg       0.88      0.88      0.88      9917\n",
      "\n"
     ]
    },
    {
     "data": {
      "image/png": "[encoded data removed]",
      "text/plain": [
       "<Figure size 800x600 with 1 Axes>"
      ]
     },
     "metadata": {},
     "output_type": "display_data"
    }
   ],
   "source": [
    "model = cnnlstmglove\n",
    "\n",
    "predictions = model.predict(XTestPaddedsequence, verbose=0)\n",
    "\n",
    "predicted_sentiment = (model.predict(XTestPaddedsequence)>0.5).astype('int32')\n",
    "\n",
    "predictions = predictions[:, 0]\n",
    "predicted_sentiment = predicted_sentiment[:, 0]\n",
    "\n",
    "\n",
    "accuracy = accuracy_score(Y_test, predicted_sentiment) * 100\n",
    "precision = precision_score(Y_test, predicted_sentiment)* 100\n",
    "recall = recall_score(Y_test, predicted_sentiment)* 100\n",
    "f1 = f1_score(Y_test, predicted_sentiment)* 100\n",
    "\n",
    "print(f'Accuracy of CNNLSTM_Glove: {accuracy:.3f}%')\n",
    "print(f'Precision of CNNLSTM_Glove: {precision:.3f}%')\n",
    "print(f'Recall of CNNLSTM_Glove: {recall:.3f}%')\n",
    "print(f'F1 score of CNNLSTM_Glove: {f1:.3f}%')\n",
    "\n",
    "\n",
    "matrix = classification_report(Y_test, predicted_sentiment)\n",
    "print(matrix)\n",
    "\n",
    "\n",
    "\n",
    "\n",
    "plt.figure(figsize=(8, 6))\n",
    "false_positive_rate, true_positive_rate, thresholds = roc_curve(Y_test, predictions, pos_label=1)\n",
    "random_false_positive_rate, random_true_positive_rate, _ = roc_curve(Y_test, np.zeros(len(Y_test)), pos_label=1)\n",
    "auc_score = roc_auc_score(Y_test, predictions)\n",
    "\n",
    "plt.plot(false_positive_rate, true_positive_rate, linestyle='-', color='blue', label='CNN-LSTM (AUC = {:.3f})'.format(auc_score))\n",
    "plt.plot(random_false_positive_rate, random_true_positive_rate, linestyle='--', color='orange')\n",
    "\n",
    "plt.title('Receiver Operating Characteristic (ROC) Curve')\n",
    "plt.xlabel('False Positive Rate')\n",
    "plt.ylabel('True Positive Rate')\n",
    "plt.legend(loc='best')\n",
    "plt.show()"
   ]
  },
  {
   "cell_type": "code",
   "execution_count": 30,
   "id": "e4152a1a",
   "metadata": {
    "execution": {
     "iopub.execute_input": "2023-10-28T08:04:55.853831Z",
     "iopub.status.busy": "2023-10-28T08:04:55.853528Z",
     "iopub.status.idle": "2023-10-28T08:04:55.860265Z",
     "shell.execute_reply": "2023-10-28T08:04:55.859441Z"
    },
    "papermill": {
     "duration": 0.090982,
     "end_time": "2023-10-28T08:04:55.862142",
     "exception": false,
     "start_time": "2023-10-28T08:04:55.771160",
     "status": "completed"
    },
    "tags": []
   },
   "outputs": [],
   "source": [
    "def removecontractionwords(foreachreview):\n",
    "    foreachreview = re.sub(r\"\\'re\", \" are\", foreachreview)\n",
    "    foreachreview = re.sub(r\"\\'s\", \" is\", foreachreview)\n",
    "    \n",
    "    foreachreview = re.sub(r\"\\'d\", \" would\", foreachreview)\n",
    "    foreachreview = re.sub(r\"\\'ll\", \" will\", foreachreview)\n",
    "    #seperating contractions of not\n",
    "    foreachreview = re.sub(r\"n\\'t\", \" not\", foreachreview)\n",
    "    foreachreview = re.sub(r\"\\'t\", \" not\", foreachreview)\n",
    "    foreachreview = re.sub(r\"won't\", \"will not\", foreachreview)\n",
    "    foreachreview = re.sub(r\"can\\'t\", \"can not\", foreachreview)\n",
    "    \n",
    "    foreachreview = re.sub(r\"\\'ve\", \" have\", foreachreview)\n",
    "    foreachreview = re.sub(r\"\\'m\", \" am\", foreachreview)\n",
    "    return foreachreview"
   ]
  },
  {
   "cell_type": "code",
   "execution_count": 31,
   "id": "3788a66c",
   "metadata": {
    "execution": {
     "iopub.execute_input": "2023-10-28T08:04:56.026510Z",
     "iopub.status.busy": "2023-10-28T08:04:56.026222Z",
     "iopub.status.idle": "2023-10-28T08:04:56.123972Z",
     "shell.execute_reply": "2023-10-28T08:04:56.122749Z"
    },
    "papermill": {
     "duration": 0.182659,
     "end_time": "2023-10-28T08:04:56.125966",
     "exception": false,
     "start_time": "2023-10-28T08:04:55.943307",
     "status": "completed"
    },
    "tags": []
   },
   "outputs": [
    {
     "name": "stdout",
     "output_type": "stream",
     "text": [
      "\n",
      " A 8 Star Review from IMDB :\n",
      "  Now I am become death, the destroyer of worlds.\n",
      "synystargates6 August 2023\n",
      "Theory. Plutonium. Fire. Noise. Death. Morality. Compartmentalization. Oppenheimer.\n",
      "\n",
      "I'm halfway through my Barbenheimer journey, and it's my first in-theater Christopher Nolan experience! I liked what I saw a lot, I love a good borderline psychological horror deep dive into a tortured soul. A film like Spencer comes to mind after watching something like this.\n",
      "\n",
      "The moral conundrum between a scientific genius and the destruction he orchestrated is shown clearly in sequences before, during and after the bomb drops in Japan. The casting was perfect, the film is nothing short of a showcase in acting. It would've been nice to see more of Josh Peck and Devon Bostick, but everyone gives it their all here, especially Cillian Murphy & RDJ.\n",
      "\n",
      "The runtime might be intimidating for some, but it's worth it because in my opinion, not a second is wasted. And that test bomb drop might be one of the most insane things ever made for a film. My jaw legitimately dropped wide open and I couldn't believe how lucky I was to be experiencing this moment in the theater.\n",
      "1/1 [==============================] - 0s 21ms/step\n",
      "\n",
      "SENTIMENT : It is a Positive Review 🎬:) \n"
     ]
    }
   ],
   "source": [
    "preprocessed_Text =[]\n",
    "\n",
    "review= '''Now I am become death, the destroyer of worlds.\n",
    "synystargates6 August 2023\n",
    "Theory. Plutonium. Fire. Noise. Death. Morality. Compartmentalization. Oppenheimer.\n",
    "\n",
    "I'm halfway through my Barbenheimer journey, and it's my first in-theater Christopher Nolan experience! I liked what I saw a lot, I love a good borderline psychological horror deep dive into a tortured soul. A film like Spencer comes to mind after watching something like this.\n",
    "\n",
    "The moral conundrum between a scientific genius and the destruction he orchestrated is shown clearly in sequences before, during and after the bomb drops in Japan. The casting was perfect, the film is nothing short of a showcase in acting. It would've been nice to see more of Josh Peck and Devon Bostick, but everyone gives it their all here, especially Cillian Murphy & RDJ.\n",
    "\n",
    "The runtime might be intimidating for some, but it's worth it because in my opinion, not a second is wasted. And that test bomb drop might be one of the most insane things ever made for a film. My jaw legitimately dropped wide open and I couldn't believe how lucky I was to be experiencing this moment in the theater.''' \n",
    "print('\\n A 8 Star Review from IMDB :\\n ',review)\n",
    "for_each_review = re.sub(r\"http\\S+\", \"\", review)\n",
    "for_each_review = BeautifulSoup(for_each_review, 'html.parser').get_text()\n",
    "for_each_review = removecontractionwords(for_each_review)\n",
    "for_each_review = re.sub(\"\\S*\\d\\S*\", \"\", for_each_review).strip()\n",
    "for_each_review = re.sub('[^A-Za-z]+', ' ', for_each_review)\n",
    "for_each_review = ' '.join(word.lower() for word in for_each_review.split() \n",
    "                               if word.lower() not in stopwords.words('english'))\n",
    "preprocessed_Text.append(for_each_review.strip())\n",
    "\n",
    "\n",
    "\n",
    "token_sent = wrd.texts_to_sequences(preprocessed_Text)\n",
    "test_pad_seq = pad_sequences(token_sent, maxlen = Max_Review_Length,padding = forsmallerReviews, truncating = forlargerReviews)\n",
    "\n",
    "# Predict probabilities\n",
    "predicted_probs = lstm_glove.predict(test_pad_seq)\n",
    "\n",
    "# Convert probabilities to class predictions\n",
    "predicted_classes = (predicted_probs > 0.5).astype('int32')\n",
    "\n",
    "if predicted_classes[0][0] == 1 :\n",
    "    print(\"\\nSENTIMENT : It is a Positive Review 🎬:) \")\n",
    "else :\n",
    "    print(\"\\nSENTIMENT : It is a Negative Review 🎬:( \")"
   ]
  },
  {
   "cell_type": "code",
   "execution_count": 32,
   "id": "c8d37eda",
   "metadata": {
    "execution": {
     "iopub.execute_input": "2023-10-28T08:04:56.292128Z",
     "iopub.status.busy": "2023-10-28T08:04:56.291315Z",
     "iopub.status.idle": "2023-10-28T08:04:56.374920Z",
     "shell.execute_reply": "2023-10-28T08:04:56.374081Z"
    },
    "papermill": {
     "duration": 0.16872,
     "end_time": "2023-10-28T08:04:56.376787",
     "exception": false,
     "start_time": "2023-10-28T08:04:56.208067",
     "status": "completed"
    },
    "tags": []
   },
   "outputs": [
    {
     "name": "stdout",
     "output_type": "stream",
     "text": [
      "\n",
      "A 2 Star Review from IMDB :\n",
      "  They found a way to make a nuclear bomb boring.\n",
      "heatherworkmanrios30 July 2023\n",
      "As a science nerd and someone who used to be obsessed with the Manhattan project, nuclear bombs etc. This really couldn't have been much worse. There were maybe 15 minutes of interesting tidbits related to themes Oppenheimer actually dealt with in his life and the rest was just garbage. It's like they tried to make it into a romcom/political film that had very little to do with the actual interesting parts of Oppenheimer's life. I won't write spoilers, but I promise you there is not much to spoil. Endless drivel, dialog that literally put me to sleep for a few minutes.\n",
      "\n",
      "If you're interested in science and tech, just skip it. If you're interested in a good drama, skip it. If you like dull trials with too many actors and are really into dudes yelling every 5 minutes about \"russia\" or \"communists\" then go for it.\n",
      "1/1 [==============================] - 0s 19ms/step\n",
      "\n",
      " SENTIMENT : It is a Negative Review 🎬:( \n"
     ]
    }
   ],
   "source": [
    "preprocessed_Text =[]\n",
    "\n",
    "review= '''They found a way to make a nuclear bomb boring.\n",
    "heatherworkmanrios30 July 2023\n",
    "As a science nerd and someone who used to be obsessed with the Manhattan project, nuclear bombs etc. This really couldn't have been much worse. There were maybe 15 minutes of interesting tidbits related to themes Oppenheimer actually dealt with in his life and the rest was just garbage. It's like they tried to make it into a romcom/political film that had very little to do with the actual interesting parts of Oppenheimer's life. I won't write spoilers, but I promise you there is not much to spoil. Endless drivel, dialog that literally put me to sleep for a few minutes.\n",
    "\n",
    "If you're interested in science and tech, just skip it. If you're interested in a good drama, skip it. If you like dull trials with too many actors and are really into dudes yelling every 5 minutes about \"russia\" or \"communists\" then go for it.'''\n",
    "print('\\nA 2 Star Review from IMDB :\\n ',review)\n",
    "for_each_review = re.sub(r\"http\\S+\", \"\", review)\n",
    "for_each_review = BeautifulSoup(for_each_review, 'html.parser').get_text()\n",
    "for_each_review = removecontractionwords(for_each_review)\n",
    "for_each_review = re.sub(\"\\S*\\d\\S*\", \"\", for_each_review).strip()\n",
    "for_each_review = re.sub('[^A-Za-z]+', ' ', for_each_review)\n",
    "for_each_review = ' '.join(word.lower() for word in for_each_review.split() \n",
    "                               if word.lower() not in stopwords.words('english'))\n",
    "preprocessed_Text.append(for_each_review.strip())\n",
    "\n",
    "\n",
    "\n",
    "token_sent = wrd.texts_to_sequences(preprocessed_Text)\n",
    "test_pad_seq = pad_sequences(token_sent, maxlen = Max_Review_Length,padding = forsmallerReviews, truncating = forlargerReviews)\n",
    "\n",
    "# Predict probabilities\n",
    "predicted_probs = lstm_glove.predict(test_pad_seq)\n",
    "\n",
    "# Convert probabilities to class predictions\n",
    "predicted_classes = (predicted_probs > 0.5).astype('int32')\n",
    "\n",
    "if predicted_classes[0][0] == 1 :\n",
    "    print(\"\\n SENTIMENT : It is a Positive Review 🎬:) \")\n",
    "else :\n",
    "    print(\"\\n SENTIMENT : It is a Negative Review 🎬:( \")"
   ]
  },
  {
   "cell_type": "code",
   "execution_count": null,
   "id": "bd196b06",
   "metadata": {
    "papermill": {
     "duration": 0.082202,
     "end_time": "2023-10-28T08:04:56.544225",
     "exception": false,
     "start_time": "2023-10-28T08:04:56.462023",
     "status": "completed"
    },
    "tags": []
   },
   "outputs": [],
   "source": []
  }
 ],
 "metadata": {
  "kernelspec": {
   "display_name": "Python 3",
   "language": "python",
   "name": "python3"
  },
  "language_info": {
   "codemirror_mode": {
    "name": "ipython",
    "version": 3
   },
   "file_extension": ".py",
   "mimetype": "text/x-python",
   "name": "python",
   "nbconvert_exporter": "python",
   "pygments_lexer": "ipython3",
   "version": "3.10.12"
  },
  "papermill": {
   "default_parameters": {},
   "duration": 6348.008185,
   "end_time": "2023-10-28T08:04:59.903216",
   "environment_variables": {},
   "exception": null,
   "input_path": "__notebook__.ipynb",
   "output_path": "__notebook__.ipynb",
   "parameters": {},
   "start_time": "2023-10-28T06:19:11.895031",
   "version": "2.4.0"
  }
 },
 "nbformat": 4,
 "nbformat_minor": 5
}
