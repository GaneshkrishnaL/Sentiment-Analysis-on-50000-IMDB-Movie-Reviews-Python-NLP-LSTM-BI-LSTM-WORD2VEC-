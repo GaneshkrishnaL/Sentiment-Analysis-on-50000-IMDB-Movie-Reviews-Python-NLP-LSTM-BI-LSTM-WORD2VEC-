{
 "cells": [
  {
   "cell_type": "markdown",
   "id": "408226f5",
   "metadata": {
    "id": "RNSu4BVLfTgE",
    "papermill": {
     "duration": 0.010292,
     "end_time": "2023-10-28T06:17:04.380684",
     "exception": false,
     "start_time": "2023-10-28T06:17:04.370392",
     "status": "completed"
    },
    "tags": []
   },
   "source": [
    "## Importing the Libraries"
   ]
  },
  {
   "cell_type": "code",
   "execution_count": 1,
   "id": "7b42f37c",
   "metadata": {
    "_cell_guid": "b1076dfc-b9ad-4769-8c92-a6c4dae69d19",
    "_uuid": "8f2839f25d086af736a60e9eeb907d3b93b6e0e5",
    "execution": {
     "iopub.execute_input": "2023-10-28T06:17:04.401553Z",
     "iopub.status.busy": "2023-10-28T06:17:04.400861Z",
     "iopub.status.idle": "2023-10-28T06:17:34.432325Z",
     "shell.execute_reply": "2023-10-28T06:17:34.430800Z"
    },
    "id": "KGJe1qUmfTgI",
    "papermill": {
     "duration": 30.05431,
     "end_time": "2023-10-28T06:17:34.444425",
     "exception": false,
     "start_time": "2023-10-28T06:17:04.390115",
     "status": "completed"
    },
    "tags": []
   },
   "outputs": [
    {
     "name": "stdout",
     "output_type": "stream",
     "text": [
      "[nltk_data] Error loading stopwords: <urlopen error [Errno -3]\n",
      "[nltk_data]     Temporary failure in name resolution>\n"
     ]
    }
   ],
   "source": [
    "import numpy as np\n",
    "import pandas as pd\n",
    "import warnings\n",
    "warnings.filterwarnings(\"ignore\")\n",
    "import matplotlib.pyplot as plt\n",
    "import seaborn as sns\n",
    "import re\n",
    "from tqdm import tqdm # for progress bars.\n",
    "import tensorflow as tf\n",
    "from tensorflow.keras.preprocessing.text import Tokenizer\n",
    "from tensorflow.keras.preprocessing.sequence import pad_sequences\n",
    "from tensorflow.keras.callbacks import EarlyStopping\n",
    "from tensorflow.keras.models import Sequential\n",
    "from tensorflow.keras.layers import Embedding, GlobalAveragePooling1D, Dense, Dropout, LSTM, Bidirectional\n",
    "from sklearn.metrics import accuracy_score\n",
    "from sklearn.metrics import precision_score\n",
    "from sklearn.metrics import recall_score\n",
    "from sklearn.metrics import f1_score\n",
    "from sklearn.metrics import roc_curve\n",
    "from sklearn.metrics import roc_auc_score\n",
    "from sklearn.metrics import cohen_kappa_score\n",
    "from sklearn.metrics import classification_report\n",
    "from sklearn.metrics import roc_auc_score\n",
    "from sklearn.metrics import confusion_matrix\n",
    "from keras.models import Sequential\n",
    "import nltk\n",
    "from nltk.corpus import stopwords\n",
    "nltk.download('stopwords')\n",
    "import re\n",
    "#need to have bs4 installed using !pip install bs4\n",
    "from bs4 import BeautifulSoup"
   ]
  },
  {
   "cell_type": "markdown",
   "id": "53f8a811",
   "metadata": {
    "id": "8-761VF5fTgJ",
    "papermill": {
     "duration": 0.009186,
     "end_time": "2023-10-28T06:17:34.463063",
     "exception": false,
     "start_time": "2023-10-28T06:17:34.453877",
     "status": "completed"
    },
    "tags": []
   },
   "source": [
    "### Loading my preprocessed dataset using pandas!"
   ]
  },
  {
   "cell_type": "code",
   "execution_count": 2,
   "id": "a8f80589",
   "metadata": {
    "execution": {
     "iopub.execute_input": "2023-10-28T06:17:34.483125Z",
     "iopub.status.busy": "2023-10-28T06:17:34.482568Z",
     "iopub.status.idle": "2023-10-28T06:17:37.190850Z",
     "shell.execute_reply": "2023-10-28T06:17:37.189896Z"
    },
    "id": "pj9Kvlh4fTgK",
    "outputId": "00cbcf54-e3b0-411f-ec6f-3bf081bb36ac",
    "papermill": {
     "duration": 2.720728,
     "end_time": "2023-10-28T06:17:37.193108",
     "exception": false,
     "start_time": "2023-10-28T06:17:34.472380",
     "status": "completed"
    },
    "tags": []
   },
   "outputs": [
    {
     "data": {
      "text/plain": [
       "Index(['Review', 'Category', 'preprocessed_Reviews',\n",
       "       'Length_of_PreprocReviews'],\n",
       "      dtype='object')"
      ]
     },
     "execution_count": 2,
     "metadata": {},
     "output_type": "execute_result"
    }
   ],
   "source": [
    "movie_reviews=pd.read_csv('/kaggle/input/moviespreproc/preprocessed_data.csv')\n",
    "lengths_of_reviews = []\n",
    "for x in movie_reviews[\"preprocessed_Reviews\"] :\n",
    "    lengths_of_reviews.append(len(x.split()))\n",
    "\n",
    "movie_reviews[\"Length_of_PreprocReviews\"] = lengths_of_reviews # adding length column to df\n",
    "movie_reviews.columns           # prints all columns in dataframe\n",
    "\n"
   ]
  },
  {
   "cell_type": "markdown",
   "id": "9d8d3f29",
   "metadata": {
    "id": "G_TOzRW9fTgV",
    "papermill": {
     "duration": 0.009409,
     "end_time": "2023-10-28T06:17:37.212352",
     "exception": false,
     "start_time": "2023-10-28T06:17:37.202943",
     "status": "completed"
    },
    "tags": []
   },
   "source": [
    "## Split into XTrain, Ytrain , and XTest and YTest 80/20 split"
   ]
  },
  {
   "cell_type": "code",
   "execution_count": 3,
   "id": "ba2b3dfa",
   "metadata": {
    "execution": {
     "iopub.execute_input": "2023-10-28T06:17:37.233257Z",
     "iopub.status.busy": "2023-10-28T06:17:37.232544Z",
     "iopub.status.idle": "2023-10-28T06:17:37.245127Z",
     "shell.execute_reply": "2023-10-28T06:17:37.244433Z"
    },
    "id": "pZ3q9GnjfTgV",
    "papermill": {
     "duration": 0.025092,
     "end_time": "2023-10-28T06:17:37.247118",
     "exception": false,
     "start_time": "2023-10-28T06:17:37.222026",
     "status": "completed"
    },
    "tags": []
   },
   "outputs": [],
   "source": [
    "sentiments = movie_reviews['Category'].values\n",
    "from sklearn.model_selection import train_test_split\n",
    "X_train, X_test, Y_train, Y_test = train_test_split(movie_reviews[\"preprocessed_Reviews\"],sentiments, test_size=0.2, random_state=42)"
   ]
  },
  {
   "cell_type": "markdown",
   "id": "88e3693f",
   "metadata": {
    "papermill": {
     "duration": 0.009349,
     "end_time": "2023-10-28T06:17:37.266415",
     "exception": false,
     "start_time": "2023-10-28T06:17:37.257066",
     "status": "completed"
    },
    "tags": []
   },
   "source": [
    "## Give Max review Length, Truncate Type and pre padding"
   ]
  },
  {
   "cell_type": "code",
   "execution_count": 4,
   "id": "4f21f466",
   "metadata": {
    "execution": {
     "iopub.execute_input": "2023-10-28T06:17:37.286591Z",
     "iopub.status.busy": "2023-10-28T06:17:37.286303Z",
     "iopub.status.idle": "2023-10-28T06:17:37.290357Z",
     "shell.execute_reply": "2023-10-28T06:17:37.289477Z"
    },
    "id": "N9VQMx3jfTgZ",
    "papermill": {
     "duration": 0.016215,
     "end_time": "2023-10-28T06:17:37.292239",
     "exception": false,
     "start_time": "2023-10-28T06:17:37.276024",
     "status": "completed"
    },
    "tags": []
   },
   "outputs": [],
   "source": [
    "Max_Review_Length = 250\n",
    "forlargerReviews = \"post\"\n",
    "forsmallerReviews = \"pre\""
   ]
  },
  {
   "cell_type": "code",
   "execution_count": 5,
   "id": "d05aca82",
   "metadata": {
    "execution": {
     "iopub.execute_input": "2023-10-28T06:17:37.312408Z",
     "iopub.status.busy": "2023-10-28T06:17:37.312153Z",
     "iopub.status.idle": "2023-10-28T06:17:41.441342Z",
     "shell.execute_reply": "2023-10-28T06:17:41.440451Z"
    },
    "id": "2X8KnA7SfTgZ",
    "papermill": {
     "duration": 4.14164,
     "end_time": "2023-10-28T06:17:41.443355",
     "exception": false,
     "start_time": "2023-10-28T06:17:37.301715",
     "status": "completed"
    },
    "tags": []
   },
   "outputs": [
    {
     "data": {
      "text/plain": [
       "92722"
      ]
     },
     "execution_count": 5,
     "metadata": {},
     "output_type": "execute_result"
    }
   ],
   "source": [
    "special_token_for_padding = \"<OOOOOOE>\" #special token for words not in Vocabulary\n",
    "# builds vocabulary like each unique word gets a integer ID in form of dictionary.\n",
    "wrd = Tokenizer( char_level=False, oov_token = special_token_for_padding) #special_token_for_padding if word doesnt exist\n",
    "wrd.fit_on_texts(X_train)\n",
    "#total length of unique words in word index dictionary\n",
    "len(wrd.word_index)"
   ]
  },
  {
   "cell_type": "code",
   "execution_count": 6,
   "id": "10677c44",
   "metadata": {
    "execution": {
     "iopub.execute_input": "2023-10-28T06:17:41.466086Z",
     "iopub.status.busy": "2023-10-28T06:17:41.465780Z",
     "iopub.status.idle": "2023-10-28T06:17:41.469996Z",
     "shell.execute_reply": "2023-10-28T06:17:41.469080Z"
    },
    "id": "OtuUA_dffTga",
    "papermill": {
     "duration": 0.018156,
     "end_time": "2023-10-28T06:17:41.471966",
     "exception": false,
     "start_time": "2023-10-28T06:17:41.453810",
     "status": "completed"
    },
    "tags": []
   },
   "outputs": [],
   "source": [
    "size_of_vocabulary = len(wrd.word_index)+1 "
   ]
  },
  {
   "cell_type": "code",
   "execution_count": 7,
   "id": "639779e0",
   "metadata": {
    "execution": {
     "iopub.execute_input": "2023-10-28T06:17:41.492186Z",
     "iopub.status.busy": "2023-10-28T06:17:41.491946Z",
     "iopub.status.idle": "2023-10-28T06:17:41.500916Z",
     "shell.execute_reply": "2023-10-28T06:17:41.499967Z"
    },
    "id": "03r3vuwDfTga",
    "outputId": "030659a3-9d40-43aa-b632-8f082a39a257",
    "papermill": {
     "duration": 0.02134,
     "end_time": "2023-10-28T06:17:41.502882",
     "exception": false,
     "start_time": "2023-10-28T06:17:41.481542",
     "status": "completed"
    },
    "tags": []
   },
   "outputs": [
    {
     "name": "stdout",
     "output_type": "stream",
     "text": [
      "all unique words\n"
     ]
    },
    {
     "data": {
      "text/plain": [
       "['<OOOOOOE>',\n",
       " 'movie',\n",
       " 'film',\n",
       " 'one',\n",
       " 'like',\n",
       " 'would',\n",
       " 'good',\n",
       " 'time',\n",
       " 'even',\n",
       " 'story']"
      ]
     },
     "execution_count": 7,
     "metadata": {},
     "output_type": "execute_result"
    }
   ],
   "source": [
    "unique_word_int_mappings = wrd.word_index\n",
    "print('all unique words')\n",
    "c = list(unique_word_int_mappings.keys())\n",
    "c[0:10]\n"
   ]
  },
  {
   "cell_type": "code",
   "execution_count": 8,
   "id": "90187f69",
   "metadata": {
    "execution": {
     "iopub.execute_input": "2023-10-28T06:17:41.523621Z",
     "iopub.status.busy": "2023-10-28T06:17:41.523366Z",
     "iopub.status.idle": "2023-10-28T06:17:41.531699Z",
     "shell.execute_reply": "2023-10-28T06:17:41.530850Z"
    },
    "papermill": {
     "duration": 0.020768,
     "end_time": "2023-10-28T06:17:41.533530",
     "exception": false,
     "start_time": "2023-10-28T06:17:41.512762",
     "status": "completed"
    },
    "tags": []
   },
   "outputs": [
    {
     "name": "stdout",
     "output_type": "stream",
     "text": [
      "Their respective int mappings\n"
     ]
    },
    {
     "data": {
      "text/plain": [
       "[1, 2, 3, 4, 5, 6, 7, 8, 9, 10]"
      ]
     },
     "execution_count": 8,
     "metadata": {},
     "output_type": "execute_result"
    }
   ],
   "source": [
    "print('Their respective int mappings')\n",
    "c = list(unique_word_int_mappings.values())\n",
    "c[0:10]"
   ]
  },
  {
   "cell_type": "code",
   "execution_count": 9,
   "id": "974bf50f",
   "metadata": {
    "execution": {
     "iopub.execute_input": "2023-10-28T06:17:41.554905Z",
     "iopub.status.busy": "2023-10-28T06:17:41.554383Z",
     "iopub.status.idle": "2023-10-28T06:17:41.570964Z",
     "shell.execute_reply": "2023-10-28T06:17:41.570175Z"
    },
    "papermill": {
     "duration": 0.029091,
     "end_time": "2023-10-28T06:17:41.572782",
     "exception": false,
     "start_time": "2023-10-28T06:17:41.543691",
     "status": "completed"
    },
    "tags": []
   },
   "outputs": [
    {
     "name": "stdout",
     "output_type": "stream",
     "text": [
      "\n",
      "vocabulary of words - mappings \n",
      "\n",
      "Word: <OOOOOOE>, Index: 1\n",
      "Word: movie, Index: 2\n",
      "Word: film, Index: 3\n",
      "Word: one, Index: 4\n",
      "Word: like, Index: 5\n",
      "Word: would, Index: 6\n",
      "Word: good, Index: 7\n",
      "Word: time, Index: 8\n",
      "Word: even, Index: 9\n",
      "Word: story, Index: 10\n"
     ]
    }
   ],
   "source": [
    "# Get the first 5 key-value pairs\n",
    "print('\\nvocabulary of words - mappings \\n')\n",
    "top_5_pairs = list(unique_word_int_mappings.items())[:10]\n",
    "\n",
    "# Print the top 5 key-value pairs\n",
    "for key, value in top_5_pairs:\n",
    "    print(f'Word: {key}, Index: {value}')"
   ]
  },
  {
   "cell_type": "markdown",
   "id": "70aea4d4",
   "metadata": {
    "id": "l6nn8GzrfTga",
    "papermill": {
     "duration": 0.010264,
     "end_time": "2023-10-28T06:17:41.593263",
     "exception": false,
     "start_time": "2023-10-28T06:17:41.582999",
     "status": "completed"
    },
    "tags": []
   },
   "source": [
    "## Now converting each review from XTrain, Xtest into sequence of integer maps and padding :"
   ]
  },
  {
   "cell_type": "code",
   "execution_count": 10,
   "id": "22637951",
   "metadata": {
    "execution": {
     "iopub.execute_input": "2023-10-28T06:17:41.614494Z",
     "iopub.status.busy": "2023-10-28T06:17:41.614241Z",
     "iopub.status.idle": "2023-10-28T06:17:45.703463Z",
     "shell.execute_reply": "2023-10-28T06:17:45.702692Z"
    },
    "id": "0_2IxpVhfTga",
    "papermill": {
     "duration": 4.102247,
     "end_time": "2023-10-28T06:17:45.705633",
     "exception": false,
     "start_time": "2023-10-28T06:17:41.603386",
     "status": "completed"
    },
    "tags": []
   },
   "outputs": [],
   "source": [
    "XTrainsequenceofWordmaps = wrd.texts_to_sequences(X_train)\n",
    "XTrainPaddedsequence = pad_sequences(XTrainsequenceofWordmaps, maxlen = Max_Review_Length, padding = forsmallerReviews, truncating = forlargerReviews )\n",
    "XTestsequenceofWordmaps = wrd.texts_to_sequences(X_test)\n",
    "XTestPaddedsequence = pad_sequences(XTestsequenceofWordmaps, maxlen = Max_Review_Length,padding = forsmallerReviews, truncating = forlargerReviews)"
   ]
  },
  {
   "cell_type": "code",
   "execution_count": 11,
   "id": "4301c668",
   "metadata": {
    "execution": {
     "iopub.execute_input": "2023-10-28T06:17:45.727710Z",
     "iopub.status.busy": "2023-10-28T06:17:45.727419Z",
     "iopub.status.idle": "2023-10-28T06:17:45.733747Z",
     "shell.execute_reply": "2023-10-28T06:17:45.732851Z"
    },
    "id": "wdkVrpRefTga",
    "outputId": "7f571ed5-fd62-4d0e-9fed-ba8314d20f24",
    "papermill": {
     "duration": 0.019411,
     "end_time": "2023-10-28T06:17:45.735727",
     "exception": false,
     "start_time": "2023-10-28T06:17:45.716316",
     "status": "completed"
    },
    "tags": []
   },
   "outputs": [
    {
     "name": "stdout",
     "output_type": "stream",
     "text": [
      "Movie Review before sequence of integer mapping:\n",
      " simple primitive evaluations simply say liked reasonably funny bits got great stars gorgeous look songs two repeated forgettable get healthy ironic treatment terribly handsome mr fairbanks exploding frenzied wagnerian version tender ballad miss grable rendered much dancing crinolines draped around miss grable comedy might bit heavy handed result still uplifting photography including real outdoor shots thrill amazing playing around different shades lush heavy gold miss grable bit past prime plumpish side still fresh comfortable continental olde worlde comedy pretty much along line earth rita hayworth one tends rather disliked many suppose several people would deem lady ermine outdated stuffy fairy tale tend move along certain paste anyhow suggestion enjoy artwork costumes witty script everything else film offer stop complaining film released dvd germany german english soundtrack\n",
      "\n",
      "Movie Review after sequence of integer mapping :\n",
      "  [454, 5372, 35472, 215, 49, 305, 3446, 60, 1535, 90, 19, 286, 1348, 68, 580, 32, 2418, 2364, 17, 5767, 2833, 2086, 1872, 2087, 323, 8036, 5968, 14496, 23622, 205, 3844, 11960, 562, 12400, 4916, 14, 919, 56753, 27881, 83, 562, 12400, 95, 123, 117, 1097, 2522, 789, 47, 4917, 1143, 444, 54, 8942, 513, 3881, 360, 270, 83, 164, 6145, 5530, 1097, 1490, 562, 12400, 117, 388, 2261, 56754, 356, 47, 1251, 3612, 22547, 29856, 56755, 95, 81, 14, 220, 228, 547, 3669, 5271, 4, 4125, 139, 4785, 31, 1186, 311, 18, 6, 15213, 653, 27882, 7125, 12401, 2871, 656, 2192, 687, 220, 627, 10962, 6008, 5808, 237, 5868, 1197, 1733, 119, 153, 210, 3, 1337, 408, 4756, 3, 481, 152, 2052, 869, 479, 599]\n",
      "\n",
      "Movie Review after sequence of integer mapping & padded/truncated for max length: \n",
      " [    0     0     0     0     0     0     0     0     0     0     0     0\n",
      "     0     0     0     0     0     0     0     0     0     0     0     0\n",
      "     0     0     0     0     0     0     0     0     0     0     0     0\n",
      "     0     0     0     0     0     0     0     0     0     0     0     0\n",
      "     0     0     0     0     0     0     0     0     0     0     0     0\n",
      "     0     0     0     0     0     0     0     0     0     0     0     0\n",
      "     0     0     0     0     0     0     0     0     0     0     0     0\n",
      "     0     0     0     0     0     0     0     0     0     0     0     0\n",
      "     0     0     0     0     0     0     0     0     0     0     0     0\n",
      "     0     0     0     0     0     0     0     0     0     0     0     0\n",
      "     0     0     0     0   454  5372 35472   215    49   305  3446    60\n",
      "  1535    90    19   286  1348    68   580    32  2418  2364    17  5767\n",
      "  2833  2086  1872  2087   323  8036  5968 14496 23622   205  3844 11960\n",
      "   562 12400  4916    14   919 56753 27881    83   562 12400    95   123\n",
      "   117  1097  2522   789    47  4917  1143   444    54  8942   513  3881\n",
      "   360   270    83   164  6145  5530  1097  1490   562 12400   117   388\n",
      "  2261 56754   356    47  1251  3612 22547 29856 56755    95    81    14\n",
      "   220   228   547  3669  5271     4  4125   139  4785    31  1186   311\n",
      "    18     6 15213   653 27882  7125 12401  2871   656  2192   687   220\n",
      "   627 10962  6008  5808   237  5868  1197  1733   119   153   210     3\n",
      "  1337   408  4756     3   481   152  2052   869   479   599]\n"
     ]
    }
   ],
   "source": [
    "print('Movie Review before sequence of integer mapping:\\n',X_train.iloc[5])\n",
    "print('\\nMovie Review after sequence of integer mapping :\\n ',XTrainsequenceofWordmaps[5])\n",
    "print('\\nMovie Review after sequence of integer mapping & padded/truncated for max length: \\n',XTrainPaddedsequence[5])"
   ]
  },
  {
   "cell_type": "markdown",
   "id": "ae4040c4",
   "metadata": {
    "id": "wjOe_fsPfTgb",
    "papermill": {
     "duration": 0.010026,
     "end_time": "2023-10-28T06:17:45.756162",
     "exception": false,
     "start_time": "2023-10-28T06:17:45.746136",
     "status": "completed"
    },
    "tags": []
   },
   "source": [
    "## LSTM's"
   ]
  },
  {
   "cell_type": "code",
   "execution_count": 12,
   "id": "2ae92e49",
   "metadata": {
    "execution": {
     "iopub.execute_input": "2023-10-28T06:17:45.777840Z",
     "iopub.status.busy": "2023-10-28T06:17:45.777562Z",
     "iopub.status.idle": "2023-10-28T06:19:11.681902Z",
     "shell.execute_reply": "2023-10-28T06:19:11.680940Z"
    },
    "papermill": {
     "duration": 85.918104,
     "end_time": "2023-10-28T06:19:11.684528",
     "exception": false,
     "start_time": "2023-10-28T06:17:45.766424",
     "status": "completed"
    },
    "tags": []
   },
   "outputs": [],
   "source": [
    "import gensim\n",
    "W2Vmodel = gensim.models.KeyedVectors.load_word2vec_format('../input/nlpword2vecembeddingspretrained/GoogleNews-vectors-negative300.bin', binary=True)"
   ]
  },
  {
   "cell_type": "code",
   "execution_count": 13,
   "id": "c7bee878",
   "metadata": {
    "execution": {
     "iopub.execute_input": "2023-10-28T06:19:11.708218Z",
     "iopub.status.busy": "2023-10-28T06:19:11.707618Z",
     "iopub.status.idle": "2023-10-28T06:19:19.193599Z",
     "shell.execute_reply": "2023-10-28T06:19:19.192771Z"
    },
    "papermill": {
     "duration": 7.499875,
     "end_time": "2023-10-28T06:19:19.195946",
     "exception": false,
     "start_time": "2023-10-28T06:19:11.696071",
     "status": "completed"
    },
    "tags": []
   },
   "outputs": [],
   "source": [
    "allwords = list(W2Vmodel.key_to_index.keys())\n",
    "Word2VecEmbeddings = {}\n",
    "for x in allwords :\n",
    "    Word2VecEmbeddings[x] = W2Vmodel[x]\n"
   ]
  },
  {
   "cell_type": "code",
   "execution_count": 14,
   "id": "6e7812d2",
   "metadata": {
    "execution": {
     "iopub.execute_input": "2023-10-28T06:19:19.218360Z",
     "iopub.status.busy": "2023-10-28T06:19:19.218069Z",
     "iopub.status.idle": "2023-10-28T06:19:19.224501Z",
     "shell.execute_reply": "2023-10-28T06:19:19.223570Z"
    },
    "papermill": {
     "duration": 0.019663,
     "end_time": "2023-10-28T06:19:19.226429",
     "exception": false,
     "start_time": "2023-10-28T06:19:19.206766",
     "status": "completed"
    },
    "tags": []
   },
   "outputs": [
    {
     "name": "stdout",
     "output_type": "stream",
     "text": [
      "words from Word2Vec Embeddings:\n"
     ]
    },
    {
     "data": {
      "text/plain": [
       "['</s>', 'in', 'for', 'that', 'is']"
      ]
     },
     "execution_count": 14,
     "metadata": {},
     "output_type": "execute_result"
    }
   ],
   "source": [
    "print('words from Word2Vec Embeddings:')\n",
    "allwords[0:5]"
   ]
  },
  {
   "cell_type": "code",
   "execution_count": 15,
   "id": "e36a1664",
   "metadata": {
    "execution": {
     "iopub.execute_input": "2023-10-28T06:19:19.248711Z",
     "iopub.status.busy": "2023-10-28T06:19:19.248432Z",
     "iopub.status.idle": "2023-10-28T06:19:19.834994Z",
     "shell.execute_reply": "2023-10-28T06:19:19.833962Z"
    },
    "papermill": {
     "duration": 0.600464,
     "end_time": "2023-10-28T06:19:19.837635",
     "exception": false,
     "start_time": "2023-10-28T06:19:19.237171",
     "status": "completed"
    },
    "tags": []
   },
   "outputs": [
    {
     "name": "stdout",
     "output_type": "stream",
     "text": [
      "words : words sequence mapping dictionary from Word2Vec Embeddings:\n",
      "Word: </s>, Index: [ 1.1291504e-03 -8.9645386e-04  3.1852722e-04  1.5335083e-03\n",
      "  1.1062622e-03 -1.4038086e-03 -3.0517578e-05 -4.1961670e-04\n",
      " -5.7601929e-04  1.0757446e-03 -1.0223389e-03 -6.1798096e-04\n",
      " -7.5531006e-04  1.4038086e-03 -1.6403198e-03 -6.3323975e-04\n",
      "  1.6326904e-03 -1.0070801e-03 -1.2664795e-03  6.5231323e-04\n",
      " -4.1580200e-04 -1.0757446e-03  1.5258789e-03 -2.7465820e-04\n",
      "  1.4019012e-04  1.5716553e-03  1.3580322e-03 -8.3160400e-04\n",
      " -1.4038086e-03  1.5792847e-03  2.5367737e-04 -7.3242188e-04\n",
      " -1.0538101e-04 -1.1672974e-03  1.5792847e-03  6.5612793e-04\n",
      " -6.5994263e-04  2.9206276e-06  1.1291504e-03  4.2724609e-04\n",
      " -3.7002563e-04 -1.1520386e-03  1.2664795e-03 -3.5166740e-06\n",
      "  2.6512146e-04 -4.0245056e-04  1.4114380e-04 -3.3617020e-05\n",
      "  7.5912476e-04 -5.1879883e-04 -7.1048737e-05  6.0272217e-04\n",
      " -5.0735474e-04 -1.6250610e-03 -4.3678284e-04 -9.9182129e-04\n",
      " -1.2207031e-03 -3.2234192e-04  6.8664551e-05 -1.1672974e-03\n",
      " -5.1116943e-04  1.4114380e-03  3.3569336e-04 -4.7492981e-04\n",
      " -1.3732910e-03  3.6621094e-04 -1.4419556e-03 -6.0653687e-04\n",
      "  8.0108643e-04  1.1291504e-03 -8.3541870e-04 -1.1596680e-03\n",
      "  9.1552734e-04  5.2261353e-04 -3.2806396e-04  1.5945435e-03\n",
      " -1.5792847e-03 -3.5667419e-04  4.9591064e-04  1.0147095e-03\n",
      " -1.0986328e-03 -1.6593933e-04 -1.4209747e-04 -2.6130676e-04\n",
      "  1.2588501e-03  3.8623810e-05  1.6880035e-04 -1.0299683e-03\n",
      "  1.6098022e-03  6.2942505e-04  4.1770935e-04 -1.3504028e-03\n",
      "  3.4904480e-04  1.1444092e-03 -1.2054443e-03 -1.1825562e-03\n",
      "  9.4985962e-04  6.0558319e-05  1.0728836e-05 -6.6757202e-04\n",
      "  1.2435913e-03  6.9046021e-04  5.5551529e-05 -8.6212158e-04\n",
      " -1.1672974e-03  1.2130737e-03 -8.0490112e-04 -8.7738037e-04\n",
      "  2.2792816e-04 -3.9672852e-04 -8.5830688e-04  2.8800964e-04\n",
      " -1.5869141e-03  4.8446655e-04 -1.1215210e-03  1.9669533e-06\n",
      " -3.7956238e-04  7.0571899e-04 -1.5869141e-03  1.6250610e-03\n",
      "  1.5563965e-03 -4.3106079e-04  9.8419189e-04  9.0408325e-04\n",
      " -1.3961792e-03  1.2054443e-03 -7.0190430e-04  2.7084351e-04\n",
      " -1.2359619e-03  6.9046021e-04 -8.4304810e-04  1.3427734e-03\n",
      " -1.4343262e-03 -6.7138672e-04  1.5487671e-03 -1.0986328e-03\n",
      "  1.1901855e-03 -1.4266968e-03 -6.8283081e-04 -7.8582764e-04\n",
      "  4.8065186e-04  4.0817261e-04 -6.3705444e-04  1.4495850e-04\n",
      " -9.7656250e-04  1.4495850e-03  8.4564090e-07 -1.6632080e-03\n",
      " -3.2806396e-04  6.2942505e-04 -1.4343262e-03 -3.4141541e-04\n",
      "  1.1520386e-03 -5.3024292e-04 -4.7111511e-04 -8.5067749e-04\n",
      " -1.3809204e-03 -1.2435913e-03 -1.3275146e-03  1.0757446e-03\n",
      "  1.3198853e-03 -3.0326843e-04 -3.7431717e-05  1.1825562e-03\n",
      " -1.3580322e-03 -1.0452271e-03  5.6743622e-05 -1.0147095e-03\n",
      "  4.3296814e-04 -1.5716553e-03 -9.1075897e-05  1.0604858e-03\n",
      " -6.0272217e-04 -1.5335083e-03 -1.5335083e-03  5.4168701e-04\n",
      "  1.3351440e-03  4.1198730e-04 -3.1089783e-04  1.7642975e-04\n",
      " -1.3732910e-04 -6.9808960e-04 -8.6212158e-04 -1.0833740e-03\n",
      " -2.9802322e-05  8.0108643e-04  6.7901611e-04  3.3569336e-04\n",
      " -1.3885498e-03  1.3504028e-03  2.3460388e-04 -1.3351440e-03\n",
      " -8.7356567e-04 -7.4386597e-04  1.0833740e-03  6.0558319e-05\n",
      " -1.2664795e-03  1.1901855e-03 -6.2179565e-04  1.3597310e-07\n",
      "  1.2741089e-03 -9.8419189e-04 -1.5487671e-03  1.5563965e-03\n",
      " -1.3122559e-03 -7.9345703e-04  1.5335083e-03  1.2969971e-03\n",
      " -1.8024445e-04  9.1934204e-04  1.2054443e-03  7.7056885e-04\n",
      " -1.6555786e-03  7.7056885e-04  1.4495850e-03 -1.3046265e-03\n",
      "  6.1035156e-04  6.5994263e-04  1.2588501e-03  1.4190674e-03\n",
      " -1.2207031e-03 -1.5106201e-03  1.1291504e-03  1.3427734e-03\n",
      "  1.6632080e-03 -5.7220459e-04 -5.5694580e-04  3.9863586e-04\n",
      " -2.7084351e-04  4.9591064e-04  1.6098022e-03 -7.0571899e-04\n",
      "  6.2561035e-04 -9.7656250e-04 -1.8978119e-04  9.5367432e-05\n",
      " -5.1879883e-04 -2.0408630e-04 -8.2778931e-04 -1.2302399e-04\n",
      "  7.6293945e-04  3.2234192e-04 -1.2435913e-03  9.9182129e-04\n",
      "  1.0604858e-03 -1.4114380e-03  9.6797943e-05 -1.5563965e-03\n",
      "  2.1934509e-04 -5.5313110e-05 -9.1171265e-04 -1.4877319e-03\n",
      "  1.3656616e-03 -8.4304810e-04 -4.1961670e-04  3.2424927e-04\n",
      " -1.0070801e-03  1.2588501e-04 -4.5585632e-04  1.9264221e-04\n",
      " -2.6893616e-04  1.4953613e-03 -1.5869141e-03  5.9127808e-04\n",
      " -1.4648438e-03  9.6511841e-04 -1.2817383e-03  1.6021729e-03\n",
      "  1.0910034e-03 -1.3122559e-03  1.0910034e-03 -5.1116943e-04\n",
      "  3.4523010e-04  1.0452271e-03 -2.0694733e-04  9.0408325e-04\n",
      "  6.6757202e-04  1.1062622e-03 -8.7356567e-04 -3.7574768e-04\n",
      " -2.5749207e-04 -9.1552734e-05  1.4343262e-03 -1.1825562e-03\n",
      " -8.7261200e-05  1.3275146e-03 -1.5830994e-04  1.2893677e-03\n",
      " -9.8419189e-04 -5.4931641e-04 -1.5487671e-03  1.3732910e-03\n",
      " -6.0796738e-05 -8.2397461e-04  1.3275146e-03  1.1596680e-03\n",
      "  5.6838989e-04 -1.5640259e-03 -1.2302399e-04 -8.6307526e-05]\n",
      "Word: in, Index: [ 0.0703125   0.08691406  0.08789062  0.0625      0.06933594 -0.10888672\n",
      " -0.08154297 -0.15429688  0.02075195  0.13183594 -0.11376953 -0.03735352\n",
      "  0.06933594  0.078125   -0.10302734 -0.09765625  0.04418945  0.10253906\n",
      " -0.06079102 -0.03613281 -0.04541016  0.04736328 -0.12060547 -0.06396484\n",
      "  0.0022583   0.03710938 -0.00291443  0.11767578  0.06176758  0.06396484\n",
      "  0.08105469 -0.06884766 -0.0213623   0.05517578 -0.08544922  0.06884766\n",
      " -0.12792969 -0.03320312  0.09863281  0.17578125  0.11083984 -0.03466797\n",
      " -0.04711914 -0.00848389  0.03588867  0.10302734  0.02697754 -0.02868652\n",
      " -0.00512695  0.10644531  0.05981445  0.09423828  0.03369141 -0.02709961\n",
      " -0.09423828  0.00102997 -0.04833984  0.03442383  0.08105469 -0.11328125\n",
      " -0.08886719  0.03588867 -0.14550781 -0.24414062 -0.06152344  0.05297852\n",
      "  0.05688477  0.1796875   0.06103516  0.08691406  0.12402344 -0.0402832\n",
      "  0.02258301  0.17773438 -0.02966309 -0.02966309  0.1171875   0.03112793\n",
      " -0.09619141  0.06640625  0.00469971 -0.08007812  0.06298828 -0.02062988\n",
      " -0.0546875  -0.13574219 -0.06347656  0.08349609 -0.06396484  0.02148438\n",
      "  0.07714844 -0.03710938 -0.03369141 -0.18359375 -0.07275391  0.01586914\n",
      "  0.09326172 -0.06152344 -0.01422119 -0.00344849  0.0111084  -0.15820312\n",
      " -0.01708984  0.00619507 -0.00872803 -0.08056641 -0.01525879 -0.08789062\n",
      "  0.003479   -0.01611328 -0.0123291   0.09765625 -0.13964844 -0.0859375\n",
      " -0.02685547  0.05395508  0.1328125   0.11279297  0.12109375  0.08544922\n",
      " -0.0071106   0.04467773 -0.14550781 -0.00320435 -0.11767578 -0.06542969\n",
      "  0.07128906 -0.09423828 -0.03027344  0.12011719  0.08007812 -0.09472656\n",
      " -0.16210938 -0.07763672  0.02124023 -0.08154297  0.00393677 -0.15722656\n",
      " -0.09814453  0.03979492  0.03930664 -0.00909424  0.10302734  0.06787109\n",
      " -0.04272461  0.06347656 -0.04907227  0.02087402 -0.16699219  0.09326172\n",
      "  0.09375     0.00686646  0.05371094  0.05249023 -0.02441406 -0.0324707\n",
      " -0.06152344 -0.0055542   0.09619141  0.0378418   0.01220703 -0.04394531\n",
      " -0.00747681  0.10546875  0.02038574  0.14550781  0.08203125  0.00576782\n",
      "  0.00457764 -0.09277344 -0.13867188 -0.05737305 -0.05151367 -0.13085938\n",
      " -0.13964844 -0.02050781 -0.02709961  0.03271484  0.10498047 -0.00233459\n",
      " -0.02258301  0.00050354 -0.11083984  0.08496094 -0.12988281 -0.01745605\n",
      " -0.00035858  0.10791016  0.08886719  0.04467773  0.02514648  0.02380371\n",
      "  0.08105469  0.02368164 -0.10986328  0.00537109 -0.0177002  -0.03393555\n",
      " -0.03295898 -0.1640625   0.09570312 -0.01831055  0.00531006 -0.03442383\n",
      " -0.04418945 -0.06640625 -0.01794434 -0.02966309 -0.00759888 -0.05126953\n",
      " -0.05419922  0.08935547 -0.07177734  0.01525879 -0.08251953 -0.03173828\n",
      "  0.03564453 -0.02124023 -0.05932617 -0.01306152  0.046875    0.02307129\n",
      "  0.02099609 -0.07861328 -0.00805664  0.01953125 -0.0055542   0.04150391\n",
      "  0.02783203  0.01361084  0.03466797 -0.18261719  0.12011719  0.07421875\n",
      " -0.04101562 -0.00994873  0.04296875 -0.0072937   0.12304688  0.05761719\n",
      " -0.0534668  -0.03222656 -0.00909424 -0.04663086  0.04394531 -0.05078125\n",
      "  0.06884766  0.00299072 -0.00418091 -0.04418945  0.07373047 -0.01275635\n",
      "  0.06738281  0.00628662  0.07519531 -0.0378418   0.00488281  0.04467773\n",
      " -0.06738281  0.00970459  0.00473022  0.02050781  0.07128906  0.17089844\n",
      "  0.17382812  0.05566406  0.09130859 -0.03735352  0.04980469 -0.03930664\n",
      "  0.04418945  0.0625      0.04858398 -0.05322266  0.04882812 -0.13085938\n",
      " -0.02893066 -0.03613281 -0.06079102 -0.05737305  0.12304688 -0.08251953\n",
      " -0.01190186  0.125       0.00135803  0.06396484 -0.10644531 -0.14355469\n",
      " -0.04223633  0.02404785 -0.16894531 -0.08886719 -0.08056641  0.06494141\n",
      "  0.0612793  -0.04736328 -0.05883789 -0.04760742  0.01446533 -0.0625    ]\n",
      "Word: for, Index: [-1.17797852e-02 -4.73632812e-02  4.46777344e-02  6.34765625e-02\n",
      " -1.81884766e-02 -6.39648438e-02 -1.31225586e-03 -7.22656250e-02\n",
      "  6.44531250e-02  8.64257812e-02 -1.69921875e-01 -3.97949219e-02\n",
      "  7.12890625e-02 -2.58789062e-02  1.81884766e-02  1.36718750e-01\n",
      "  1.44531250e-01 -3.36914062e-02 -9.76562500e-02 -1.20117188e-01\n",
      " -7.95898438e-02  6.25000000e-02 -6.68945312e-02  7.42187500e-02\n",
      "  2.27050781e-02  3.34472656e-02 -1.80664062e-01  5.20019531e-02\n",
      "  1.38549805e-02  9.27734375e-02  3.50952148e-03 -9.09423828e-03\n",
      " -9.71679688e-02  6.78710938e-02 -8.78906250e-03  4.41894531e-02\n",
      " -1.33789062e-01 -9.96093750e-02  3.32031250e-02  2.79541016e-02\n",
      "  1.55273438e-01 -1.77001953e-02  1.42822266e-02 -1.09863281e-01\n",
      " -8.54492188e-02 -7.32421875e-02 -2.46582031e-02  1.72851562e-01\n",
      "  6.17675781e-02  8.93554688e-02 -2.42919922e-02  1.41601562e-01\n",
      " -3.29589844e-02  2.74658203e-02 -1.55273438e-01  7.87353516e-03\n",
      " -7.08007812e-02  4.37011719e-02  6.01196289e-03 -5.59082031e-02\n",
      " -1.47460938e-01  2.84423828e-02 -1.32812500e-01 -1.76757812e-01\n",
      " -9.13085938e-02 -5.07812500e-02 -2.60009766e-02 -1.48437500e-01\n",
      " -8.05664062e-02  1.50390625e-01 -4.34570312e-02  7.91015625e-02\n",
      "  3.32031250e-02  9.03320312e-02  2.27050781e-02 -6.25000000e-02\n",
      "  1.64062500e-01  8.59375000e-02 -1.23901367e-02  1.96289062e-01\n",
      " -6.22558594e-02  2.24609375e-02 -3.01513672e-02  2.12402344e-02\n",
      "  3.32641602e-03 -5.54199219e-02 -7.32421875e-02  2.97851562e-02\n",
      "  4.98046875e-02  1.74560547e-02  1.04492188e-01  3.88183594e-02\n",
      "  8.49609375e-02 -2.48046875e-01  6.93359375e-02 -1.49414062e-01\n",
      "  5.83496094e-02  9.57031250e-02 -3.34472656e-02  6.29882812e-02\n",
      "  2.13623047e-02 -1.45507812e-01  5.37109375e-02 -9.08203125e-02\n",
      " -2.53906250e-02  4.54101562e-02  5.31005859e-03 -1.15722656e-01\n",
      " -1.95312500e-02  1.21093750e-01  3.22265625e-02  9.47265625e-02\n",
      " -6.44531250e-02  2.27050781e-02  1.20605469e-01  6.03027344e-02\n",
      "  1.20605469e-01  4.88281250e-02  9.32617188e-02  6.68945312e-02\n",
      "  2.92968750e-02 -3.41796875e-02 -1.11328125e-01  5.34667969e-02\n",
      " -2.56347656e-02  1.78222656e-02  6.22558594e-02 -2.58789062e-02\n",
      "  1.45507812e-01  6.25000000e-02  1.07910156e-01 -1.63085938e-01\n",
      " -9.76562500e-02 -1.05957031e-01 -8.54492188e-02 -8.88671875e-02\n",
      "  1.01074219e-01 -7.95898438e-02  8.42285156e-03  2.40478516e-02\n",
      "  1.30859375e-01  5.12695312e-02  8.15429688e-02  9.37500000e-02\n",
      " -5.85937500e-02 -9.66796875e-02 -2.83203125e-02 -1.45507812e-01\n",
      " -1.47460938e-01  1.45507812e-01 -1.75781250e-02  3.29589844e-02\n",
      " -8.54492188e-02 -1.09863281e-02 -3.71093750e-02 -1.36718750e-02\n",
      "  3.58886719e-02 -8.23974609e-03  5.02929688e-02 -9.47265625e-02\n",
      "  4.78515625e-02  2.07519531e-02  3.06396484e-02  1.29882812e-01\n",
      "  5.27343750e-02  1.87988281e-02 -1.75781250e-02  3.49121094e-02\n",
      "  1.83105469e-02 -9.88769531e-03 -1.84570312e-01 -8.98437500e-02\n",
      " -2.90527344e-02 -6.07910156e-02 -5.12695312e-02 -2.36511230e-03\n",
      "  6.64062500e-02 -8.25195312e-02 -4.00390625e-02  9.61914062e-02\n",
      " -1.54296875e-01 -1.53320312e-01  2.83203125e-02  1.31225586e-02\n",
      "  2.99072266e-02 -1.21459961e-02 -9.66796875e-02  2.47802734e-02\n",
      "  1.93359375e-01  1.30004883e-02  2.41699219e-02 -3.58886719e-02\n",
      "  9.86328125e-02 -9.66796875e-02 -2.00195312e-01 -1.37939453e-02\n",
      "  8.59375000e-02 -8.00781250e-02 -1.76757812e-01 -1.74804688e-01\n",
      "  5.12695312e-03 -3.49121094e-02 -5.46875000e-02  9.37500000e-02\n",
      " -9.32617188e-02 -1.19628906e-02 -5.64575195e-04  9.76562500e-02\n",
      "  2.47802734e-02 -3.97949219e-02  9.76562500e-03  1.18164062e-01\n",
      "  2.57568359e-02  1.23046875e-01  6.44531250e-02  7.08007812e-02\n",
      "  2.92968750e-02 -4.95605469e-02 -7.81250000e-02  2.89306641e-02\n",
      "  4.56542969e-02 -4.29687500e-02  2.58789062e-02 -5.17578125e-02\n",
      "  1.40625000e-01  4.27246094e-03 -3.78417969e-02  2.74658203e-02\n",
      "  6.00585938e-02  2.83203125e-02  2.80761719e-02 -3.66210938e-02\n",
      "  1.30859375e-01 -9.67979431e-05 -6.93359375e-02 -2.20947266e-02\n",
      "  6.78710938e-02 -2.33154297e-02 -1.53198242e-02 -5.83496094e-02\n",
      "  6.10351562e-02  6.44683838e-04  3.99780273e-03 -7.12890625e-02\n",
      "  9.17968750e-02  2.62451172e-02  2.00195312e-02  3.54003906e-02\n",
      " -5.78613281e-02 -2.96630859e-02  2.73437500e-02  2.51464844e-02\n",
      "  6.03027344e-02  1.31835938e-01 -4.36401367e-03  2.73132324e-03\n",
      "  5.98144531e-02  9.86328125e-02 -9.17968750e-02 -4.58984375e-02\n",
      " -1.74560547e-02  3.83300781e-02 -1.91650391e-02  4.63867188e-02\n",
      "  4.78515625e-02  9.81445312e-02 -4.02832031e-02  9.42382812e-02\n",
      " -3.46679688e-02 -4.22363281e-02  7.03125000e-02 -1.36718750e-02\n",
      "  1.06445312e-01  1.64794922e-02  1.31835938e-01 -1.69372559e-03\n",
      " -8.48388672e-03 -1.42578125e-01 -4.66308594e-02 -1.09863281e-01\n",
      "  8.20312500e-02 -4.10156250e-02 -1.89208984e-02  8.78906250e-02\n",
      " -2.80761719e-03  2.38281250e-01 -4.71191406e-02 -2.29492188e-02\n",
      "  4.07714844e-02  2.92968750e-02 -2.25830078e-02  3.72314453e-03\n",
      " -8.25195312e-02  8.15429688e-02  7.93457031e-03  4.76837158e-04\n",
      "  1.84326172e-02  7.12890625e-02 -3.49121094e-02  2.41699219e-02]\n"
     ]
    }
   ],
   "source": [
    "print('words : words sequence mapping dictionary from Word2Vec Embeddings:')\n",
    "top_3_pairs = list(Word2VecEmbeddings.items())[:3]\n",
    "\n",
    "# Print the top 5 key-value pairs\n",
    "for key, value in top_3_pairs:\n",
    "    print(f'Word: {key}, Index: {value}')"
   ]
  },
  {
   "cell_type": "code",
   "execution_count": 16,
   "id": "30e93c8e",
   "metadata": {
    "execution": {
     "iopub.execute_input": "2023-10-28T06:19:19.861566Z",
     "iopub.status.busy": "2023-10-28T06:19:19.861294Z",
     "iopub.status.idle": "2023-10-28T06:19:20.201878Z",
     "shell.execute_reply": "2023-10-28T06:19:20.201025Z"
    },
    "papermill": {
     "duration": 0.354864,
     "end_time": "2023-10-28T06:19:20.203948",
     "exception": false,
     "start_time": "2023-10-28T06:19:19.849084",
     "status": "completed"
    },
    "tags": []
   },
   "outputs": [
    {
     "name": "stderr",
     "output_type": "stream",
     "text": [
      "100%|██████████| 92722/92722 [00:00<00:00, 279903.63it/s]\n"
     ]
    }
   ],
   "source": [
    "unmatched = []\n",
    "matchedwordswithW2Vec = []\n",
    "W2VecEmbeddings2d = np.zeros((size_of_vocabulary,300))\n",
    "for word,indx in tqdm(wrd.word_index.items()):\n",
    "    embedding_value = Word2VecEmbeddings.get(word)\n",
    "    if embedding_value is not None:\n",
    "        W2VecEmbeddings2d[indx] = embedding_value\n",
    "        matchedwordswithW2Vec.append(word)\n",
    "    else :\n",
    "        unmatched.append(word)"
   ]
  },
  {
   "cell_type": "code",
   "execution_count": 17,
   "id": "79af0173",
   "metadata": {
    "execution": {
     "iopub.execute_input": "2023-10-28T06:19:20.273036Z",
     "iopub.status.busy": "2023-10-28T06:19:20.272357Z",
     "iopub.status.idle": "2023-10-28T06:19:20.279719Z",
     "shell.execute_reply": "2023-10-28T06:19:20.278736Z"
    },
    "papermill": {
     "duration": 0.065806,
     "end_time": "2023-10-28T06:19:20.281923",
     "exception": false,
     "start_time": "2023-10-28T06:19:20.216117",
     "status": "completed"
    },
    "tags": []
   },
   "outputs": [
    {
     "name": "stdout",
     "output_type": "stream",
     "text": [
      "places Word2Vec word embedding sequence in the index of matched word in Vocabulary\n",
      "\n",
      "\n"
     ]
    },
    {
     "data": {
      "text/plain": [
       "array([[ 0.        ,  0.        ,  0.        , ...,  0.        ,\n",
       "         0.        ,  0.        ],\n",
       "       [ 0.        ,  0.        ,  0.        , ...,  0.        ,\n",
       "         0.        ,  0.        ],\n",
       "       [ 0.17480469, -0.10986328, -0.20019531, ...,  0.07958984,\n",
       "         0.02807617, -0.02026367],\n",
       "       ...,\n",
       "       [ 0.02319336,  0.19433594, -0.16210938, ..., -0.37304688,\n",
       "         0.18164062,  0.25390625],\n",
       "       [-0.34570312,  0.15039062, -0.1953125 , ..., -0.12597656,\n",
       "        -0.17871094,  0.26953125],\n",
       "       [ 0.11181641,  0.08300781, -0.22363281, ..., -0.25390625,\n",
       "         0.02331543,  0.52734375]])"
      ]
     },
     "execution_count": 17,
     "metadata": {},
     "output_type": "execute_result"
    }
   ],
   "source": [
    "print('places Word2Vec word embedding sequence in the index of matched word in Vocabulary\\n\\n')\n",
    "W2VecEmbeddings2d"
   ]
  },
  {
   "cell_type": "code",
   "execution_count": 18,
   "id": "246d5ba5",
   "metadata": {
    "execution": {
     "iopub.execute_input": "2023-10-28T06:19:20.307480Z",
     "iopub.status.busy": "2023-10-28T06:19:20.307210Z",
     "iopub.status.idle": "2023-10-28T06:19:20.313371Z",
     "shell.execute_reply": "2023-10-28T06:19:20.312415Z"
    },
    "papermill": {
     "duration": 0.020772,
     "end_time": "2023-10-28T06:19:20.315213",
     "exception": false,
     "start_time": "2023-10-28T06:19:20.294441",
     "status": "completed"
    },
    "tags": []
   },
   "outputs": [
    {
     "name": "stdout",
     "output_type": "stream",
     "text": [
      "\n",
      "\n",
      "length of matched words from our vocabulary with that of Word2Vec words: \n",
      "\n"
     ]
    },
    {
     "data": {
      "text/plain": [
       "55414"
      ]
     },
     "execution_count": 18,
     "metadata": {},
     "output_type": "execute_result"
    }
   ],
   "source": [
    "print('\\n\\nlength of matched words from our vocabulary with that of Word2Vec words: \\n')\n",
    "len(matchedwordswithW2Vec)\n"
   ]
  },
  {
   "cell_type": "code",
   "execution_count": 19,
   "id": "be8ac388",
   "metadata": {
    "execution": {
     "iopub.execute_input": "2023-10-28T06:19:20.340175Z",
     "iopub.status.busy": "2023-10-28T06:19:20.339902Z",
     "iopub.status.idle": "2023-10-28T06:19:20.345997Z",
     "shell.execute_reply": "2023-10-28T06:19:20.345155Z"
    },
    "papermill": {
     "duration": 0.020764,
     "end_time": "2023-10-28T06:19:20.347876",
     "exception": false,
     "start_time": "2023-10-28T06:19:20.327112",
     "status": "completed"
    },
    "tags": []
   },
   "outputs": [
    {
     "name": "stdout",
     "output_type": "stream",
     "text": [
      "\n",
      "matched words\n"
     ]
    },
    {
     "data": {
      "text/plain": [
       "['movie',\n",
       " 'film',\n",
       " 'one',\n",
       " 'like',\n",
       " 'would',\n",
       " 'good',\n",
       " 'time',\n",
       " 'even',\n",
       " 'story',\n",
       " 'see']"
      ]
     },
     "execution_count": 19,
     "metadata": {},
     "output_type": "execute_result"
    }
   ],
   "source": [
    "print('\\nmatched words')\n",
    "matchedwordswithW2Vec[0:10]"
   ]
  },
  {
   "cell_type": "code",
   "execution_count": 20,
   "id": "c9ebc466",
   "metadata": {
    "execution": {
     "iopub.execute_input": "2023-10-28T06:19:20.373523Z",
     "iopub.status.busy": "2023-10-28T06:19:20.373275Z",
     "iopub.status.idle": "2023-10-28T06:19:24.107599Z",
     "shell.execute_reply": "2023-10-28T06:19:24.106243Z"
    },
    "id": "dYGxCvnTfTgc",
    "outputId": "ae047724-dd0b-43cd-d62b-7300a4cc19e0",
    "papermill": {
     "duration": 3.751868,
     "end_time": "2023-10-28T06:19:24.112090",
     "exception": false,
     "start_time": "2023-10-28T06:19:20.360222",
     "status": "completed"
    },
    "tags": []
   },
   "outputs": [
    {
     "name": "stdout",
     "output_type": "stream",
     "text": [
      "Model: \"sequential\"\n",
      "_________________________________________________________________\n",
      " Layer (type)                Output Shape              Param #   \n",
      "=================================================================\n",
      " embedding (Embedding)       (None, 250, 300)          27816900  \n",
      "                                                                 \n",
      " lstm (LSTM)                 (None, 256)               570368    \n",
      "                                                                 \n",
      " dense (Dense)               (None, 1)                 257       \n",
      "                                                                 \n",
      "=================================================================\n",
      "Total params: 28,387,525\n",
      "Trainable params: 570,625\n",
      "Non-trainable params: 27,816,900\n",
      "_________________________________________________________________\n"
     ]
    }
   ],
   "source": [
    "lstm_units=256\n",
    "dropofLSTM =0.3\n",
    "lstm_W2Vec = Sequential()\n",
    "lstm_W2Vec.add(Embedding(size_of_vocabulary, 300, input_length=Max_Review_Length, weights = [W2VecEmbeddings2d] , trainable = False))\n",
    "lstm_W2Vec.add(LSTM(lstm_units, dropout=dropofLSTM))\n",
    "lstm_W2Vec.add(Dense(1, activation='sigmoid'))\n",
    "lstm_W2Vec.summary()"
   ]
  },
  {
   "cell_type": "code",
   "execution_count": 21,
   "id": "8d0ce821",
   "metadata": {
    "execution": {
     "iopub.execute_input": "2023-10-28T06:19:24.141870Z",
     "iopub.status.busy": "2023-10-28T06:19:24.141231Z",
     "iopub.status.idle": "2023-10-28T06:36:10.592852Z",
     "shell.execute_reply": "2023-10-28T06:36:10.591869Z"
    },
    "id": "ABeQmCFAfTgc",
    "outputId": "7cab5945-f15f-477e-d42d-aa17642a4888",
    "papermill": {
     "duration": 1006.469331,
     "end_time": "2023-10-28T06:36:10.595537",
     "exception": false,
     "start_time": "2023-10-28T06:19:24.126206",
     "status": "completed"
    },
    "tags": []
   },
   "outputs": [
    {
     "name": "stdout",
     "output_type": "stream",
     "text": [
      "Epoch 1/47\n",
      "1240/1240 - 27s - loss: 0.4294 - accuracy: 0.8086 - val_loss: 0.3667 - val_accuracy: 0.8369 - 27s/epoch - 22ms/step\n",
      "Epoch 2/47\n",
      "1240/1240 - 21s - loss: 0.3421 - accuracy: 0.8560 - val_loss: 0.3140 - val_accuracy: 0.8748 - 21s/epoch - 17ms/step\n",
      "Epoch 3/47\n",
      "1240/1240 - 21s - loss: 0.3027 - accuracy: 0.8747 - val_loss: 0.2773 - val_accuracy: 0.8890 - 21s/epoch - 17ms/step\n",
      "Epoch 4/47\n",
      "1240/1240 - 21s - loss: 0.2762 - accuracy: 0.8870 - val_loss: 0.2809 - val_accuracy: 0.8866 - 21s/epoch - 17ms/step\n",
      "Epoch 5/47\n",
      "1240/1240 - 21s - loss: 0.2588 - accuracy: 0.8938 - val_loss: 0.2603 - val_accuracy: 0.8957 - 21s/epoch - 17ms/step\n",
      "Epoch 6/47\n",
      "1240/1240 - 21s - loss: 0.2367 - accuracy: 0.9037 - val_loss: 0.2575 - val_accuracy: 0.8963 - 21s/epoch - 17ms/step\n",
      "Epoch 7/47\n",
      "1240/1240 - 21s - loss: 0.2174 - accuracy: 0.9130 - val_loss: 0.2710 - val_accuracy: 0.8939 - 21s/epoch - 17ms/step\n",
      "Epoch 8/47\n",
      "1240/1240 - 21s - loss: 0.1951 - accuracy: 0.9226 - val_loss: 0.2680 - val_accuracy: 0.8917 - 21s/epoch - 17ms/step\n",
      "Epoch 9/47\n",
      "1240/1240 - 21s - loss: 0.1677 - accuracy: 0.9325 - val_loss: 0.2997 - val_accuracy: 0.8932 - 21s/epoch - 17ms/step\n",
      "Epoch 10/47\n",
      "1240/1240 - 21s - loss: 0.1460 - accuracy: 0.9420 - val_loss: 0.2918 - val_accuracy: 0.8941 - 21s/epoch - 17ms/step\n",
      "Epoch 11/47\n",
      "1240/1240 - 21s - loss: 0.1220 - accuracy: 0.9528 - val_loss: 0.3072 - val_accuracy: 0.8932 - 21s/epoch - 17ms/step\n",
      "Epoch 12/47\n",
      "1240/1240 - 21s - loss: 0.0961 - accuracy: 0.9624 - val_loss: 0.3385 - val_accuracy: 0.8918 - 21s/epoch - 17ms/step\n",
      "Epoch 13/47\n",
      "1240/1240 - 21s - loss: 0.0799 - accuracy: 0.9695 - val_loss: 0.3760 - val_accuracy: 0.8982 - 21s/epoch - 17ms/step\n",
      "Epoch 14/47\n",
      "1240/1240 - 21s - loss: 0.0634 - accuracy: 0.9762 - val_loss: 0.3842 - val_accuracy: 0.8920 - 21s/epoch - 17ms/step\n",
      "Epoch 15/47\n",
      "1240/1240 - 21s - loss: 0.0560 - accuracy: 0.9796 - val_loss: 0.3848 - val_accuracy: 0.8895 - 21s/epoch - 17ms/step\n",
      "Epoch 16/47\n",
      "1240/1240 - 21s - loss: 0.0456 - accuracy: 0.9840 - val_loss: 0.4358 - val_accuracy: 0.8908 - 21s/epoch - 17ms/step\n",
      "Epoch 17/47\n",
      "1240/1240 - 21s - loss: 0.0428 - accuracy: 0.9844 - val_loss: 0.4474 - val_accuracy: 0.8920 - 21s/epoch - 17ms/step\n",
      "Epoch 18/47\n",
      "1240/1240 - 21s - loss: 0.0393 - accuracy: 0.9860 - val_loss: 0.4414 - val_accuracy: 0.8880 - 21s/epoch - 17ms/step\n",
      "Epoch 19/47\n",
      "1240/1240 - 21s - loss: 0.0328 - accuracy: 0.9884 - val_loss: 0.4777 - val_accuracy: 0.8948 - 21s/epoch - 17ms/step\n",
      "Epoch 20/47\n",
      "1240/1240 - 21s - loss: 0.0303 - accuracy: 0.9898 - val_loss: 0.4445 - val_accuracy: 0.8900 - 21s/epoch - 17ms/step\n",
      "Epoch 21/47\n",
      "1240/1240 - 21s - loss: 0.0294 - accuracy: 0.9897 - val_loss: 0.4785 - val_accuracy: 0.8895 - 21s/epoch - 17ms/step\n",
      "Epoch 22/47\n",
      "1240/1240 - 21s - loss: 0.0277 - accuracy: 0.9901 - val_loss: 0.4977 - val_accuracy: 0.8830 - 21s/epoch - 17ms/step\n",
      "Epoch 23/47\n",
      "1240/1240 - 21s - loss: 0.0270 - accuracy: 0.9909 - val_loss: 0.4960 - val_accuracy: 0.8948 - 21s/epoch - 17ms/step\n",
      "Epoch 24/47\n",
      "1240/1240 - 21s - loss: 0.0259 - accuracy: 0.9912 - val_loss: 0.4987 - val_accuracy: 0.8886 - 21s/epoch - 17ms/step\n",
      "Epoch 25/47\n",
      "1240/1240 - 21s - loss: 0.0200 - accuracy: 0.9928 - val_loss: 0.5173 - val_accuracy: 0.8906 - 21s/epoch - 17ms/step\n",
      "Epoch 26/47\n",
      "1240/1240 - 21s - loss: 0.0231 - accuracy: 0.9924 - val_loss: 0.5122 - val_accuracy: 0.8927 - 21s/epoch - 17ms/step\n",
      "Epoch 27/47\n",
      "1240/1240 - 21s - loss: 0.0225 - accuracy: 0.9929 - val_loss: 0.5046 - val_accuracy: 0.8946 - 21s/epoch - 17ms/step\n",
      "Epoch 28/47\n",
      "1240/1240 - 21s - loss: 0.0187 - accuracy: 0.9936 - val_loss: 0.5211 - val_accuracy: 0.8873 - 21s/epoch - 17ms/step\n",
      "Epoch 29/47\n",
      "1240/1240 - 21s - loss: 0.0196 - accuracy: 0.9933 - val_loss: 0.5178 - val_accuracy: 0.8911 - 21s/epoch - 17ms/step\n",
      "Epoch 30/47\n",
      "1240/1240 - 21s - loss: 0.0201 - accuracy: 0.9932 - val_loss: 0.5538 - val_accuracy: 0.8935 - 21s/epoch - 17ms/step\n",
      "Epoch 31/47\n",
      "1240/1240 - 21s - loss: 0.0193 - accuracy: 0.9932 - val_loss: 0.5185 - val_accuracy: 0.8904 - 21s/epoch - 17ms/step\n",
      "Epoch 32/47\n",
      "1240/1240 - 21s - loss: 0.0171 - accuracy: 0.9938 - val_loss: 0.5661 - val_accuracy: 0.8886 - 21s/epoch - 17ms/step\n",
      "Epoch 33/47\n",
      "1240/1240 - 21s - loss: 0.0177 - accuracy: 0.9945 - val_loss: 0.5939 - val_accuracy: 0.8910 - 21s/epoch - 17ms/step\n",
      "Epoch 34/47\n",
      "1240/1240 - 21s - loss: 0.0163 - accuracy: 0.9950 - val_loss: 0.5639 - val_accuracy: 0.8901 - 21s/epoch - 17ms/step\n",
      "Epoch 35/47\n",
      "1240/1240 - 21s - loss: 0.0158 - accuracy: 0.9945 - val_loss: 0.5757 - val_accuracy: 0.8904 - 21s/epoch - 17ms/step\n",
      "Epoch 36/47\n",
      "1240/1240 - 21s - loss: 0.0170 - accuracy: 0.9945 - val_loss: 0.5684 - val_accuracy: 0.8905 - 21s/epoch - 17ms/step\n",
      "Epoch 37/47\n",
      "1240/1240 - 21s - loss: 0.0165 - accuracy: 0.9948 - val_loss: 0.5870 - val_accuracy: 0.8910 - 21s/epoch - 17ms/step\n",
      "Epoch 38/47\n",
      "1240/1240 - 21s - loss: 0.0135 - accuracy: 0.9955 - val_loss: 0.5943 - val_accuracy: 0.8926 - 21s/epoch - 17ms/step\n",
      "Epoch 39/47\n",
      "1240/1240 - 21s - loss: 0.0152 - accuracy: 0.9950 - val_loss: 0.5905 - val_accuracy: 0.8916 - 21s/epoch - 17ms/step\n",
      "Epoch 40/47\n",
      "1240/1240 - 21s - loss: 0.0155 - accuracy: 0.9946 - val_loss: 0.5701 - val_accuracy: 0.8896 - 21s/epoch - 17ms/step\n",
      "Epoch 41/47\n",
      "1240/1240 - 21s - loss: 0.0157 - accuracy: 0.9945 - val_loss: 0.5915 - val_accuracy: 0.8926 - 21s/epoch - 17ms/step\n",
      "Epoch 42/47\n",
      "1240/1240 - 22s - loss: 0.0115 - accuracy: 0.9960 - val_loss: 0.5916 - val_accuracy: 0.8949 - 22s/epoch - 17ms/step\n",
      "Epoch 43/47\n",
      "1240/1240 - 21s - loss: 0.0128 - accuracy: 0.9959 - val_loss: 0.6270 - val_accuracy: 0.8937 - 21s/epoch - 17ms/step\n",
      "Epoch 44/47\n",
      "1240/1240 - 21s - loss: 0.0144 - accuracy: 0.9951 - val_loss: 0.6227 - val_accuracy: 0.8929 - 21s/epoch - 17ms/step\n",
      "Epoch 45/47\n",
      "1240/1240 - 21s - loss: 0.0134 - accuracy: 0.9952 - val_loss: 0.5973 - val_accuracy: 0.8923 - 21s/epoch - 17ms/step\n",
      "Epoch 46/47\n",
      "1240/1240 - 21s - loss: 0.0132 - accuracy: 0.9952 - val_loss: 0.5869 - val_accuracy: 0.8935 - 21s/epoch - 17ms/step\n",
      "Epoch 47/47\n",
      "1240/1240 - 21s - loss: 0.0135 - accuracy: 0.9953 - val_loss: 0.6482 - val_accuracy: 0.8920 - 21s/epoch - 17ms/step\n"
     ]
    }
   ],
   "source": [
    "lstm_W2Vec.compile(loss = 'binary_crossentropy', optimizer = 'adam', metrics=['accuracy'])\n",
    "totalEpochs = 47\n",
    "history = lstm_W2Vec.fit(XTrainPaddedsequence,Y_train, epochs=totalEpochs,validation_data=(XTestPaddedsequence, Y_test), verbose=2)"
   ]
  },
  {
   "cell_type": "code",
   "execution_count": 22,
   "id": "563b3334",
   "metadata": {
    "execution": {
     "iopub.execute_input": "2023-10-28T06:36:10.644165Z",
     "iopub.status.busy": "2023-10-28T06:36:10.643742Z",
     "iopub.status.idle": "2023-10-28T06:36:16.042534Z",
     "shell.execute_reply": "2023-10-28T06:36:16.041625Z"
    },
    "id": "nm4_KBUPfTgd",
    "outputId": "6eb87ac4-f409-4abb-bbac-c9e52bcbec8b",
    "papermill": {
     "duration": 5.423111,
     "end_time": "2023-10-28T06:36:16.044781",
     "exception": false,
     "start_time": "2023-10-28T06:36:10.621670",
     "status": "completed"
    },
    "tags": []
   },
   "outputs": [
    {
     "name": "stdout",
     "output_type": "stream",
     "text": [
      "310/310 [==============================] - 2s 7ms/step\n",
      "Accuracy of LSTM_WORD2VEC: 89.200%\n",
      "Precision of LSTM_WORD2VEC: 86.889%\n",
      "Recall of LSTM_WORD2VEC: 92.222%\n",
      "F1 score of LSTM_WORD2VEC: 89.476%\n",
      "              precision    recall  f1-score   support\n",
      "\n",
      "           0       0.92      0.86      0.89      4980\n",
      "           1       0.87      0.92      0.89      4937\n",
      "\n",
      "    accuracy                           0.89      9917\n",
      "   macro avg       0.89      0.89      0.89      9917\n",
      "weighted avg       0.89      0.89      0.89      9917\n",
      "\n"
     ]
    },
    {
     "data": {
      "image/png": "[encoded data removed]",
      "text/plain": [
       "<Figure size 800x600 with 1 Axes>"
      ]
     },
     "metadata": {},
     "output_type": "display_data"
    }
   ],
   "source": [
    "model = lstm_W2Vec\n",
    "predictions = model.predict(XTestPaddedsequence, verbose=0)\n",
    "predicted_sentiment = (model.predict(XTestPaddedsequence)>0.5).astype('int32')\n",
    "\n",
    "predictions = predictions[:, 0]\n",
    "predicted_sentiment = predicted_sentiment[:, 0]\n",
    "\n",
    "\n",
    "accuracy = accuracy_score(Y_test, predicted_sentiment) * 100\n",
    "precision = precision_score(Y_test, predicted_sentiment)* 100\n",
    "recall = recall_score(Y_test, predicted_sentiment)* 100\n",
    "f1 = f1_score(Y_test, predicted_sentiment)* 100\n",
    "\n",
    "print(f'Accuracy of LSTM_WORD2VEC: {accuracy:.3f}%')\n",
    "print(f'Precision of LSTM_WORD2VEC: {precision:.3f}%')\n",
    "print(f'Recall of LSTM_WORD2VEC: {recall:.3f}%')\n",
    "print(f'F1 score of LSTM_WORD2VEC: {f1:.3f}%')\n",
    "\n",
    "matrix = classification_report(Y_test, predicted_sentiment)\n",
    "print(matrix)\n",
    "\n",
    "plt.figure(figsize=(8, 6))\n",
    "false_positive_rate, true_positive_rate, thresholds = roc_curve(Y_test, predictions, pos_label=1)\n",
    "random_false_positive_rate, random_true_positive_rate, _ = roc_curve(Y_test, np.zeros(len(Y_test)), pos_label=1)\n",
    "auc_score = roc_auc_score(Y_test, predictions)\n",
    "\n",
    "plt.plot(false_positive_rate, true_positive_rate, linestyle='-', color='blue', label='LSTM (AUC = {:.3f})'.format(auc_score))\n",
    "plt.plot(random_false_positive_rate, random_true_positive_rate, linestyle='--', color='orange')\n",
    "\n",
    "plt.title('Receiver Operating Characteristic (ROC) Curve')\n",
    "plt.xlabel('False Positive Rate')\n",
    "plt.ylabel('True Positive Rate')\n",
    "plt.legend(loc='best')\n",
    "plt.show()"
   ]
  },
  {
   "cell_type": "markdown",
   "id": "47ac64ba",
   "metadata": {
    "id": "lp9Kkyz7fTge",
    "papermill": {
     "duration": 0.023923,
     "end_time": "2023-10-28T06:36:16.093463",
     "exception": false,
     "start_time": "2023-10-28T06:36:16.069540",
     "status": "completed"
    },
    "tags": []
   },
   "source": [
    "## Bi-Directional LSTM's"
   ]
  },
  {
   "cell_type": "code",
   "execution_count": 23,
   "id": "98552920",
   "metadata": {
    "execution": {
     "iopub.execute_input": "2023-10-28T06:36:16.143401Z",
     "iopub.status.busy": "2023-10-28T06:36:16.143042Z",
     "iopub.status.idle": "2023-10-28T06:36:17.439568Z",
     "shell.execute_reply": "2023-10-28T06:36:17.438611Z"
    },
    "id": "Jojsv3txfTge",
    "papermill": {
     "duration": 1.324136,
     "end_time": "2023-10-28T06:36:17.441997",
     "exception": false,
     "start_time": "2023-10-28T06:36:16.117861",
     "status": "completed"
    },
    "tags": []
   },
   "outputs": [],
   "source": [
    "dropofLSTM =0.3\n",
    "BiLSTN_W2Vec = Sequential()\n",
    "BiLSTN_W2Vec.add(Embedding(size_of_vocabulary, 300, input_length=Max_Review_Length, weights = [W2VecEmbeddings2d] , trainable = False))\n",
    "BiLSTN_W2Vec.add(Bidirectional(LSTM(lstm_units, dropout=dropofLSTM, return_sequences=True)))\n",
    "BiLSTN_W2Vec.add(Bidirectional(LSTM(lstm_units, dropout=dropofLSTM)))\n",
    "BiLSTN_W2Vec.add(Dense(1, activation='sigmoid'))\n",
    "BiLSTN_W2Vec.compile(loss = 'binary_crossentropy', optimizer = 'adam', metrics=['accuracy'])"
   ]
  },
  {
   "cell_type": "code",
   "execution_count": 24,
   "id": "de3344df",
   "metadata": {
    "execution": {
     "iopub.execute_input": "2023-10-28T06:36:17.493854Z",
     "iopub.status.busy": "2023-10-28T06:36:17.493046Z",
     "iopub.status.idle": "2023-10-28T06:36:17.515695Z",
     "shell.execute_reply": "2023-10-28T06:36:17.513792Z"
    },
    "id": "U2pECKjGfTge",
    "outputId": "4aca6efb-7d39-41d8-b658-54f4f2fdc3d4",
    "papermill": {
     "duration": 0.054028,
     "end_time": "2023-10-28T06:36:17.521176",
     "exception": false,
     "start_time": "2023-10-28T06:36:17.467148",
     "status": "completed"
    },
    "tags": []
   },
   "outputs": [
    {
     "name": "stdout",
     "output_type": "stream",
     "text": [
      "Model: \"sequential_1\"\n",
      "_________________________________________________________________\n",
      " Layer (type)                Output Shape              Param #   \n",
      "=================================================================\n",
      " embedding_1 (Embedding)     (None, 250, 300)          27816900  \n",
      "                                                                 \n",
      " bidirectional (Bidirectiona  (None, 250, 512)         1140736   \n",
      " l)                                                              \n",
      "                                                                 \n",
      " bidirectional_1 (Bidirectio  (None, 512)              1574912   \n",
      " nal)                                                            \n",
      "                                                                 \n",
      " dense_1 (Dense)             (None, 1)                 513       \n",
      "                                                                 \n",
      "=================================================================\n",
      "Total params: 30,533,061\n",
      "Trainable params: 2,716,161\n",
      "Non-trainable params: 27,816,900\n",
      "_________________________________________________________________\n"
     ]
    }
   ],
   "source": [
    "BiLSTN_W2Vec.summary()"
   ]
  },
  {
   "cell_type": "code",
   "execution_count": 25,
   "id": "6b657499",
   "metadata": {
    "execution": {
     "iopub.execute_input": "2023-10-28T06:36:17.574140Z",
     "iopub.status.busy": "2023-10-28T06:36:17.573804Z",
     "iopub.status.idle": "2023-10-28T07:53:07.901838Z",
     "shell.execute_reply": "2023-10-28T07:53:07.900802Z"
    },
    "id": "VMd9HWmBfTge",
    "outputId": "bd7643ca-e90e-4f96-b673-d2dfd388ccc3",
    "papermill": {
     "duration": 4610.387372,
     "end_time": "2023-10-28T07:53:07.934452",
     "exception": false,
     "start_time": "2023-10-28T06:36:17.547080",
     "status": "completed"
    },
    "tags": []
   },
   "outputs": [
    {
     "name": "stdout",
     "output_type": "stream",
     "text": [
      "Epoch 1/47\n",
      "1240/1240 - 107s - loss: 0.4831 - accuracy: 0.7715 - val_loss: 0.3895 - val_accuracy: 0.8261 - 107s/epoch - 86ms/step\n",
      "Epoch 2/47\n",
      "1240/1240 - 98s - loss: 0.3496 - accuracy: 0.8511 - val_loss: 0.3347 - val_accuracy: 0.8615 - 98s/epoch - 79ms/step\n",
      "Epoch 3/47\n",
      "1240/1240 - 98s - loss: 0.3229 - accuracy: 0.8632 - val_loss: 0.2904 - val_accuracy: 0.8770 - 98s/epoch - 79ms/step\n",
      "Epoch 4/47\n",
      "1240/1240 - 98s - loss: 0.2972 - accuracy: 0.8773 - val_loss: 0.2689 - val_accuracy: 0.8905 - 98s/epoch - 79ms/step\n",
      "Epoch 5/47\n",
      "1240/1240 - 98s - loss: 0.2692 - accuracy: 0.8894 - val_loss: 0.2752 - val_accuracy: 0.8839 - 98s/epoch - 79ms/step\n",
      "Epoch 6/47\n",
      "1240/1240 - 98s - loss: 0.2514 - accuracy: 0.8962 - val_loss: 0.2628 - val_accuracy: 0.8945 - 98s/epoch - 79ms/step\n",
      "Epoch 7/47\n",
      "1240/1240 - 98s - loss: 0.2351 - accuracy: 0.9054 - val_loss: 0.2678 - val_accuracy: 0.8974 - 98s/epoch - 79ms/step\n",
      "Epoch 8/47\n",
      "1240/1240 - 98s - loss: 0.2262 - accuracy: 0.9091 - val_loss: 0.2669 - val_accuracy: 0.8957 - 98s/epoch - 79ms/step\n",
      "Epoch 9/47\n",
      "1240/1240 - 98s - loss: 0.2025 - accuracy: 0.9177 - val_loss: 0.2783 - val_accuracy: 0.8929 - 98s/epoch - 79ms/step\n",
      "Epoch 10/47\n",
      "1240/1240 - 98s - loss: 0.1867 - accuracy: 0.9256 - val_loss: 0.2643 - val_accuracy: 0.9004 - 98s/epoch - 79ms/step\n",
      "Epoch 11/47\n",
      "1240/1240 - 98s - loss: 0.1680 - accuracy: 0.9327 - val_loss: 0.2697 - val_accuracy: 0.8990 - 98s/epoch - 79ms/step\n",
      "Epoch 12/47\n",
      "1240/1240 - 98s - loss: 0.1463 - accuracy: 0.9426 - val_loss: 0.3210 - val_accuracy: 0.8944 - 98s/epoch - 79ms/step\n",
      "Epoch 13/47\n",
      "1240/1240 - 98s - loss: 0.1303 - accuracy: 0.9481 - val_loss: 0.2911 - val_accuracy: 0.8932 - 98s/epoch - 79ms/step\n",
      "Epoch 14/47\n",
      "1240/1240 - 98s - loss: 0.1153 - accuracy: 0.9542 - val_loss: 0.3299 - val_accuracy: 0.8991 - 98s/epoch - 79ms/step\n",
      "Epoch 15/47\n",
      "1240/1240 - 99s - loss: 0.1018 - accuracy: 0.9599 - val_loss: 0.3646 - val_accuracy: 0.8935 - 99s/epoch - 79ms/step\n",
      "Epoch 16/47\n",
      "1240/1240 - 98s - loss: 0.0848 - accuracy: 0.9672 - val_loss: 0.3889 - val_accuracy: 0.8966 - 98s/epoch - 79ms/step\n",
      "Epoch 17/47\n",
      "1240/1240 - 98s - loss: 0.0752 - accuracy: 0.9712 - val_loss: 0.3708 - val_accuracy: 0.8918 - 98s/epoch - 79ms/step\n",
      "Epoch 18/47\n",
      "1240/1240 - 98s - loss: 0.0654 - accuracy: 0.9752 - val_loss: 0.4695 - val_accuracy: 0.8881 - 98s/epoch - 79ms/step\n",
      "Epoch 19/47\n",
      "1240/1240 - 98s - loss: 0.0595 - accuracy: 0.9772 - val_loss: 0.4390 - val_accuracy: 0.8864 - 98s/epoch - 79ms/step\n",
      "Epoch 20/47\n",
      "1240/1240 - 98s - loss: 0.0534 - accuracy: 0.9802 - val_loss: 0.4939 - val_accuracy: 0.8950 - 98s/epoch - 79ms/step\n",
      "Epoch 21/47\n",
      "1240/1240 - 98s - loss: 0.0483 - accuracy: 0.9822 - val_loss: 0.5011 - val_accuracy: 0.8969 - 98s/epoch - 79ms/step\n",
      "Epoch 22/47\n",
      "1240/1240 - 98s - loss: 0.0421 - accuracy: 0.9844 - val_loss: 0.4681 - val_accuracy: 0.8920 - 98s/epoch - 79ms/step\n",
      "Epoch 23/47\n",
      "1240/1240 - 98s - loss: 0.0399 - accuracy: 0.9854 - val_loss: 0.5484 - val_accuracy: 0.8876 - 98s/epoch - 79ms/step\n",
      "Epoch 24/47\n",
      "1240/1240 - 98s - loss: 0.0380 - accuracy: 0.9866 - val_loss: 0.4708 - val_accuracy: 0.8953 - 98s/epoch - 79ms/step\n",
      "Epoch 25/47\n",
      "1240/1240 - 98s - loss: 0.0364 - accuracy: 0.9875 - val_loss: 0.4644 - val_accuracy: 0.8930 - 98s/epoch - 79ms/step\n",
      "Epoch 26/47\n",
      "1240/1240 - 98s - loss: 0.0316 - accuracy: 0.9893 - val_loss: 0.6205 - val_accuracy: 0.8826 - 98s/epoch - 79ms/step\n",
      "Epoch 27/47\n",
      "1240/1240 - 98s - loss: 0.0327 - accuracy: 0.9890 - val_loss: 0.4809 - val_accuracy: 0.8950 - 98s/epoch - 79ms/step\n",
      "Epoch 28/47\n",
      "1240/1240 - 98s - loss: 0.0302 - accuracy: 0.9889 - val_loss: 0.5063 - val_accuracy: 0.8987 - 98s/epoch - 79ms/step\n",
      "Epoch 29/47\n",
      "1240/1240 - 98s - loss: 0.0285 - accuracy: 0.9907 - val_loss: 0.4885 - val_accuracy: 0.8954 - 98s/epoch - 79ms/step\n",
      "Epoch 30/47\n",
      "1240/1240 - 98s - loss: 0.0287 - accuracy: 0.9904 - val_loss: 0.4838 - val_accuracy: 0.8942 - 98s/epoch - 79ms/step\n",
      "Epoch 31/47\n",
      "1240/1240 - 98s - loss: 0.0262 - accuracy: 0.9906 - val_loss: 0.4846 - val_accuracy: 0.8968 - 98s/epoch - 79ms/step\n",
      "Epoch 32/47\n",
      "1240/1240 - 98s - loss: 0.0266 - accuracy: 0.9909 - val_loss: 0.4901 - val_accuracy: 0.8946 - 98s/epoch - 79ms/step\n",
      "Epoch 33/47\n",
      "1240/1240 - 98s - loss: 0.0253 - accuracy: 0.9911 - val_loss: 0.4929 - val_accuracy: 0.8940 - 98s/epoch - 79ms/step\n",
      "Epoch 34/47\n",
      "1240/1240 - 98s - loss: 0.0220 - accuracy: 0.9925 - val_loss: 0.5302 - val_accuracy: 0.8933 - 98s/epoch - 79ms/step\n",
      "Epoch 35/47\n",
      "1240/1240 - 98s - loss: 0.0220 - accuracy: 0.9919 - val_loss: 0.5545 - val_accuracy: 0.8922 - 98s/epoch - 79ms/step\n",
      "Epoch 36/47\n",
      "1240/1240 - 98s - loss: 0.0217 - accuracy: 0.9925 - val_loss: 0.5394 - val_accuracy: 0.8974 - 98s/epoch - 79ms/step\n",
      "Epoch 37/47\n",
      "1240/1240 - 98s - loss: 0.0183 - accuracy: 0.9938 - val_loss: 0.5630 - val_accuracy: 0.8963 - 98s/epoch - 79ms/step\n",
      "Epoch 38/47\n",
      "1240/1240 - 98s - loss: 0.0218 - accuracy: 0.9924 - val_loss: 0.5354 - val_accuracy: 0.8974 - 98s/epoch - 79ms/step\n",
      "Epoch 39/47\n",
      "1240/1240 - 98s - loss: 0.0198 - accuracy: 0.9935 - val_loss: 0.5440 - val_accuracy: 0.8967 - 98s/epoch - 79ms/step\n",
      "Epoch 40/47\n",
      "1240/1240 - 98s - loss: 0.0192 - accuracy: 0.9934 - val_loss: 0.5646 - val_accuracy: 0.8945 - 98s/epoch - 79ms/step\n",
      "Epoch 41/47\n",
      "1240/1240 - 98s - loss: 0.0190 - accuracy: 0.9934 - val_loss: 0.5243 - val_accuracy: 0.8948 - 98s/epoch - 79ms/step\n",
      "Epoch 42/47\n",
      "1240/1240 - 98s - loss: 0.0176 - accuracy: 0.9938 - val_loss: 0.5096 - val_accuracy: 0.8920 - 98s/epoch - 79ms/step\n",
      "Epoch 43/47\n",
      "1240/1240 - 98s - loss: 0.0176 - accuracy: 0.9936 - val_loss: 0.5518 - val_accuracy: 0.8989 - 98s/epoch - 79ms/step\n",
      "Epoch 44/47\n",
      "1240/1240 - 98s - loss: 0.0179 - accuracy: 0.9940 - val_loss: 0.5845 - val_accuracy: 0.8928 - 98s/epoch - 79ms/step\n",
      "Epoch 45/47\n",
      "1240/1240 - 98s - loss: 0.0180 - accuracy: 0.9940 - val_loss: 0.5167 - val_accuracy: 0.8893 - 98s/epoch - 79ms/step\n",
      "Epoch 46/47\n",
      "1240/1240 - 98s - loss: 0.0151 - accuracy: 0.9944 - val_loss: 0.5441 - val_accuracy: 0.8956 - 98s/epoch - 79ms/step\n",
      "Epoch 47/47\n",
      "1240/1240 - 98s - loss: 0.0156 - accuracy: 0.9946 - val_loss: 0.5775 - val_accuracy: 0.8986 - 98s/epoch - 79ms/step\n"
     ]
    }
   ],
   "source": [
    "totalEpochs = 47\n",
    "history = BiLSTN_W2Vec.fit(XTrainPaddedsequence, Y_train, epochs=totalEpochs, validation_data=(XTestPaddedsequence, Y_test), verbose=2)"
   ]
  },
  {
   "cell_type": "code",
   "execution_count": 26,
   "id": "547a4cbc",
   "metadata": {
    "execution": {
     "iopub.execute_input": "2023-10-28T07:53:08.002085Z",
     "iopub.status.busy": "2023-10-28T07:53:08.001750Z",
     "iopub.status.idle": "2023-10-28T07:53:28.759493Z",
     "shell.execute_reply": "2023-10-28T07:53:28.758531Z"
    },
    "papermill": {
     "duration": 20.793406,
     "end_time": "2023-10-28T07:53:28.761520",
     "exception": false,
     "start_time": "2023-10-28T07:53:07.968114",
     "status": "completed"
    },
    "tags": []
   },
   "outputs": [
    {
     "name": "stdout",
     "output_type": "stream",
     "text": [
      "310/310 [==============================] - 9s 30ms/step\n",
      "Accuracy of BI-LSTM_WORD2VEC: 89.856%\n",
      "Precision of BI-LSTM_WORD2VEC: 88.562%\n",
      "Recall of BI-LSTM_WORD2VEC: 91.432%\n",
      "F1 score of BI-LSTM_WORD2VEC: 89.974%\n",
      "              precision    recall  f1-score   support\n",
      "\n",
      "           0       0.91      0.88      0.90      4980\n",
      "           1       0.89      0.91      0.90      4937\n",
      "\n",
      "    accuracy                           0.90      9917\n",
      "   macro avg       0.90      0.90      0.90      9917\n",
      "weighted avg       0.90      0.90      0.90      9917\n",
      "\n"
     ]
    },
    {
     "data": {
      "image/png": "[encoded data removed]",
      "text/plain": [
       "<Figure size 800x600 with 1 Axes>"
      ]
     },
     "metadata": {},
     "output_type": "display_data"
    }
   ],
   "source": [
    "model = BiLSTN_W2Vec\n",
    "\n",
    "predictions = model.predict(XTestPaddedsequence, verbose=0)\n",
    "\n",
    "predicted_sentiment = (model.predict(XTestPaddedsequence)>0.5).astype('int32')\n",
    "\n",
    "predictions = predictions[:, 0]\n",
    "predicted_sentiment = predicted_sentiment[:, 0]\n",
    "\n",
    "accuracy = accuracy_score(Y_test, predicted_sentiment) * 100\n",
    "precision = precision_score(Y_test, predicted_sentiment)* 100\n",
    "recall = recall_score(Y_test, predicted_sentiment)* 100\n",
    "f1 = f1_score(Y_test, predicted_sentiment)* 100\n",
    "\n",
    "print(f'Accuracy of BI-LSTM_WORD2VEC: {accuracy:.3f}%')\n",
    "print(f'Precision of BI-LSTM_WORD2VEC: {precision:.3f}%')\n",
    "print(f'Recall of BI-LSTM_WORD2VEC: {recall:.3f}%')\n",
    "print(f'F1 score of BI-LSTM_WORD2VEC: {f1:.3f}%')\n",
    "\n",
    "\n",
    "matrix = classification_report(Y_test, predicted_sentiment)\n",
    "print(matrix)\n",
    "\n",
    "\n",
    "plt.figure(figsize=(8, 6))\n",
    "false_positive_rate, true_positive_rate, thresholds = roc_curve(Y_test, predictions, pos_label=1)\n",
    "random_false_positive_rate, random_true_positive_rate, _ = roc_curve(Y_test, np.zeros(len(Y_test)), pos_label=1)\n",
    "auc_score = roc_auc_score(Y_test, predictions)\n",
    "\n",
    "plt.plot(false_positive_rate, true_positive_rate, linestyle='-', color='blue', label='BIDirectional-LSTM (AUC = {:.3f})'.format(auc_score))\n",
    "plt.plot(random_false_positive_rate, random_true_positive_rate, linestyle='--', color='orange')\n",
    "\n",
    "plt.title('Receiver Operating Characteristic (ROC) Curve')\n",
    "plt.xlabel('False Positive Rate')\n",
    "plt.ylabel('True Positive Rate')\n",
    "plt.legend(loc='best')\n",
    "plt.show()"
   ]
  },
  {
   "cell_type": "markdown",
   "id": "1e5926ce",
   "metadata": {
    "id": "dbDuIi9PfTgf",
    "papermill": {
     "duration": 0.044471,
     "end_time": "2023-10-28T07:53:28.851226",
     "exception": false,
     "start_time": "2023-10-28T07:53:28.806755",
     "status": "completed"
    },
    "tags": []
   },
   "source": [
    "## CNN-LSTM"
   ]
  },
  {
   "cell_type": "code",
   "execution_count": 27,
   "id": "fae58ac8",
   "metadata": {
    "execution": {
     "iopub.execute_input": "2023-10-28T07:53:28.942329Z",
     "iopub.status.busy": "2023-10-28T07:53:28.941439Z",
     "iopub.status.idle": "2023-10-28T07:53:29.445182Z",
     "shell.execute_reply": "2023-10-28T07:53:29.444225Z"
    },
    "papermill": {
     "duration": 0.554676,
     "end_time": "2023-10-28T07:53:29.450687",
     "exception": false,
     "start_time": "2023-10-28T07:53:28.896011",
     "status": "completed"
    },
    "tags": []
   },
   "outputs": [
    {
     "name": "stdout",
     "output_type": "stream",
     "text": [
      "Model: \"sequential_2\"\n",
      "_________________________________________________________________\n",
      " Layer (type)                Output Shape              Param #   \n",
      "=================================================================\n",
      " embedding_2 (Embedding)     (None, 250, 300)          27816900  \n",
      "                                                                 \n",
      " conv1d (Conv1D)             (None, 250, 32)           28832     \n",
      "                                                                 \n",
      " max_pooling1d (MaxPooling1D  (None, 125, 32)          0         \n",
      " )                                                               \n",
      "                                                                 \n",
      " lstm_3 (LSTM)               (None, 256)               295936    \n",
      "                                                                 \n",
      " dense_2 (Dense)             (None, 1)                 257       \n",
      "                                                                 \n",
      "=================================================================\n",
      "Total params: 28,141,925\n",
      "Trainable params: 325,025\n",
      "Non-trainable params: 27,816,900\n",
      "_________________________________________________________________\n"
     ]
    }
   ],
   "source": [
    "from tensorflow.keras.layers import Conv1D,MaxPooling1D\n",
    "\n",
    "dropofLSTM =0.3\n",
    "CNN_LSTM_W2Vec = Sequential()\n",
    "CNN_LSTM_W2Vec.add(Embedding(size_of_vocabulary, 300, input_length=Max_Review_Length, weights = [W2VecEmbeddings2d] , trainable = False))\n",
    "CNN_LSTM_W2Vec.add(Conv1D(filters=32, kernel_size=3, padding='same', activation='relu'))\n",
    "CNN_LSTM_W2Vec.add(MaxPooling1D(pool_size=2))\n",
    "CNN_LSTM_W2Vec.add(LSTM(lstm_units, dropout=dropofLSTM))\n",
    "CNN_LSTM_W2Vec.add(Dense(1, activation='sigmoid'))\n",
    "CNN_LSTM_W2Vec.compile(loss='binary_crossentropy', optimizer='adam', metrics=['accuracy'])\n",
    "CNN_LSTM_W2Vec.summary()"
   ]
  },
  {
   "cell_type": "code",
   "execution_count": 28,
   "id": "7663a0a1",
   "metadata": {
    "execution": {
     "iopub.execute_input": "2023-10-28T07:53:29.545098Z",
     "iopub.status.busy": "2023-10-28T07:53:29.544775Z",
     "iopub.status.idle": "2023-10-28T08:02:42.495518Z",
     "shell.execute_reply": "2023-10-28T08:02:42.494760Z"
    },
    "papermill": {
     "duration": 553.000145,
     "end_time": "2023-10-28T08:02:42.497558",
     "exception": false,
     "start_time": "2023-10-28T07:53:29.497413",
     "status": "completed"
    },
    "tags": []
   },
   "outputs": [
    {
     "name": "stdout",
     "output_type": "stream",
     "text": [
      "Epoch 1/47\n",
      "1240/1240 - 18s - loss: 0.3801 - accuracy: 0.8322 - val_loss: 0.3951 - val_accuracy: 0.8299 - 18s/epoch - 14ms/step\n",
      "Epoch 2/47\n",
      "1240/1240 - 12s - loss: 0.2998 - accuracy: 0.8782 - val_loss: 0.2727 - val_accuracy: 0.8878 - 12s/epoch - 9ms/step\n",
      "Epoch 3/47\n",
      "1240/1240 - 12s - loss: 0.2769 - accuracy: 0.8898 - val_loss: 0.2657 - val_accuracy: 0.8946 - 12s/epoch - 9ms/step\n",
      "Epoch 4/47\n",
      "1240/1240 - 12s - loss: 0.2568 - accuracy: 0.8970 - val_loss: 0.2736 - val_accuracy: 0.8893 - 12s/epoch - 9ms/step\n",
      "Epoch 5/47\n",
      "1240/1240 - 12s - loss: 0.2426 - accuracy: 0.9023 - val_loss: 0.2614 - val_accuracy: 0.8948 - 12s/epoch - 9ms/step\n",
      "Epoch 6/47\n",
      "1240/1240 - 12s - loss: 0.2262 - accuracy: 0.9108 - val_loss: 0.2658 - val_accuracy: 0.8947 - 12s/epoch - 9ms/step\n",
      "Epoch 7/47\n",
      "1240/1240 - 12s - loss: 0.2083 - accuracy: 0.9202 - val_loss: 0.2633 - val_accuracy: 0.8932 - 12s/epoch - 9ms/step\n",
      "Epoch 8/47\n",
      "1240/1240 - 12s - loss: 0.1986 - accuracy: 0.9240 - val_loss: 0.2927 - val_accuracy: 0.8843 - 12s/epoch - 9ms/step\n",
      "Epoch 9/47\n",
      "1240/1240 - 12s - loss: 0.1844 - accuracy: 0.9302 - val_loss: 0.3087 - val_accuracy: 0.8818 - 12s/epoch - 9ms/step\n",
      "Epoch 10/47\n",
      "1240/1240 - 12s - loss: 0.1768 - accuracy: 0.9324 - val_loss: 0.3619 - val_accuracy: 0.8558 - 12s/epoch - 9ms/step\n",
      "Epoch 11/47\n",
      "1240/1240 - 12s - loss: 0.1682 - accuracy: 0.9368 - val_loss: 0.2938 - val_accuracy: 0.8937 - 12s/epoch - 9ms/step\n",
      "Epoch 12/47\n",
      "1240/1240 - 12s - loss: 0.1617 - accuracy: 0.9383 - val_loss: 0.2864 - val_accuracy: 0.8940 - 12s/epoch - 9ms/step\n",
      "Epoch 13/47\n",
      "1240/1240 - 12s - loss: 0.1524 - accuracy: 0.9425 - val_loss: 0.2829 - val_accuracy: 0.8961 - 12s/epoch - 9ms/step\n",
      "Epoch 14/47\n",
      "1240/1240 - 12s - loss: 0.1448 - accuracy: 0.9445 - val_loss: 0.3381 - val_accuracy: 0.8794 - 12s/epoch - 9ms/step\n",
      "Epoch 15/47\n",
      "1240/1240 - 12s - loss: 0.1395 - accuracy: 0.9469 - val_loss: 0.3475 - val_accuracy: 0.8908 - 12s/epoch - 9ms/step\n",
      "Epoch 16/47\n",
      "1240/1240 - 12s - loss: 0.1312 - accuracy: 0.9507 - val_loss: 0.3379 - val_accuracy: 0.8755 - 12s/epoch - 9ms/step\n",
      "Epoch 17/47\n",
      "1240/1240 - 12s - loss: 0.1304 - accuracy: 0.9509 - val_loss: 0.3223 - val_accuracy: 0.8978 - 12s/epoch - 9ms/step\n",
      "Epoch 18/47\n",
      "1240/1240 - 12s - loss: 0.1238 - accuracy: 0.9541 - val_loss: 0.3263 - val_accuracy: 0.8943 - 12s/epoch - 9ms/step\n",
      "Epoch 19/47\n",
      "1240/1240 - 12s - loss: 0.1202 - accuracy: 0.9550 - val_loss: 0.2971 - val_accuracy: 0.8925 - 12s/epoch - 9ms/step\n",
      "Epoch 20/47\n",
      "1240/1240 - 12s - loss: 0.1147 - accuracy: 0.9578 - val_loss: 0.3102 - val_accuracy: 0.8849 - 12s/epoch - 9ms/step\n",
      "Epoch 21/47\n",
      "1240/1240 - 12s - loss: 0.1127 - accuracy: 0.9579 - val_loss: 0.4202 - val_accuracy: 0.8787 - 12s/epoch - 9ms/step\n",
      "Epoch 22/47\n",
      "1240/1240 - 12s - loss: 0.1077 - accuracy: 0.9589 - val_loss: 0.3137 - val_accuracy: 0.8943 - 12s/epoch - 9ms/step\n",
      "Epoch 23/47\n",
      "1240/1240 - 12s - loss: 0.1006 - accuracy: 0.9629 - val_loss: 0.3255 - val_accuracy: 0.8901 - 12s/epoch - 9ms/step\n",
      "Epoch 24/47\n",
      "1240/1240 - 12s - loss: 0.1014 - accuracy: 0.9627 - val_loss: 0.4126 - val_accuracy: 0.8778 - 12s/epoch - 9ms/step\n",
      "Epoch 25/47\n",
      "1240/1240 - 12s - loss: 0.0954 - accuracy: 0.9646 - val_loss: 0.3248 - val_accuracy: 0.8906 - 12s/epoch - 9ms/step\n",
      "Epoch 26/47\n",
      "1240/1240 - 12s - loss: 0.0926 - accuracy: 0.9654 - val_loss: 0.3351 - val_accuracy: 0.8909 - 12s/epoch - 9ms/step\n",
      "Epoch 27/47\n",
      "1240/1240 - 12s - loss: 0.0933 - accuracy: 0.9647 - val_loss: 0.3518 - val_accuracy: 0.8926 - 12s/epoch - 9ms/step\n",
      "Epoch 28/47\n",
      "1240/1240 - 12s - loss: 0.0873 - accuracy: 0.9675 - val_loss: 0.3763 - val_accuracy: 0.8886 - 12s/epoch - 9ms/step\n",
      "Epoch 29/47\n",
      "1240/1240 - 12s - loss: 0.0880 - accuracy: 0.9670 - val_loss: 0.3758 - val_accuracy: 0.8935 - 12s/epoch - 9ms/step\n",
      "Epoch 30/47\n",
      "1240/1240 - 12s - loss: 0.0839 - accuracy: 0.9681 - val_loss: 0.3800 - val_accuracy: 0.8920 - 12s/epoch - 9ms/step\n",
      "Epoch 31/47\n",
      "1240/1240 - 12s - loss: 0.0843 - accuracy: 0.9686 - val_loss: 0.3796 - val_accuracy: 0.8929 - 12s/epoch - 9ms/step\n",
      "Epoch 32/47\n",
      "1240/1240 - 12s - loss: 0.0803 - accuracy: 0.9701 - val_loss: 0.3941 - val_accuracy: 0.8924 - 12s/epoch - 9ms/step\n",
      "Epoch 33/47\n",
      "1240/1240 - 12s - loss: 0.0805 - accuracy: 0.9698 - val_loss: 0.3676 - val_accuracy: 0.8909 - 12s/epoch - 9ms/step\n",
      "Epoch 34/47\n",
      "1240/1240 - 12s - loss: 0.0771 - accuracy: 0.9723 - val_loss: 0.3995 - val_accuracy: 0.8882 - 12s/epoch - 9ms/step\n",
      "Epoch 35/47\n",
      "1240/1240 - 12s - loss: 0.0748 - accuracy: 0.9715 - val_loss: 0.3863 - val_accuracy: 0.8881 - 12s/epoch - 9ms/step\n",
      "Epoch 36/47\n",
      "1240/1240 - 12s - loss: 0.0705 - accuracy: 0.9732 - val_loss: 0.3873 - val_accuracy: 0.8859 - 12s/epoch - 9ms/step\n",
      "Epoch 37/47\n",
      "1240/1240 - 12s - loss: 0.0701 - accuracy: 0.9735 - val_loss: 0.3995 - val_accuracy: 0.8904 - 12s/epoch - 9ms/step\n",
      "Epoch 38/47\n",
      "1240/1240 - 12s - loss: 0.0710 - accuracy: 0.9734 - val_loss: 0.4168 - val_accuracy: 0.8891 - 12s/epoch - 9ms/step\n",
      "Epoch 39/47\n",
      "1240/1240 - 12s - loss: 0.0683 - accuracy: 0.9743 - val_loss: 0.4171 - val_accuracy: 0.8905 - 12s/epoch - 9ms/step\n",
      "Epoch 40/47\n",
      "1240/1240 - 12s - loss: 0.0671 - accuracy: 0.9747 - val_loss: 0.4111 - val_accuracy: 0.8874 - 12s/epoch - 9ms/step\n",
      "Epoch 41/47\n",
      "1240/1240 - 12s - loss: 0.0667 - accuracy: 0.9752 - val_loss: 0.4160 - val_accuracy: 0.8884 - 12s/epoch - 9ms/step\n",
      "Epoch 42/47\n",
      "1240/1240 - 12s - loss: 0.0662 - accuracy: 0.9747 - val_loss: 0.4714 - val_accuracy: 0.8746 - 12s/epoch - 9ms/step\n",
      "Epoch 43/47\n",
      "1240/1240 - 12s - loss: 0.0646 - accuracy: 0.9759 - val_loss: 0.4159 - val_accuracy: 0.8921 - 12s/epoch - 9ms/step\n",
      "Epoch 44/47\n",
      "1240/1240 - 12s - loss: 0.0604 - accuracy: 0.9781 - val_loss: 0.4292 - val_accuracy: 0.8846 - 12s/epoch - 9ms/step\n",
      "Epoch 45/47\n",
      "1240/1240 - 12s - loss: 0.0611 - accuracy: 0.9774 - val_loss: 0.4549 - val_accuracy: 0.8872 - 12s/epoch - 9ms/step\n",
      "Epoch 46/47\n",
      "1240/1240 - 12s - loss: 0.0603 - accuracy: 0.9774 - val_loss: 0.4398 - val_accuracy: 0.8904 - 12s/epoch - 9ms/step\n",
      "Epoch 47/47\n",
      "1240/1240 - 12s - loss: 0.0583 - accuracy: 0.9785 - val_loss: 0.4281 - val_accuracy: 0.8904 - 12s/epoch - 9ms/step\n"
     ]
    }
   ],
   "source": [
    "totalEpochs = 47\n",
    "history3 = CNN_LSTM_W2Vec.fit(XTrainPaddedsequence, Y_train, epochs=totalEpochs,validation_data=(XTestPaddedsequence, Y_test), verbose=2)"
   ]
  },
  {
   "cell_type": "code",
   "execution_count": 29,
   "id": "8bd0e1e9",
   "metadata": {
    "execution": {
     "iopub.execute_input": "2023-10-28T08:02:42.605147Z",
     "iopub.status.busy": "2023-10-28T08:02:42.604806Z",
     "iopub.status.idle": "2023-10-28T08:02:45.951220Z",
     "shell.execute_reply": "2023-10-28T08:02:45.950308Z"
    },
    "papermill": {
     "duration": 3.40265,
     "end_time": "2023-10-28T08:02:45.953571",
     "exception": false,
     "start_time": "2023-10-28T08:02:42.550921",
     "status": "completed"
    },
    "tags": []
   },
   "outputs": [
    {
     "name": "stdout",
     "output_type": "stream",
     "text": [
      "310/310 [==============================] - 1s 4ms/step\n",
      "Accuracy of CNNLSTM_WORD2VEC: 89.039%\n",
      "Precision of CNNLSTM_WORD2VEC: 88.764%\n",
      "Recall of CNNLSTM_WORD2VEC: 89.285%\n",
      "F1 score of CNNLSTM_WORD2VEC: 89.024%\n",
      "              precision    recall  f1-score   support\n",
      "\n",
      "           0       0.89      0.89      0.89      4980\n",
      "           1       0.89      0.89      0.89      4937\n",
      "\n",
      "    accuracy                           0.89      9917\n",
      "   macro avg       0.89      0.89      0.89      9917\n",
      "weighted avg       0.89      0.89      0.89      9917\n",
      "\n"
     ]
    },
    {
     "data": {
      "image/png": "[encoded data removed]",
      "text/plain": [
       "<Figure size 800x600 with 1 Axes>"
      ]
     },
     "metadata": {},
     "output_type": "display_data"
    }
   ],
   "source": [
    "model = CNN_LSTM_W2Vec\n",
    "\n",
    "predictions = model.predict(XTestPaddedsequence, verbose=0)\n",
    "\n",
    "predicted_sentiment = (model.predict(XTestPaddedsequence)>0.5).astype('int32')\n",
    "\n",
    "predictions = predictions[:, 0]\n",
    "predicted_sentiment = predicted_sentiment[:, 0]\n",
    "\n",
    "accuracy = accuracy_score(Y_test, predicted_sentiment) * 100\n",
    "precision = precision_score(Y_test, predicted_sentiment)* 100\n",
    "recall = recall_score(Y_test, predicted_sentiment)* 100\n",
    "f1 = f1_score(Y_test, predicted_sentiment)* 100\n",
    "\n",
    "print(f'Accuracy of CNNLSTM_WORD2VEC: {accuracy:.3f}%')\n",
    "print(f'Precision of CNNLSTM_WORD2VEC: {precision:.3f}%')\n",
    "print(f'Recall of CNNLSTM_WORD2VEC: {recall:.3f}%')\n",
    "print(f'F1 score of CNNLSTM_WORD2VEC: {f1:.3f}%')\n",
    "\n",
    "\n",
    "matrix = classification_report(Y_test, predicted_sentiment)\n",
    "print(matrix)\n",
    "\n",
    "\n",
    "\n",
    "\n",
    "plt.figure(figsize=(8, 6))\n",
    "false_positive_rate, true_positive_rate, thresholds = roc_curve(Y_test, predictions, pos_label=1)\n",
    "random_false_positive_rate, random_true_positive_rate, _ = roc_curve(Y_test, np.zeros(len(Y_test)), pos_label=1)\n",
    "auc_score = roc_auc_score(Y_test, predictions)\n",
    "\n",
    "plt.plot(false_positive_rate, true_positive_rate, linestyle='-', color='blue', label='CNN-LSTM (AUC = {:.3f})'.format(auc_score))\n",
    "plt.plot(random_false_positive_rate, random_true_positive_rate, linestyle='--', color='orange')\n",
    "\n",
    "plt.title('Receiver Operating Characteristic (ROC) Curve')\n",
    "plt.xlabel('False Positive Rate')\n",
    "plt.ylabel('True Positive Rate')\n",
    "plt.legend(loc='best')\n",
    "plt.show()"
   ]
  },
  {
   "cell_type": "code",
   "execution_count": 30,
   "id": "9157bc74",
   "metadata": {
    "execution": {
     "iopub.execute_input": "2023-10-28T08:02:46.068096Z",
     "iopub.status.busy": "2023-10-28T08:02:46.067751Z",
     "iopub.status.idle": "2023-10-28T08:02:46.074787Z",
     "shell.execute_reply": "2023-10-28T08:02:46.073885Z"
    },
    "papermill": {
     "duration": 0.066931,
     "end_time": "2023-10-28T08:02:46.076672",
     "exception": false,
     "start_time": "2023-10-28T08:02:46.009741",
     "status": "completed"
    },
    "tags": []
   },
   "outputs": [],
   "source": [
    "def removecontractionwords(foreachreview):\n",
    "    foreachreview = re.sub(r\"\\'re\", \" are\", foreachreview)\n",
    "    foreachreview = re.sub(r\"\\'s\", \" is\", foreachreview)\n",
    "    \n",
    "    foreachreview = re.sub(r\"\\'d\", \" would\", foreachreview)\n",
    "    foreachreview = re.sub(r\"\\'ll\", \" will\", foreachreview)\n",
    "    #seperating contractions of not\n",
    "    foreachreview = re.sub(r\"n\\'t\", \" not\", foreachreview)\n",
    "    foreachreview = re.sub(r\"\\'t\", \" not\", foreachreview)\n",
    "    foreachreview = re.sub(r\"won't\", \"will not\", foreachreview)\n",
    "    foreachreview = re.sub(r\"can\\'t\", \"can not\", foreachreview)\n",
    "    \n",
    "    foreachreview = re.sub(r\"\\'ve\", \" have\", foreachreview)\n",
    "    foreachreview = re.sub(r\"\\'m\", \" am\", foreachreview)\n",
    "    return foreachreview"
   ]
  },
  {
   "cell_type": "code",
   "execution_count": 31,
   "id": "7832a3d9",
   "metadata": {
    "execution": {
     "iopub.execute_input": "2023-10-28T08:02:46.190491Z",
     "iopub.status.busy": "2023-10-28T08:02:46.189851Z",
     "iopub.status.idle": "2023-10-28T08:02:46.303941Z",
     "shell.execute_reply": "2023-10-28T08:02:46.303078Z"
    },
    "papermill": {
     "duration": 0.17288,
     "end_time": "2023-10-28T08:02:46.305898",
     "exception": false,
     "start_time": "2023-10-28T08:02:46.133018",
     "status": "completed"
    },
    "tags": []
   },
   "outputs": [
    {
     "name": "stdout",
     "output_type": "stream",
     "text": [
      "\n",
      " A 8 Star Review from IMDB :\n",
      "  Now I am become death, the destroyer of worlds.\n",
      "synystargates6 August 2023\n",
      "Theory. Plutonium. Fire. Noise. Death. Morality. Compartmentalization. Oppenheimer.\n",
      "\n",
      "I'm halfway through my Barbenheimer journey, and it's my first in-theater Christopher Nolan experience! I liked what I saw a lot, I love a good borderline psychological horror deep dive into a tortured soul. A film like Spencer comes to mind after watching something like this.\n",
      "\n",
      "The moral conundrum between a scientific genius and the destruction he orchestrated is shown clearly in sequences before, during and after the bomb drops in Japan. The casting was perfect, the film is nothing short of a showcase in acting. It would've been nice to see more of Josh Peck and Devon Bostick, but everyone gives it their all here, especially Cillian Murphy & RDJ.\n",
      "\n",
      "The runtime might be intimidating for some, but it's worth it because in my opinion, not a second is wasted. And that test bomb drop might be one of the most insane things ever made for a film. My jaw legitimately dropped wide open and I couldn't believe how lucky I was to be experiencing this moment in the theater.\n",
      "1/1 [==============================] - 0s 29ms/step\n",
      "\n",
      "SENTIMENT : It is a Positive Review 🎬:) \n"
     ]
    }
   ],
   "source": [
    "preprocessed_Text =[]\n",
    "\n",
    "review= '''Now I am become death, the destroyer of worlds.\n",
    "synystargates6 August 2023\n",
    "Theory. Plutonium. Fire. Noise. Death. Morality. Compartmentalization. Oppenheimer.\n",
    "\n",
    "I'm halfway through my Barbenheimer journey, and it's my first in-theater Christopher Nolan experience! I liked what I saw a lot, I love a good borderline psychological horror deep dive into a tortured soul. A film like Spencer comes to mind after watching something like this.\n",
    "\n",
    "The moral conundrum between a scientific genius and the destruction he orchestrated is shown clearly in sequences before, during and after the bomb drops in Japan. The casting was perfect, the film is nothing short of a showcase in acting. It would've been nice to see more of Josh Peck and Devon Bostick, but everyone gives it their all here, especially Cillian Murphy & RDJ.\n",
    "\n",
    "The runtime might be intimidating for some, but it's worth it because in my opinion, not a second is wasted. And that test bomb drop might be one of the most insane things ever made for a film. My jaw legitimately dropped wide open and I couldn't believe how lucky I was to be experiencing this moment in the theater.''' \n",
    "print('\\n A 8 Star Review from IMDB :\\n ',review)\n",
    "for_each_review = re.sub(r\"http\\S+\", \"\", review)\n",
    "for_each_review = BeautifulSoup(for_each_review, 'html.parser').get_text()\n",
    "for_each_review = removecontractionwords(for_each_review)\n",
    "for_each_review = re.sub(\"\\S*\\d\\S*\", \"\", for_each_review).strip()\n",
    "for_each_review = re.sub('[^A-Za-z]+', ' ', for_each_review)\n",
    "for_each_review = ' '.join(word.lower() for word in for_each_review.split() \n",
    "                               if word.lower() not in stopwords.words('english'))\n",
    "preprocessed_Text.append(for_each_review.strip())\n",
    "\n",
    "\n",
    "\n",
    "token_sent = wrd.texts_to_sequences(preprocessed_Text)\n",
    "test_pad_seq = pad_sequences(token_sent, maxlen = Max_Review_Length,padding = forsmallerReviews, truncating = forlargerReviews)\n",
    "\n",
    "# Predict probabilities\n",
    "predicted_probs = BiLSTN_W2Vec.predict(test_pad_seq)\n",
    "\n",
    "# Convert probabilities to class predictions\n",
    "predicted_classes = (predicted_probs > 0.5).astype('int32')\n",
    "\n",
    "if predicted_classes[0][0] == 1 :\n",
    "    print(\"\\nSENTIMENT : It is a Positive Review 🎬:) \")\n",
    "else :\n",
    "    print(\"\\nSENTIMENT : It is a Negative Review 🎬:( \")"
   ]
  },
  {
   "cell_type": "code",
   "execution_count": 32,
   "id": "4a3ea0fb",
   "metadata": {
    "execution": {
     "iopub.execute_input": "2023-10-28T08:02:46.420178Z",
     "iopub.status.busy": "2023-10-28T08:02:46.419393Z",
     "iopub.status.idle": "2023-10-28T08:02:46.518613Z",
     "shell.execute_reply": "2023-10-28T08:02:46.517630Z"
    },
    "papermill": {
     "duration": 0.158008,
     "end_time": "2023-10-28T08:02:46.520598",
     "exception": false,
     "start_time": "2023-10-28T08:02:46.362590",
     "status": "completed"
    },
    "tags": []
   },
   "outputs": [
    {
     "name": "stdout",
     "output_type": "stream",
     "text": [
      "\n",
      "A 2 Star Review from IMDB :\n",
      "  They found a way to make a nuclear bomb boring.\n",
      "heatherworkmanrios30 July 2023\n",
      "As a science nerd and someone who used to be obsessed with the Manhattan project, nuclear bombs etc. This really couldn't have been much worse. There were maybe 15 minutes of interesting tidbits related to themes Oppenheimer actually dealt with in his life and the rest was just garbage. It's like they tried to make it into a romcom/political film that had very little to do with the actual interesting parts of Oppenheimer's life. I won't write spoilers, but I promise you there is not much to spoil. Endless drivel, dialog that literally put me to sleep for a few minutes.\n",
      "\n",
      "If you're interested in science and tech, just skip it. If you're interested in a good drama, skip it. If you like dull trials with too many actors and are really into dudes yelling every 5 minutes about \"russia\" or \"communists\" then go for it.\n",
      "1/1 [==============================] - 0s 28ms/step\n",
      "\n",
      " SENTIMENT : It is a Negative Review 🎬:( \n"
     ]
    }
   ],
   "source": [
    "preprocessed_Text =[]\n",
    "\n",
    "review= '''They found a way to make a nuclear bomb boring.\n",
    "heatherworkmanrios30 July 2023\n",
    "As a science nerd and someone who used to be obsessed with the Manhattan project, nuclear bombs etc. This really couldn't have been much worse. There were maybe 15 minutes of interesting tidbits related to themes Oppenheimer actually dealt with in his life and the rest was just garbage. It's like they tried to make it into a romcom/political film that had very little to do with the actual interesting parts of Oppenheimer's life. I won't write spoilers, but I promise you there is not much to spoil. Endless drivel, dialog that literally put me to sleep for a few minutes.\n",
    "\n",
    "If you're interested in science and tech, just skip it. If you're interested in a good drama, skip it. If you like dull trials with too many actors and are really into dudes yelling every 5 minutes about \"russia\" or \"communists\" then go for it.'''\n",
    "print('\\nA 2 Star Review from IMDB :\\n ',review)\n",
    "for_each_review = re.sub(r\"http\\S+\", \"\", review)\n",
    "for_each_review = BeautifulSoup(for_each_review, 'html.parser').get_text()\n",
    "for_each_review = removecontractionwords(for_each_review)\n",
    "for_each_review = re.sub(\"\\S*\\d\\S*\", \"\", for_each_review).strip()\n",
    "for_each_review = re.sub('[^A-Za-z]+', ' ', for_each_review)\n",
    "for_each_review = ' '.join(word.lower() for word in for_each_review.split() \n",
    "                               if word.lower() not in stopwords.words('english'))\n",
    "preprocessed_Text.append(for_each_review.strip())\n",
    "\n",
    "\n",
    "\n",
    "token_sent = wrd.texts_to_sequences(preprocessed_Text)\n",
    "test_pad_seq = pad_sequences(token_sent, maxlen = Max_Review_Length,padding = forsmallerReviews, truncating = forlargerReviews)\n",
    "\n",
    "# Predict probabilities\n",
    "predicted_probs = BiLSTN_W2Vec.predict(test_pad_seq)\n",
    "\n",
    "# Convert probabilities to class predictions\n",
    "predicted_classes = (predicted_probs > 0.5).astype('int32')\n",
    "\n",
    "if predicted_classes[0][0] == 1 :\n",
    "    print(\"\\n SENTIMENT : It is a Positive Review 🎬:) \")\n",
    "else :\n",
    "    print(\"\\n SENTIMENT : It is a Negative Review 🎬:( \")"
   ]
  }
 ],
 "metadata": {
  "kernelspec": {
   "display_name": "Python 3",
   "language": "python",
   "name": "python3"
  },
  "language_info": {
   "codemirror_mode": {
    "name": "ipython",
    "version": 3
   },
   "file_extension": ".py",
   "mimetype": "text/x-python",
   "name": "python",
   "nbconvert_exporter": "python",
   "pygments_lexer": "ipython3",
   "version": "3.10.12"
  },
  "papermill": {
   "default_parameters": {},
   "duration": 6349.036886,
   "end_time": "2023-10-28T08:02:50.108637",
   "environment_variables": {},
   "exception": null,
   "input_path": "__notebook__.ipynb",
   "output_path": "__notebook__.ipynb",
   "parameters": {},
   "start_time": "2023-10-28T06:17:01.071751",
   "version": "2.4.0"
  }
 },
 "nbformat": 4,
 "nbformat_minor": 5
}
