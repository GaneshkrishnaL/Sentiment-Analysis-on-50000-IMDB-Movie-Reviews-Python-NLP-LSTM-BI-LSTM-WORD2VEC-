{
 "cells": [
  {
   "cell_type": "code",
   "execution_count": 96,
   "id": "f6f89cbb",
   "metadata": {
    "_cell_guid": "b1076dfc-b9ad-4769-8c92-a6c4dae69d19",
    "_uuid": "8f2839f25d086af736a60e9eeb907d3b93b6e0e5",
    "execution": {
     "iopub.execute_input": "2023-10-24T05:05:35.323911Z",
     "iopub.status.busy": "2023-10-24T05:05:35.323554Z",
     "iopub.status.idle": "2023-10-24T05:05:45.698092Z",
     "shell.execute_reply": "2023-10-24T05:05:45.697224Z"
    },
    "id": "KGJe1qUmfTgI",
    "papermill": {
     "duration": 10.396348,
     "end_time": "2023-10-24T05:05:45.700652",
     "exception": false,
     "start_time": "2023-10-24T05:05:35.304304",
     "status": "completed"
    },
    "tags": []
   },
   "outputs": [],
   "source": [
    "import os\n",
    "import numpy as np\n",
    "import pandas as pd\n",
    "import warnings\n",
    "warnings.filterwarnings(\"ignore\")\n",
    "from tqdm import tqdm # using tqdm for progress bars."
   ]
  },
  {
   "cell_type": "markdown",
   "id": "be636b7a",
   "metadata": {
    "id": "8-761VF5fTgJ",
    "papermill": {
     "duration": 0.017471,
     "end_time": "2023-10-24T05:05:45.736468",
     "exception": false,
     "start_time": "2023-10-24T05:05:45.718997",
     "status": "completed"
    },
    "tags": []
   },
   "source": [
    "### Reading the moviereview data using pandas"
   ]
  },
  {
   "cell_type": "code",
   "execution_count": 4,
   "id": "8f40f6b8",
   "metadata": {
    "execution": {
     "iopub.execute_input": "2023-10-24T05:05:45.773000Z",
     "iopub.status.busy": "2023-10-24T05:05:45.772403Z",
     "iopub.status.idle": "2023-10-24T05:05:46.952790Z",
     "shell.execute_reply": "2023-10-24T05:05:46.951621Z"
    },
    "id": "pj9Kvlh4fTgK",
    "outputId": "00cbcf54-e3b0-411f-ec6f-3bf081bb36ac",
    "papermill": {
     "duration": 1.201808,
     "end_time": "2023-10-24T05:05:46.955690",
     "exception": false,
     "start_time": "2023-10-24T05:05:45.753882",
     "status": "completed"
    },
    "tags": []
   },
   "outputs": [],
   "source": [
    "# import all the training and testing data into a dataframe where 1 is positive, 0 is negative\n",
    "\n",
    "def read_TestTrain_files(folder_path):\n",
    "    movie_reviews = pd.DataFrame({'Review': [], 'Category': []})\n",
    "    folders = ['neg', 'pos']\n",
    "    \n",
    "    for f in folders:\n",
    "        path  = os.path.join(folder_path, f)\n",
    "        output = 1\n",
    "        if f == 'neg': \n",
    "            output = 0\n",
    "        for file in os.listdir(path):\n",
    "            rev_category = {'Review': open(f\"{path}/{file}\",encoding=\"utf8\").read(), 'Category': output}\n",
    "            movie_reviews.loc[len(movie_reviews)] = rev_category\n",
    "    return movie_reviews\n",
    "train_data_raw = read_TestTrain_files('C:/ML/aclImdb/train')\n",
    "test_data_raw = read_TestTrain_files('C:/ML/aclImdb/test') "
   ]
  },
  {
   "cell_type": "markdown",
   "id": "ca7a5788",
   "metadata": {},
   "source": [
    "## Appending train, test into single 50,000 movie review dataset"
   ]
  },
  {
   "cell_type": "code",
   "execution_count": 86,
   "id": "ee946b1b",
   "metadata": {
    "execution": {
     "iopub.execute_input": "2023-10-24T05:05:46.994263Z",
     "iopub.status.busy": "2023-10-24T05:05:46.993906Z",
     "iopub.status.idle": "2023-10-24T05:05:47.007469Z",
     "shell.execute_reply": "2023-10-24T05:05:47.006561Z"
    },
    "id": "_LBCBE8rfTgM",
    "outputId": "602c8fe4-61ec-49cd-99c9-9b9a64438b83",
    "papermill": {
     "duration": 0.035377,
     "end_time": "2023-10-24T05:05:47.009589",
     "exception": false,
     "start_time": "2023-10-24T05:05:46.974212",
     "status": "completed"
    },
    "tags": []
   },
   "outputs": [
    {
     "data": {
      "text/html": [
       "<div>\n",
       "<style scoped>\n",
       "    .dataframe tbody tr th:only-of-type {\n",
       "        vertical-align: middle;\n",
       "    }\n",
       "\n",
       "    .dataframe tbody tr th {\n",
       "        vertical-align: top;\n",
       "    }\n",
       "\n",
       "    .dataframe thead th {\n",
       "        text-align: right;\n",
       "    }\n",
       "</style>\n",
       "<table border=\"1\" class=\"dataframe\">\n",
       "  <thead>\n",
       "    <tr style=\"text-align: right;\">\n",
       "      <th></th>\n",
       "      <th>Review</th>\n",
       "      <th>Category</th>\n",
       "    </tr>\n",
       "  </thead>\n",
       "  <tbody>\n",
       "    <tr>\n",
       "      <th>0</th>\n",
       "      <td>Story of a man who has unnatural feelings for ...</td>\n",
       "      <td>0</td>\n",
       "    </tr>\n",
       "    <tr>\n",
       "      <th>1</th>\n",
       "      <td>Airport '77 starts as a brand new luxury 747 p...</td>\n",
       "      <td>0</td>\n",
       "    </tr>\n",
       "    <tr>\n",
       "      <th>2</th>\n",
       "      <td>This film lacked something I couldn't put my f...</td>\n",
       "      <td>0</td>\n",
       "    </tr>\n",
       "    <tr>\n",
       "      <th>3</th>\n",
       "      <td>Sorry everyone,,, I know this is supposed to b...</td>\n",
       "      <td>0</td>\n",
       "    </tr>\n",
       "    <tr>\n",
       "      <th>4</th>\n",
       "      <td>When I was little my parents took me along to ...</td>\n",
       "      <td>0</td>\n",
       "    </tr>\n",
       "    <tr>\n",
       "      <th>...</th>\n",
       "      <td>...</td>\n",
       "      <td>...</td>\n",
       "    </tr>\n",
       "    <tr>\n",
       "      <th>24995</th>\n",
       "      <td>I was extraordinarily impressed by this film. ...</td>\n",
       "      <td>1</td>\n",
       "    </tr>\n",
       "    <tr>\n",
       "      <th>24996</th>\n",
       "      <td>Although I'm not a golf fan, I attended a snea...</td>\n",
       "      <td>1</td>\n",
       "    </tr>\n",
       "    <tr>\n",
       "      <th>24997</th>\n",
       "      <td>From the start of \"The Edge Of Love\", the view...</td>\n",
       "      <td>1</td>\n",
       "    </tr>\n",
       "    <tr>\n",
       "      <th>24998</th>\n",
       "      <td>This movie, with all its complexity and subtle...</td>\n",
       "      <td>1</td>\n",
       "    </tr>\n",
       "    <tr>\n",
       "      <th>24999</th>\n",
       "      <td>I've seen this story before but my kids haven'...</td>\n",
       "      <td>1</td>\n",
       "    </tr>\n",
       "  </tbody>\n",
       "</table>\n",
       "<p>50000 rows × 2 columns</p>\n",
       "</div>"
      ],
      "text/plain": [
       "                                                  Review  Category\n",
       "0      Story of a man who has unnatural feelings for ...         0\n",
       "1      Airport '77 starts as a brand new luxury 747 p...         0\n",
       "2      This film lacked something I couldn't put my f...         0\n",
       "3      Sorry everyone,,, I know this is supposed to b...         0\n",
       "4      When I was little my parents took me along to ...         0\n",
       "...                                                  ...       ...\n",
       "24995  I was extraordinarily impressed by this film. ...         1\n",
       "24996  Although I'm not a golf fan, I attended a snea...         1\n",
       "24997  From the start of \"The Edge Of Love\", the view...         1\n",
       "24998  This movie, with all its complexity and subtle...         1\n",
       "24999  I've seen this story before but my kids haven'...         1\n",
       "\n",
       "[50000 rows x 2 columns]"
      ]
     },
     "execution_count": 86,
     "metadata": {},
     "output_type": "execute_result"
    }
   ],
   "source": [
    "traintest=[train_data_raw,test_data_raw]\n",
    "movie_reviews=pd.concat(traintest)\n",
    "movie_reviews"
   ]
  },
  {
   "cell_type": "markdown",
   "id": "25e3e8a8",
   "metadata": {},
   "source": [
    "### Dropping Null values"
   ]
  },
  {
   "cell_type": "code",
   "execution_count": 87,
   "id": "77f78183",
   "metadata": {
    "execution": {
     "iopub.execute_input": "2023-10-24T05:05:47.047588Z",
     "iopub.status.busy": "2023-10-24T05:05:47.047291Z",
     "iopub.status.idle": "2023-10-24T05:05:47.060054Z",
     "shell.execute_reply": "2023-10-24T05:05:47.059340Z"
    },
    "id": "MS9GyoRofTgP",
    "papermill": {
     "duration": 0.033903,
     "end_time": "2023-10-24T05:05:47.062141",
     "exception": false,
     "start_time": "2023-10-24T05:05:47.028238",
     "status": "completed"
    },
    "tags": []
   },
   "outputs": [],
   "source": [
    "movie_reviews=movie_reviews.dropna()"
   ]
  },
  {
   "cell_type": "markdown",
   "id": "c6cc803e",
   "metadata": {},
   "source": [
    "## Checking if there are duplicates"
   ]
  },
  {
   "cell_type": "code",
   "execution_count": 88,
   "id": "2b21be66",
   "metadata": {
    "execution": {
     "iopub.execute_input": "2023-10-24T05:05:47.100445Z",
     "iopub.status.busy": "2023-10-24T05:05:47.099888Z",
     "iopub.status.idle": "2023-10-24T05:05:47.286360Z",
     "shell.execute_reply": "2023-10-24T05:05:47.285324Z"
    },
    "id": "3ej_7DV1fTgQ",
    "outputId": "73878761-5b04-4824-c44a-6e9036f77956",
    "papermill": {
     "duration": 0.2083,
     "end_time": "2023-10-24T05:05:47.288366",
     "exception": false,
     "start_time": "2023-10-24T05:05:47.080066",
     "status": "completed"
    },
    "tags": []
   },
   "outputs": [
    {
     "name": "stdout",
     "output_type": "stream",
     "text": [
      "Number of duplicate Reviews :  418\n"
     ]
    }
   ],
   "source": [
    "duplicates = movie_reviews[movie_reviews.duplicated()]\n",
    "print('Number of duplicate Reviews : ',len(duplicates))"
   ]
  },
  {
   "cell_type": "code",
   "execution_count": 89,
   "id": "70b07054",
   "metadata": {
    "execution": {
     "iopub.execute_input": "2023-10-24T05:05:47.324130Z",
     "iopub.status.busy": "2023-10-24T05:05:47.323783Z",
     "iopub.status.idle": "2023-10-24T05:05:47.476665Z",
     "shell.execute_reply": "2023-10-24T05:05:47.475913Z"
    },
    "papermill": {
     "duration": 0.173344,
     "end_time": "2023-10-24T05:05:47.478854",
     "exception": false,
     "start_time": "2023-10-24T05:05:47.305510",
     "status": "completed"
    },
    "tags": []
   },
   "outputs": [],
   "source": [
    "movie_reviews = movie_reviews.drop_duplicates()\n",
    "movie_reviews.reset_index(inplace=True)\n",
    "movie_reviews = movie_reviews.drop([\"index\"],axis=1)"
   ]
  },
  {
   "cell_type": "markdown",
   "id": "c4d8b13e",
   "metadata": {
    "id": "w7p9X0l-fTgQ",
    "papermill": {
     "duration": 0.017013,
     "end_time": "2023-10-24T05:05:47.598431",
     "exception": false,
     "start_time": "2023-10-24T05:05:47.581418",
     "status": "completed"
    },
    "tags": []
   },
   "source": [
    "## Data Exploration"
   ]
  },
  {
   "cell_type": "code",
   "execution_count": 90,
   "id": "781a3853",
   "metadata": {
    "execution": {
     "iopub.execute_input": "2023-10-24T05:05:47.716447Z",
     "iopub.status.busy": "2023-10-24T05:05:47.715705Z",
     "iopub.status.idle": "2023-10-24T05:05:47.735194Z",
     "shell.execute_reply": "2023-10-24T05:05:47.734165Z"
    },
    "id": "pFWXUGLKfTgR",
    "outputId": "6ee995f0-a148-43f8-f4d0-6d7e3eeb6bde",
    "papermill": {
     "duration": 0.041642,
     "end_time": "2023-10-24T05:05:47.737374",
     "exception": false,
     "start_time": "2023-10-24T05:05:47.695732",
     "status": "completed"
    },
    "tags": []
   },
   "outputs": [
    {
     "data": {
      "text/html": [
       "<div>\n",
       "<style scoped>\n",
       "    .dataframe tbody tr th:only-of-type {\n",
       "        vertical-align: middle;\n",
       "    }\n",
       "\n",
       "    .dataframe tbody tr th {\n",
       "        vertical-align: top;\n",
       "    }\n",
       "\n",
       "    .dataframe thead th {\n",
       "        text-align: right;\n",
       "    }\n",
       "</style>\n",
       "<table border=\"1\" class=\"dataframe\">\n",
       "  <thead>\n",
       "    <tr style=\"text-align: right;\">\n",
       "      <th></th>\n",
       "      <th>Category</th>\n",
       "    </tr>\n",
       "  </thead>\n",
       "  <tbody>\n",
       "    <tr>\n",
       "      <th>count</th>\n",
       "      <td>49582.000000</td>\n",
       "    </tr>\n",
       "    <tr>\n",
       "      <th>mean</th>\n",
       "      <td>0.501876</td>\n",
       "    </tr>\n",
       "    <tr>\n",
       "      <th>std</th>\n",
       "      <td>0.500002</td>\n",
       "    </tr>\n",
       "    <tr>\n",
       "      <th>min</th>\n",
       "      <td>0.000000</td>\n",
       "    </tr>\n",
       "    <tr>\n",
       "      <th>25%</th>\n",
       "      <td>0.000000</td>\n",
       "    </tr>\n",
       "    <tr>\n",
       "      <th>50%</th>\n",
       "      <td>1.000000</td>\n",
       "    </tr>\n",
       "    <tr>\n",
       "      <th>75%</th>\n",
       "      <td>1.000000</td>\n",
       "    </tr>\n",
       "    <tr>\n",
       "      <th>max</th>\n",
       "      <td>1.000000</td>\n",
       "    </tr>\n",
       "  </tbody>\n",
       "</table>\n",
       "</div>"
      ],
      "text/plain": [
       "           Category\n",
       "count  49582.000000\n",
       "mean       0.501876\n",
       "std        0.500002\n",
       "min        0.000000\n",
       "25%        0.000000\n",
       "50%        1.000000\n",
       "75%        1.000000\n",
       "max        1.000000"
      ]
     },
     "execution_count": 90,
     "metadata": {},
     "output_type": "execute_result"
    }
   ],
   "source": [
    "movie_reviews.describe()"
   ]
  },
  {
   "cell_type": "code",
   "execution_count": 91,
   "id": "f1d5d886",
   "metadata": {
    "execution": {
     "iopub.execute_input": "2023-10-24T05:05:47.908683Z",
     "iopub.status.busy": "2023-10-24T05:05:47.908393Z",
     "iopub.status.idle": "2023-10-24T05:05:47.915955Z",
     "shell.execute_reply": "2023-10-24T05:05:47.915108Z"
    },
    "id": "m5F3wUhefTgS",
    "outputId": "c6ef4d16-17f9-4d07-8c2a-692e70537ca6",
    "papermill": {
     "duration": 0.027967,
     "end_time": "2023-10-24T05:05:47.917884",
     "exception": false,
     "start_time": "2023-10-24T05:05:47.889917",
     "status": "completed"
    },
    "tags": []
   },
   "outputs": [
    {
     "data": {
      "text/plain": [
       "Category\n",
       "1    24884\n",
       "0    24698\n",
       "Name: count, dtype: int64"
      ]
     },
     "execution_count": 91,
     "metadata": {},
     "output_type": "execute_result"
    }
   ],
   "source": [
    "movie_reviews['Category'].value_counts()"
   ]
  },
  {
   "cell_type": "markdown",
   "id": "372c947c",
   "metadata": {
    "id": "ibsCTv1kfTgS",
    "papermill": {
     "duration": 0.021211,
     "end_time": "2023-10-24T05:05:48.104360",
     "exception": false,
     "start_time": "2023-10-24T05:05:48.083149",
     "status": "completed"
    },
    "tags": []
   },
   "source": [
    "### Plotting Distribution of sentiments"
   ]
  },
  {
   "cell_type": "code",
   "execution_count": 93,
   "id": "01e1946e",
   "metadata": {
    "execution": {
     "iopub.execute_input": "2023-10-24T05:05:48.147494Z",
     "iopub.status.busy": "2023-10-24T05:05:48.147102Z",
     "iopub.status.idle": "2023-10-24T05:05:48.440324Z",
     "shell.execute_reply": "2023-10-24T05:05:48.439407Z"
    },
    "id": "ndsgcnopfTgS",
    "outputId": "2dd01f79-389e-4fe5-ab14-af5d26f46af3",
    "papermill": {
     "duration": 0.318125,
     "end_time": "2023-10-24T05:05:48.442333",
     "exception": false,
     "start_time": "2023-10-24T05:05:48.124208",
     "status": "completed"
    },
    "tags": []
   },
   "outputs": [
    {
     "data": {
      "text/plain": [
       "Text(0.5, 1.0, 'SENTIMENTS 1- POSITIVE, 0- NEGATIVE')"
      ]
     },
     "execution_count": 93,
     "metadata": {},
     "output_type": "execute_result"
    },
    {
     "data": {
      "image/png": "[encoded data removed]",
      "text/plain": [
       "<Figure size 400x300 with 1 Axes>"
      ]
     },
     "metadata": {},
     "output_type": "display_data"
    }
   ],
   "source": [
    "import matplotlib.pyplot as plt\n",
    "import seaborn as sns\n",
    "import re\n",
    "plt.figure(figsize=(4,3))\n",
    "sns.countplot(x='Category', data=movie_reviews)\n",
    "plt.title(\"SENTIMENTS 1- POSITIVE, 0- NEGATIVE\")"
   ]
  },
  {
   "cell_type": "markdown",
   "id": "8f12421c",
   "metadata": {
    "id": "pg1g11tffTgT",
    "papermill": {
     "duration": 0.018377,
     "end_time": "2023-10-24T05:05:48.479438",
     "exception": false,
     "start_time": "2023-10-24T05:05:48.461061",
     "status": "completed"
    },
    "tags": []
   },
   "source": [
    "## Movie Review preprocessing:"
   ]
  },
  {
   "cell_type": "code",
   "execution_count": 95,
   "id": "4a0fe415",
   "metadata": {
    "execution": {
     "iopub.execute_input": "2023-10-24T05:06:04.313287Z",
     "iopub.status.busy": "2023-10-24T05:06:04.312916Z",
     "iopub.status.idle": "2023-10-24T05:06:04.323281Z",
     "shell.execute_reply": "2023-10-24T05:06:04.322321Z"
    },
    "id": "CPP_c0NgfTgT",
    "papermill": {
     "duration": 0.035555,
     "end_time": "2023-10-24T05:06:04.325577",
     "exception": false,
     "start_time": "2023-10-24T05:06:04.290022",
     "status": "completed"
    },
    "tags": []
   },
   "outputs": [
    {
     "name": "stderr",
     "output_type": "stream",
     "text": [
      "[nltk_data] Downloading package stopwords to\n",
      "[nltk_data]     C:\\Users\\laksh\\AppData\\Roaming\\nltk_data...\n",
      "[nltk_data]   Package stopwords is already up-to-date!\n"
     ]
    }
   ],
   "source": [
    "import nltk\n",
    "from nltk.corpus import stopwords\n",
    "nltk.download('stopwords')\n",
    "import re\n",
    "#need to have bs4 installed using !pip install bs4\n",
    "from bs4 import BeautifulSoup\n",
    "\n",
    "def removecontractionwords(foreachreview):\n",
    "    foreachreview = re.sub(r\"\\'re\", \" are\", foreachreview)\n",
    "    foreachreview = re.sub(r\"\\'s\", \" is\", foreachreview)\n",
    "    \n",
    "    foreachreview = re.sub(r\"\\'d\", \" would\", foreachreview)\n",
    "    foreachreview = re.sub(r\"\\'ll\", \" will\", foreachreview)\n",
    "    #seperating contractions of not\n",
    "    foreachreview = re.sub(r\"n\\'t\", \" not\", foreachreview)\n",
    "    foreachreview = re.sub(r\"\\'t\", \" not\", foreachreview)\n",
    "    foreachreview = re.sub(r\"won't\", \"will not\", foreachreview)\n",
    "    foreachreview = re.sub(r\"can\\'t\", \"can not\", foreachreview)\n",
    "    \n",
    "    foreachreview = re.sub(r\"\\'ve\", \" have\", foreachreview)\n",
    "    foreachreview = re.sub(r\"\\'m\", \" am\", foreachreview)\n",
    "    return foreachreview"
   ]
  },
  {
   "cell_type": "code",
   "execution_count": 97,
   "id": "ac2ae2d8",
   "metadata": {
    "execution": {
     "iopub.execute_input": "2023-10-24T05:06:05.512753Z",
     "iopub.status.busy": "2023-10-24T05:06:05.512413Z",
     "iopub.status.idle": "2023-10-24T05:30:36.966481Z",
     "shell.execute_reply": "2023-10-24T05:30:36.965356Z"
    },
    "id": "0hxyBnelfTgT",
    "outputId": "84d98bc5-dc57-45bd-b9cf-8a82fd3d4bfb",
    "papermill": {
     "duration": 1471.477498,
     "end_time": "2023-10-24T05:30:36.968856",
     "exception": false,
     "start_time": "2023-10-24T05:06:05.491358",
     "status": "completed"
    },
    "tags": []
   },
   "outputs": [
    {
     "name": "stderr",
     "output_type": "stream",
     "text": [
      "100%|████████████████████████████████████████████████████████████████████████████| 49582/49582 [56:41<00:00, 14.58it/s]\n"
     ]
    }
   ],
   "source": [
    "preprocessed_Reviews = []\n",
    "\n",
    "for for_each_review in tqdm(movie_reviews['Review'].values):\n",
    "    for_each_review = re.sub(r\"http\\S+\", \"\", for_each_review)\n",
    "    for_each_review = BeautifulSoup(for_each_review, 'html.parser').get_text()\n",
    "    for_each_review = removecontractionwords(for_each_review)\n",
    "    for_each_review = re.sub(\"\\S*\\d\\S*\", \"\", for_each_review).strip()\n",
    "    for_each_review = re.sub('[^A-Za-z]+', ' ', for_each_review)\n",
    "    for_each_review = ' '.join(word.lower()\n",
    "                               for word in for_each_review.split() \n",
    "                               if word.lower() not in stopwords.words('english'))\n",
    "    preprocessed_Reviews.append(for_each_review.strip())"
   ]
  },
  {
   "cell_type": "code",
   "execution_count": 98,
   "id": "6ee197ee",
   "metadata": {
    "execution": {
     "iopub.execute_input": "2023-10-24T05:30:38.725725Z",
     "iopub.status.busy": "2023-10-24T05:30:38.724439Z",
     "iopub.status.idle": "2023-10-24T05:30:38.730372Z",
     "shell.execute_reply": "2023-10-24T05:30:38.729507Z"
    },
    "id": "GmigW59sfTgU",
    "outputId": "44deed7e-fea2-46dc-bb33-08ad1b5ff0ba",
    "papermill": {
     "duration": 0.931975,
     "end_time": "2023-10-24T05:30:38.732392",
     "exception": false,
     "start_time": "2023-10-24T05:30:37.800417",
     "status": "completed"
    },
    "tags": []
   },
   "outputs": [
    {
     "name": "stdout",
     "output_type": "stream",
     "text": [
      "\n",
      " original review :\n",
      "\n",
      "\n",
      "Story of a man who has unnatural feelings for a pig. Starts out with a opening scene that is a terrific example of absurd comedy. A formal orchestra audience is turned into an insane, violent mob by the crazy chantings of it's singers. Unfortunately it stays absurd the WHOLE time with no general narrative eventually making it just too off putting. Even those from the era should be turned off. The cryptic dialogue would make Shakespeare seem easy to a third grader. On a technical level it's better than you might think with some good cinematography by future great Vilmos Zsigmond. Future stars Sally Kirkland and Frederic Forrest can be seen briefly.\n",
      "\n",
      " preprocessed review :\n",
      "\n",
      "\n",
      "story man unnatural feelings pig starts opening scene terrific example absurd comedy formal orchestra audience turned insane violent mob crazy chantings singers unfortunately stays absurd whole time general narrative eventually making putting even era turned cryptic dialogue would make shakespeare seem easy third grader technical level better might think good cinematography future great vilmos zsigmond future stars sally kirkland frederic forrest seen briefly\n"
     ]
    }
   ],
   "source": [
    "print('\\n original review :\\n\\n')\n",
    "print(movie_reviews[\"Review\"][0])\n",
    "print('\\n preprocessed review :\\n\\n')\n",
    "print(preprocessed_Reviews[0])\n"
   ]
  },
  {
   "cell_type": "markdown",
   "id": "06e846e6",
   "metadata": {},
   "source": [
    "### Adding a column preprocessed_Reviews to the movie_reviews dataframe"
   ]
  },
  {
   "cell_type": "code",
   "execution_count": 99,
   "id": "e815f672",
   "metadata": {
    "execution": {
     "iopub.execute_input": "2023-10-24T05:30:40.397776Z",
     "iopub.status.busy": "2023-10-24T05:30:40.397422Z",
     "iopub.status.idle": "2023-10-24T05:30:40.409415Z",
     "shell.execute_reply": "2023-10-24T05:30:40.408683Z"
    },
    "id": "dbohJxPbfTgU",
    "papermill": {
     "duration": 0.857946,
     "end_time": "2023-10-24T05:30:40.411399",
     "exception": false,
     "start_time": "2023-10-24T05:30:39.553453",
     "status": "completed"
    },
    "tags": []
   },
   "outputs": [],
   "source": [
    "movie_reviews[\"preprocessed_Reviews\"] = preprocessed_Reviews "
   ]
  },
  {
   "cell_type": "markdown",
   "id": "6091f858",
   "metadata": {},
   "source": [
    "### Saving the preprocessed datasset"
   ]
  },
  {
   "cell_type": "code",
   "execution_count": 100,
   "id": "dded3068",
   "metadata": {
    "execution": {
     "iopub.execute_input": "2023-10-24T05:30:42.135804Z",
     "iopub.status.busy": "2023-10-24T05:30:42.134904Z",
     "iopub.status.idle": "2023-10-24T05:30:46.744208Z",
     "shell.execute_reply": "2023-10-24T05:30:46.742979Z"
    },
    "papermill": {
     "duration": 5.458817,
     "end_time": "2023-10-24T05:30:46.746681",
     "exception": false,
     "start_time": "2023-10-24T05:30:41.287864",
     "status": "completed"
    },
    "tags": []
   },
   "outputs": [],
   "source": [
    "movie_reviews.to_csv(\"movie_reviews_preprocessed.csv\",index=None)"
   ]
  },
  {
   "cell_type": "code",
   "execution_count": null,
   "id": "2eca69c8",
   "metadata": {},
   "outputs": [],
   "source": []
  }
 ],
 "metadata": {
  "kernelspec": {
   "display_name": "Python 3 (ipykernel)",
   "language": "python",
   "name": "python3"
  },
  "language_info": {
   "codemirror_mode": {
    "name": "ipython",
    "version": 3
   },
   "file_extension": ".py",
   "mimetype": "text/x-python",
   "name": "python",
   "nbconvert_exporter": "python",
   "pygments_lexer": "ipython3",
   "version": "3.10.10"
  },
  "papermill": {
   "default_parameters": {},
   "duration": 3395.853704,
   "end_time": "2023-10-24T06:02:07.371759",
   "environment_variables": {},
   "exception": null,
   "input_path": "__notebook__.ipynb",
   "output_path": "__notebook__.ipynb",
   "parameters": {},
   "start_time": "2023-10-24T05:05:31.518055",
   "version": "2.4.0"
  }
 },
 "nbformat": 4,
 "nbformat_minor": 5
}
